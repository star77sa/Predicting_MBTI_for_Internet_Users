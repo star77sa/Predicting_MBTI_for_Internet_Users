{
 "cells": [
  {
   "cell_type": "markdown",
   "id": "b895dce9",
   "metadata": {
    "papermill": {
     "duration": 0.05475,
     "end_time": "2022-01-24T11:33:29.924313",
     "exception": false,
     "start_time": "2022-01-24T11:33:29.869563",
     "status": "completed"
    },
    "tags": []
   },
   "source": [
    "# Importing libraries"
   ]
  },
  {
   "cell_type": "code",
   "execution_count": 7,
   "id": "8a7dec48",
   "metadata": {
    "papermill": {
     "duration": 11.507019,
     "end_time": "2022-01-24T11:33:41.485611",
     "exception": false,
     "start_time": "2022-01-24T11:33:29.978592",
     "status": "completed"
    },
    "tags": []
   },
   "outputs": [],
   "source": [
    "import pandas as pd\n",
    "\n",
    "from sklearn.model_selection import train_test_split\n",
    "from sklearn.feature_extraction.text import TfidfVectorizer\n",
    "from sklearn.svm import LinearSVC\n",
    "from sklearn.pipeline import Pipeline\n",
    "from sklearn import metrics\n",
    "from sklearn.metrics import classification_report, f1_score\n",
    "\n",
    "import plotly.offline as pyo\n",
    "import plotly.graph_objs as go\n",
    "\n",
    "import re\n",
    "\n",
    "from nltk.stem import WordNetLemmatizer\n",
    "\n",
    "from tqdm import tqdm"
   ]
  },
  {
   "cell_type": "code",
   "execution_count": 8,
   "id": "d762d1b9-995b-49a8-93ed-a39ce802f31a",
   "metadata": {},
   "outputs": [],
   "source": [
    "import warnings\n",
    "warnings.filterwarnings(action='ignore') "
   ]
  },
  {
   "cell_type": "markdown",
   "id": "10d690fe",
   "metadata": {
    "papermill": {
     "duration": 0.056141,
     "end_time": "2022-01-24T11:33:47.879258",
     "exception": false,
     "start_time": "2022-01-24T11:33:47.823117",
     "status": "completed"
    },
    "tags": []
   },
   "source": [
    "# 데이터 불러오기"
   ]
  },
  {
   "cell_type": "code",
   "execution_count": 9,
   "id": "68b80ab5-e65b-4ee1-8479-edf860e98e55",
   "metadata": {},
   "outputs": [],
   "source": [
    "df = pd.read_csv('G://내 드라이브/Github/Predictiong_MBTI_for_Internet_Users/MBTI 500.csv', encoding='ISO-8859-1')"
   ]
  },
  {
   "cell_type": "code",
   "execution_count": 10,
   "id": "2dfbd2fb",
   "metadata": {
    "papermill": {
     "duration": 0.080555,
     "end_time": "2022-01-24T11:33:56.825360",
     "exception": false,
     "start_time": "2022-01-24T11:33:56.744805",
     "status": "completed"
    },
    "tags": []
   },
   "outputs": [],
   "source": [
    "df.columns = ['text', 'type']\n",
    "df = df[['type', 'text']]"
   ]
  },
  {
   "cell_type": "code",
   "execution_count": 11,
   "id": "e3b0f0d9-bda3-4326-8652-563c4e9631f0",
   "metadata": {},
   "outputs": [
    {
     "data": {
      "text/html": [
       "<div>\n",
       "<style scoped>\n",
       "    .dataframe tbody tr th:only-of-type {\n",
       "        vertical-align: middle;\n",
       "    }\n",
       "\n",
       "    .dataframe tbody tr th {\n",
       "        vertical-align: top;\n",
       "    }\n",
       "\n",
       "    .dataframe thead th {\n",
       "        text-align: right;\n",
       "    }\n",
       "</style>\n",
       "<table border=\"1\" class=\"dataframe\">\n",
       "  <thead>\n",
       "    <tr style=\"text-align: right;\">\n",
       "      <th></th>\n",
       "      <th>type</th>\n",
       "      <th>text</th>\n",
       "    </tr>\n",
       "  </thead>\n",
       "  <tbody>\n",
       "    <tr>\n",
       "      <th>0</th>\n",
       "      <td>INTJ</td>\n",
       "      <td>know intj tool use interaction people excuse a...</td>\n",
       "    </tr>\n",
       "    <tr>\n",
       "      <th>1</th>\n",
       "      <td>INTJ</td>\n",
       "      <td>rap music ehh opp yeah know valid well know fa...</td>\n",
       "    </tr>\n",
       "    <tr>\n",
       "      <th>2</th>\n",
       "      <td>INTJ</td>\n",
       "      <td>preferably p hd low except wew lad video p min...</td>\n",
       "    </tr>\n",
       "    <tr>\n",
       "      <th>3</th>\n",
       "      <td>INTJ</td>\n",
       "      <td>drink like wish could drink red wine give head...</td>\n",
       "    </tr>\n",
       "    <tr>\n",
       "      <th>4</th>\n",
       "      <td>INTJ</td>\n",
       "      <td>space program ah bad deal meing freelance max ...</td>\n",
       "    </tr>\n",
       "  </tbody>\n",
       "</table>\n",
       "</div>"
      ],
      "text/plain": [
       "   type                                               text\n",
       "0  INTJ  know intj tool use interaction people excuse a...\n",
       "1  INTJ  rap music ehh opp yeah know valid well know fa...\n",
       "2  INTJ  preferably p hd low except wew lad video p min...\n",
       "3  INTJ  drink like wish could drink red wine give head...\n",
       "4  INTJ  space program ah bad deal meing freelance max ..."
      ]
     },
     "execution_count": 11,
     "metadata": {},
     "output_type": "execute_result"
    }
   ],
   "source": [
    "df.head()"
   ]
  },
  {
   "cell_type": "code",
   "execution_count": 12,
   "id": "95cec341",
   "metadata": {
    "papermill": {
     "duration": 0.074413,
     "end_time": "2022-01-24T11:33:57.351624",
     "exception": false,
     "start_time": "2022-01-24T11:33:57.277211",
     "status": "completed"
    },
    "tags": []
   },
   "outputs": [
    {
     "name": "stdout",
     "output_type": "stream",
     "text": [
      "Total of 16 types of classified MBTI posts\n"
     ]
    }
   ],
   "source": [
    "print(f\"Total of {len(df['type'].unique())} types of classified MBTI posts\")"
   ]
  },
  {
   "cell_type": "markdown",
   "id": "52fa11bc",
   "metadata": {
    "papermill": {
     "duration": 0.05676,
     "end_time": "2022-01-24T11:33:59.432290",
     "exception": false,
     "start_time": "2022-01-24T11:33:59.375530",
     "status": "completed"
    },
    "tags": []
   },
   "source": [
    "# 데이터 전처리 / Train, Validation, Test 분할"
   ]
  },
  {
   "cell_type": "code",
   "execution_count": 13,
   "id": "b774c956-37e2-436f-b61a-4f4eee40c700",
   "metadata": {},
   "outputs": [
    {
     "name": "stderr",
     "output_type": "stream",
     "text": [
      "100%|████████████████████████████████████████████████████████████████████████| 106067/106067 [00:26<00:00, 3964.93it/s]\n"
     ]
    }
   ],
   "source": [
    "#function to clean the text data\n",
    "def clear_text(data):\n",
    "    data_length=[]\n",
    "    lemmatizer=WordNetLemmatizer()\n",
    "    cleaned_text=[]\n",
    "    for sentence in tqdm(data.text):\n",
    "        sentence=sentence.lower()\n",
    "#         removing links from text data\n",
    "        sentence=re.sub('https?://[^\\s<>\"]+|www\\.[^\\s<>\"]+',' ',sentence)\n",
    "#         removing other symbols\n",
    "        sentence=re.sub('[^0-9a-z]',' ',sentence)\n",
    "        data_length.append(len(sentence.split()))\n",
    "        cleaned_text.append(sentence)\n",
    "    return cleaned_text,data_length\n",
    "\n",
    "df.text, _=clear_text(df)"
   ]
  },
  {
   "cell_type": "code",
   "execution_count": 14,
   "id": "591469f7-7443-4ae0-926a-d8463ea0ee1b",
   "metadata": {},
   "outputs": [
    {
     "data": {
      "text/html": [
       "<div>\n",
       "<style scoped>\n",
       "    .dataframe tbody tr th:only-of-type {\n",
       "        vertical-align: middle;\n",
       "    }\n",
       "\n",
       "    .dataframe tbody tr th {\n",
       "        vertical-align: top;\n",
       "    }\n",
       "\n",
       "    .dataframe thead th {\n",
       "        text-align: right;\n",
       "    }\n",
       "</style>\n",
       "<table border=\"1\" class=\"dataframe\">\n",
       "  <thead>\n",
       "    <tr style=\"text-align: right;\">\n",
       "      <th></th>\n",
       "      <th>type</th>\n",
       "      <th>text</th>\n",
       "    </tr>\n",
       "  </thead>\n",
       "  <tbody>\n",
       "    <tr>\n",
       "      <th>0</th>\n",
       "      <td>INTJ</td>\n",
       "      <td>know intj tool use interaction people excuse a...</td>\n",
       "    </tr>\n",
       "    <tr>\n",
       "      <th>1</th>\n",
       "      <td>INTJ</td>\n",
       "      <td>rap music ehh opp yeah know valid well know fa...</td>\n",
       "    </tr>\n",
       "    <tr>\n",
       "      <th>2</th>\n",
       "      <td>INTJ</td>\n",
       "      <td>preferably p hd low except wew lad video p min...</td>\n",
       "    </tr>\n",
       "    <tr>\n",
       "      <th>3</th>\n",
       "      <td>INTJ</td>\n",
       "      <td>drink like wish could drink red wine give head...</td>\n",
       "    </tr>\n",
       "    <tr>\n",
       "      <th>4</th>\n",
       "      <td>INTJ</td>\n",
       "      <td>space program ah bad deal meing freelance max ...</td>\n",
       "    </tr>\n",
       "    <tr>\n",
       "      <th>...</th>\n",
       "      <td>...</td>\n",
       "      <td>...</td>\n",
       "    </tr>\n",
       "    <tr>\n",
       "      <th>106062</th>\n",
       "      <td>INFP</td>\n",
       "      <td>stay frustrate world life want take long nap w...</td>\n",
       "    </tr>\n",
       "    <tr>\n",
       "      <th>106063</th>\n",
       "      <td>INFP</td>\n",
       "      <td>fizzle around time mention sure mistake thing ...</td>\n",
       "    </tr>\n",
       "    <tr>\n",
       "      <th>106064</th>\n",
       "      <td>INFP</td>\n",
       "      <td>schedule modify hey w intp strong wing underst...</td>\n",
       "    </tr>\n",
       "    <tr>\n",
       "      <th>106065</th>\n",
       "      <td>INFP</td>\n",
       "      <td>enfj since january busy schedule able spend li...</td>\n",
       "    </tr>\n",
       "    <tr>\n",
       "      <th>106066</th>\n",
       "      <td>INFP</td>\n",
       "      <td>feel like men good problem tell parent want te...</td>\n",
       "    </tr>\n",
       "  </tbody>\n",
       "</table>\n",
       "<p>106067 rows × 2 columns</p>\n",
       "</div>"
      ],
      "text/plain": [
       "        type                                               text\n",
       "0       INTJ  know intj tool use interaction people excuse a...\n",
       "1       INTJ  rap music ehh opp yeah know valid well know fa...\n",
       "2       INTJ  preferably p hd low except wew lad video p min...\n",
       "3       INTJ  drink like wish could drink red wine give head...\n",
       "4       INTJ  space program ah bad deal meing freelance max ...\n",
       "...      ...                                                ...\n",
       "106062  INFP  stay frustrate world life want take long nap w...\n",
       "106063  INFP  fizzle around time mention sure mistake thing ...\n",
       "106064  INFP  schedule modify hey w intp strong wing underst...\n",
       "106065  INFP  enfj since january busy schedule able spend li...\n",
       "106066  INFP  feel like men good problem tell parent want te...\n",
       "\n",
       "[106067 rows x 2 columns]"
      ]
     },
     "execution_count": 14,
     "metadata": {},
     "output_type": "execute_result"
    }
   ],
   "source": [
    "df"
   ]
  },
  {
   "cell_type": "markdown",
   "id": "fa825935-0f47-4a16-85fe-567ebf414374",
   "metadata": {},
   "source": [
    "## Train : Valid : Test = 7:1:2"
   ]
  },
  {
   "cell_type": "code",
   "execution_count": 15,
   "id": "73c75344",
   "metadata": {
    "papermill": {
     "duration": 0.093136,
     "end_time": "2022-01-24T11:33:59.583273",
     "exception": false,
     "start_time": "2022-01-24T11:33:59.490137",
     "status": "completed"
    },
    "tags": []
   },
   "outputs": [],
   "source": [
    "X = df['text'] # features\n",
    "y = df['type']  # labels\n",
    "\n",
    "X_train, X_test, y_train, y_test = train_test_split(X, y, test_size=0.2, random_state=42)\n",
    "X_train, X_val, y_train, y_val = train_test_split(X_train, y_train, test_size=0.125, random_state=42)"
   ]
  },
  {
   "cell_type": "code",
   "execution_count": 37,
   "id": "0816c55e-3a9f-4208-8029-4b99509f3e6c",
   "metadata": {
    "jupyter": {
     "source_hidden": true
    },
    "tags": []
   },
   "outputs": [
    {
     "data": {
      "text/plain": [
       "106067"
      ]
     },
     "execution_count": 37,
     "metadata": {},
     "output_type": "execute_result"
    }
   ],
   "source": [
    "len(df)"
   ]
  },
  {
   "cell_type": "code",
   "execution_count": 38,
   "id": "2d96d3ad-8c8c-46c4-8d26-c908cc211e14",
   "metadata": {
    "jupyter": {
     "source_hidden": true
    },
    "tags": []
   },
   "outputs": [
    {
     "data": {
      "text/plain": [
       "106067"
      ]
     },
     "execution_count": 38,
     "metadata": {},
     "output_type": "execute_result"
    }
   ],
   "source": [
    "len(X_train)+len(X_val)+len(X_test)"
   ]
  },
  {
   "cell_type": "code",
   "execution_count": 39,
   "id": "4f06282b-5429-45d2-b9ec-c73c466860a3",
   "metadata": {
    "jupyter": {
     "source_hidden": true
    },
    "tags": []
   },
   "outputs": [
    {
     "name": "stdout",
     "output_type": "stream",
     "text": [
      "0.6999915147972507\n",
      "0.1000028284009164\n",
      "0.2000056568018328\n"
     ]
    }
   ],
   "source": [
    "print(len(X_train)/len(df))\n",
    "\n",
    "print(len(X_val)/len(df))\n",
    "\n",
    "print(len(X_test)/len(df))"
   ]
  },
  {
   "cell_type": "markdown",
   "id": "b9da3d5b-110c-4436-87e7-3ac02daa54ab",
   "metadata": {},
   "source": [
    "# Train"
   ]
  },
  {
   "cell_type": "markdown",
   "id": "549cf699-f150-489f-9465-fb378c4c16be",
   "metadata": {},
   "source": [
    "## Tf-idf벡터화"
   ]
  },
  {
   "cell_type": "code",
   "execution_count": 16,
   "id": "43b3dd15-b67a-4ddb-a993-0382188455c9",
   "metadata": {},
   "outputs": [],
   "source": [
    "# Creating an instance to vectorizer:\n",
    "vectorizer = TfidfVectorizer(sublinear_tf = True)\n",
    "    \n",
    "# Training the vectorizer:\n",
    "X_train_tfidf = vectorizer.fit_transform(X_train)"
   ]
  },
  {
   "cell_type": "code",
   "execution_count": 17,
   "id": "f20222cf-c873-4baf-b524-9379f1d946e1",
   "metadata": {},
   "outputs": [
    {
     "data": {
      "text/plain": [
       "<74246x206769 sparse matrix of type '<class 'numpy.float64'>'\n",
       "\twith 24954105 stored elements in Compressed Sparse Row format>"
      ]
     },
     "execution_count": 17,
     "metadata": {},
     "output_type": "execute_result"
    }
   ],
   "source": [
    "X_train_tfidf"
   ]
  },
  {
   "cell_type": "code",
   "execution_count": 22,
   "id": "6a3a31fe-aa1b-4e3d-a2c5-8db367f94d15",
   "metadata": {},
   "outputs": [
    {
     "data": {
      "text/plain": [
       "LinearSVC()"
      ]
     },
     "execution_count": 22,
     "metadata": {},
     "output_type": "execute_result"
    }
   ],
   "source": [
    "\n",
    "# Training the classifier: SVM   \n",
    "clf1 = LinearSVC()#(C = 0.475)\n",
    "clf1.fit(X_train_tfidf, y_train)"
   ]
  },
  {
   "cell_type": "code",
   "execution_count": 18,
   "id": "1b492c19-591e-4b42-b069-104102ff94ce",
   "metadata": {},
   "outputs": [
    {
     "data": {
      "text/plain": [
       "LogisticRegression()"
      ]
     },
     "execution_count": 18,
     "metadata": {},
     "output_type": "execute_result"
    }
   ],
   "source": [
    "from sklearn.linear_model import LogisticRegression\n",
    "\n",
    "# Training the classifier: LogisticRegression   \n",
    "clf2 = LogisticRegression()\n",
    "clf2.fit(X_train_tfidf, y_train)"
   ]
  },
  {
   "cell_type": "code",
   "execution_count": 23,
   "id": "c952d553-6691-47d3-bee9-c19fefbcfbe1",
   "metadata": {},
   "outputs": [
    {
     "data": {
      "text/plain": [
       "RandomForestClassifier()"
      ]
     },
     "execution_count": 23,
     "metadata": {},
     "output_type": "execute_result"
    }
   ],
   "source": [
    "from sklearn.ensemble import RandomForestClassifier\n",
    "\n",
    "# Training the classifier: LogisticRegression   \n",
    "clf3 = RandomForestClassifier()\n",
    "clf3.fit(X_train_tfidf, y_train)"
   ]
  },
  {
   "cell_type": "markdown",
   "id": "41c437f7-0b52-4118-bc22-809565d015d2",
   "metadata": {},
   "source": [
    "---"
   ]
  },
  {
   "cell_type": "code",
   "execution_count": 37,
   "id": "3e54d9da-cfc4-4904-afea-cba8886d6eef",
   "metadata": {},
   "outputs": [],
   "source": [
    "# Pipelining the vectorizer and the classifier\n",
    "text_clf1 = Pipeline([('tfidf',TfidfVectorizer(sublinear_tf = True)),('clf',LinearSVC())])"
   ]
  },
  {
   "cell_type": "code",
   "execution_count": 19,
   "id": "c5479b25-c63f-440c-9990-bee2d83a2900",
   "metadata": {},
   "outputs": [],
   "source": [
    "# Pipelining the vectorizer and the classifier\n",
    "text_clf2 = Pipeline([('tfidf',TfidfVectorizer(sublinear_tf = True)),('clf',LogisticRegression())])"
   ]
  },
  {
   "cell_type": "code",
   "execution_count": 25,
   "id": "4911079b-b89f-4e68-964f-468a44b8f15c",
   "metadata": {},
   "outputs": [],
   "source": [
    "# Pipelining the vectorizer and the classifier\n",
    "text_clf3 = Pipeline([('tfidf',TfidfVectorizer(sublinear_tf = True)),('clf',RandomForestClassifier())])"
   ]
  },
  {
   "cell_type": "code",
   "execution_count": 38,
   "id": "da8ce2cd-b4b4-44f3-9799-863d6633eafa",
   "metadata": {},
   "outputs": [
    {
     "data": {
      "text/plain": [
       "Pipeline(steps=[('tfidf', TfidfVectorizer(sublinear_tf=True)),\n",
       "                ('clf', LinearSVC())])"
      ]
     },
     "execution_count": 38,
     "metadata": {},
     "output_type": "execute_result"
    }
   ],
   "source": [
    "text_clf1.fit(X_train, y_train)"
   ]
  },
  {
   "cell_type": "code",
   "execution_count": 27,
   "id": "e50877a2-6d68-48c4-b339-8e2630f0cd67",
   "metadata": {},
   "outputs": [
    {
     "data": {
      "text/plain": [
       "Pipeline(steps=[('tfidf', TfidfVectorizer(sublinear_tf=True)),\n",
       "                ('clf', LogisticRegression())])"
      ]
     },
     "execution_count": 27,
     "metadata": {},
     "output_type": "execute_result"
    }
   ],
   "source": [
    "text_clf2.fit(X_train, y_train)"
   ]
  },
  {
   "cell_type": "code",
   "execution_count": 28,
   "id": "2c788d37-61f5-42f1-820e-de9023d1f0bd",
   "metadata": {},
   "outputs": [
    {
     "data": {
      "text/plain": [
       "Pipeline(steps=[('tfidf', TfidfVectorizer(sublinear_tf=True)),\n",
       "                ('clf', RandomForestClassifier())])"
      ]
     },
     "execution_count": 28,
     "metadata": {},
     "output_type": "execute_result"
    }
   ],
   "source": [
    "text_clf3.fit(X_train, y_train)"
   ]
  },
  {
   "cell_type": "markdown",
   "id": "952376f4",
   "metadata": {
    "papermill": {
     "duration": 0.056649,
     "end_time": "2022-01-24T11:37:08.405936",
     "exception": false,
     "start_time": "2022-01-24T11:37:08.349287",
     "status": "completed"
    },
    "tags": []
   },
   "source": [
    "# Validation Set 사용하여 정확도 측정 (개별비교)"
   ]
  },
  {
   "cell_type": "code",
   "execution_count": null,
   "id": "045c2052-4bb7-4a5e-9a13-a0f435e81684",
   "metadata": {},
   "outputs": [],
   "source": [
    "# 실행"
   ]
  },
  {
   "cell_type": "code",
   "execution_count": null,
   "id": "9f88f0f9",
   "metadata": {
    "papermill": {
     "duration": 13.587157,
     "end_time": "2022-01-24T11:37:22.050686",
     "exception": false,
     "start_time": "2022-01-24T11:37:08.463529",
     "status": "completed"
    },
    "tags": []
   },
   "outputs": [],
   "source": [
    "# predictions = text_clf.predict(X_val)"
   ]
  },
  {
   "cell_type": "code",
   "execution_count": null,
   "id": "e10d8a56-7380-48f7-8d3c-65c2221a508b",
   "metadata": {
    "tags": []
   },
   "outputs": [],
   "source": [
    "# pd.DataFrame(predictions)[0].apply(list).sum()"
   ]
  },
  {
   "cell_type": "code",
   "execution_count": null,
   "id": "fe77f298-9284-4bfe-bcf4-c0541d34fe22",
   "metadata": {
    "tags": []
   },
   "outputs": [],
   "source": [
    "# pd.DataFrame(y_val)['type'].apply(list).sum()"
   ]
  },
  {
   "cell_type": "code",
   "execution_count": null,
   "id": "c10c588d-8d3e-4696-9e8f-816fb75aef35",
   "metadata": {},
   "outputs": [],
   "source": [
    "# print(classification_report(pd.DataFrame(predictions)[0].apply(list).sum(), pd.DataFrame(y_val)['type'].apply(list).sum()))"
   ]
  },
  {
   "cell_type": "code",
   "execution_count": null,
   "id": "ee400860-c884-4843-9623-de4e716e70ee",
   "metadata": {},
   "outputs": [],
   "source": [
    "# print(f\"Overall accuracy of the model: {round(metrics.accuracy_score(pd.DataFrame(predictions)[0].apply(list).sum(), pd.DataFrame(y_val)['type'].apply(list).sum()),2)}\")"
   ]
  },
  {
   "cell_type": "markdown",
   "id": "43a4755f-95d3-457a-88c0-84ee0be7dec9",
   "metadata": {
    "papermill": {
     "duration": 0.056649,
     "end_time": "2022-01-24T11:37:08.405936",
     "exception": false,
     "start_time": "2022-01-24T11:37:08.349287",
     "status": "completed"
    },
    "tags": []
   },
   "source": [
    "# Validation Set 사용하여 정확도 측정 (한번에비교)"
   ]
  },
  {
   "cell_type": "code",
   "execution_count": 39,
   "id": "2da2c0c9-3139-4528-8b22-a9763ed1e805",
   "metadata": {
    "papermill": {
     "duration": 13.587157,
     "end_time": "2022-01-24T11:37:22.050686",
     "exception": false,
     "start_time": "2022-01-24T11:37:08.463529",
     "status": "completed"
    },
    "tags": []
   },
   "outputs": [],
   "source": [
    "predictions1 = text_clf1.predict(X_val)"
   ]
  },
  {
   "cell_type": "code",
   "execution_count": 29,
   "id": "4e684a59-a670-400a-9c77-bf3fa61cb131",
   "metadata": {},
   "outputs": [],
   "source": [
    "predictions2 = text_clf2.predict(X_val)"
   ]
  },
  {
   "cell_type": "code",
   "execution_count": 30,
   "id": "52559e0d-b444-43ef-9dc8-fb24fd5462e3",
   "metadata": {},
   "outputs": [],
   "source": [
    "predictions3 = text_clf3.predict(X_val)"
   ]
  },
  {
   "cell_type": "code",
   "execution_count": 40,
   "id": "73684861",
   "metadata": {
    "papermill": {
     "duration": 1.152028,
     "end_time": "2022-01-24T11:37:23.262153",
     "exception": false,
     "start_time": "2022-01-24T11:37:22.110125",
     "status": "completed"
    },
    "tags": []
   },
   "outputs": [
    {
     "name": "stdout",
     "output_type": "stream",
     "text": [
      "              precision    recall  f1-score   support\n",
      "\n",
      "        ENFJ       0.87      0.67      0.76       153\n",
      "        ENFP       0.81      0.78      0.79       596\n",
      "        ENTJ       0.87      0.77      0.82       284\n",
      "        ENTP       0.86      0.82      0.84      1127\n",
      "        ESFJ       0.56      0.42      0.48        12\n",
      "        ESFP       0.92      0.32      0.48        37\n",
      "        ESTJ       0.97      0.74      0.84        46\n",
      "        ESTP       0.97      0.91      0.94       194\n",
      "        INFJ       0.83      0.87      0.85      1576\n",
      "        INFP       0.82      0.82      0.82      1204\n",
      "        INTJ       0.85      0.87      0.86      2282\n",
      "        INTP       0.85      0.90      0.87      2487\n",
      "        ISFJ       0.81      0.57      0.67        67\n",
      "        ISFP       0.79      0.53      0.64        90\n",
      "        ISTJ       0.82      0.57      0.67       120\n",
      "        ISTP       0.87      0.82      0.84       332\n",
      "\n",
      "    accuracy                           0.84     10607\n",
      "   macro avg       0.84      0.71      0.76     10607\n",
      "weighted avg       0.84      0.84      0.84     10607\n",
      "\n"
     ]
    }
   ],
   "source": [
    "print(classification_report(y_val, predictions1))"
   ]
  },
  {
   "cell_type": "code",
   "execution_count": 34,
   "id": "1dc6008c-059f-4483-bbdb-860758dd063d",
   "metadata": {},
   "outputs": [
    {
     "name": "stdout",
     "output_type": "stream",
     "text": [
      "              precision    recall  f1-score   support\n",
      "\n",
      "        ENFJ       0.92      0.52      0.67       153\n",
      "        ENFP       0.84      0.77      0.80       596\n",
      "        ENTJ       0.89      0.69      0.78       284\n",
      "        ENTP       0.87      0.83      0.85      1127\n",
      "        ESFJ       1.00      0.08      0.15        12\n",
      "        ESFP       1.00      0.05      0.10        37\n",
      "        ESTJ       0.97      0.63      0.76        46\n",
      "        ESTP       0.98      0.86      0.91       194\n",
      "        INFJ       0.84      0.88      0.86      1576\n",
      "        INFP       0.81      0.83      0.82      1204\n",
      "        INTJ       0.82      0.88      0.85      2282\n",
      "        INTP       0.83      0.92      0.87      2487\n",
      "        ISFJ       0.95      0.27      0.42        67\n",
      "        ISFP       0.75      0.42      0.54        90\n",
      "        ISTJ       0.87      0.38      0.52       120\n",
      "        ISTP       0.89      0.74      0.81       332\n",
      "\n",
      "    accuracy                           0.84     10607\n",
      "   macro avg       0.89      0.61      0.67     10607\n",
      "weighted avg       0.84      0.84      0.83     10607\n",
      "\n"
     ]
    }
   ],
   "source": [
    "print(classification_report(y_val, predictions2))"
   ]
  },
  {
   "cell_type": "code",
   "execution_count": 32,
   "id": "889f7d12-1711-4061-b1fa-aac2a8ece4aa",
   "metadata": {},
   "outputs": [
    {
     "name": "stdout",
     "output_type": "stream",
     "text": [
      "              precision    recall  f1-score   support\n",
      "\n",
      "        ENFJ       0.00      0.00      0.00       153\n",
      "        ENFP       0.92      0.02      0.04       596\n",
      "        ENTJ       1.00      0.13      0.24       284\n",
      "        ENTP       0.79      0.19      0.31      1127\n",
      "        ESFJ       0.00      0.00      0.00        12\n",
      "        ESFP       0.00      0.00      0.00        37\n",
      "        ESTJ       0.96      0.48      0.64        46\n",
      "        ESTP       0.97      0.59      0.73       194\n",
      "        INFJ       0.43      0.63      0.51      1576\n",
      "        INFP       0.68      0.25      0.37      1204\n",
      "        INTJ       0.50      0.64      0.56      2282\n",
      "        INTP       0.45      0.80      0.58      2487\n",
      "        ISFJ       0.00      0.00      0.00        67\n",
      "        ISFP       0.00      0.00      0.00        90\n",
      "        ISTJ       0.00      0.00      0.00       120\n",
      "        ISTP       1.00      0.02      0.04       332\n",
      "\n",
      "    accuracy                           0.49     10607\n",
      "   macro avg       0.48      0.24      0.25     10607\n",
      "weighted avg       0.57      0.49      0.43     10607\n",
      "\n"
     ]
    }
   ],
   "source": [
    "print(classification_report(y_val, predictions3))"
   ]
  },
  {
   "cell_type": "code",
   "execution_count": 51,
   "id": "594c1904",
   "metadata": {
    "papermill": {
     "duration": 0.108088,
     "end_time": "2022-01-24T11:37:23.427835",
     "exception": false,
     "start_time": "2022-01-24T11:37:23.319747",
     "status": "completed"
    },
    "tags": []
   },
   "outputs": [
    {
     "name": "stdout",
     "output_type": "stream",
     "text": [
      "Overall accuracy of the model: 0.8441\n"
     ]
    }
   ],
   "source": [
    "print(f\"Overall accuracy of the model: {round(metrics.accuracy_score(y_val, predictions1),4)}\")"
   ]
  },
  {
   "cell_type": "code",
   "execution_count": 52,
   "id": "c90475cc-d0fc-4ef7-8828-8b5d07472ff1",
   "metadata": {
    "papermill": {
     "duration": 0.108088,
     "end_time": "2022-01-24T11:37:23.427835",
     "exception": false,
     "start_time": "2022-01-24T11:37:23.319747",
     "status": "completed"
    },
    "tags": []
   },
   "outputs": [
    {
     "name": "stdout",
     "output_type": "stream",
     "text": [
      "Overall accuracy of the model: 0.8383\n"
     ]
    }
   ],
   "source": [
    "print(f\"Overall accuracy of the model: {round(metrics.accuracy_score(y_val, predictions2),4)}\")"
   ]
  },
  {
   "cell_type": "code",
   "execution_count": 53,
   "id": "ff8fd3c5-e3f3-40bc-a1ed-8463e78cecbf",
   "metadata": {
    "papermill": {
     "duration": 0.108088,
     "end_time": "2022-01-24T11:37:23.427835",
     "exception": false,
     "start_time": "2022-01-24T11:37:23.319747",
     "status": "completed"
    },
    "tags": []
   },
   "outputs": [
    {
     "name": "stdout",
     "output_type": "stream",
     "text": [
      "Overall accuracy of the model: 0.4871\n"
     ]
    }
   ],
   "source": [
    "print(f\"Overall accuracy of the model: {round(metrics.accuracy_score(y_val, predictions3),4)}\")"
   ]
  },
  {
   "cell_type": "markdown",
   "id": "8b15f62e-6b62-46a2-b2c2-1c1d6d54ff68",
   "metadata": {
    "papermill": {
     "duration": 0.056649,
     "end_time": "2022-01-24T11:37:08.405936",
     "exception": false,
     "start_time": "2022-01-24T11:37:08.349287",
     "status": "completed"
    },
    "tags": []
   },
   "source": [
    "# test Set 사용하여 정확도 측정"
   ]
  },
  {
   "cell_type": "code",
   "execution_count": 67,
   "id": "e6b603a2-2b48-45e4-89a9-34edf8baa91c",
   "metadata": {},
   "outputs": [],
   "source": [
    "# 실행"
   ]
  },
  {
   "cell_type": "code",
   "execution_count": 42,
   "id": "e7a89ebe-76a2-46ab-bda2-5bac8a7b418a",
   "metadata": {
    "papermill": {
     "duration": 13.587157,
     "end_time": "2022-01-24T11:37:22.050686",
     "exception": false,
     "start_time": "2022-01-24T11:37:08.463529",
     "status": "completed"
    },
    "tags": []
   },
   "outputs": [],
   "source": [
    "predictions = text_clf1.predict(X_test)"
   ]
  },
  {
   "cell_type": "code",
   "execution_count": 43,
   "id": "61846a85-5c9c-4889-8757-b9f7d2f55cf1",
   "metadata": {},
   "outputs": [
    {
     "data": {
      "text/plain": [
       "array(['INTP', 'INTJ', 'INTP', ..., 'INFJ', 'ENTP', 'INFJ'], dtype=object)"
      ]
     },
     "execution_count": 43,
     "metadata": {},
     "output_type": "execute_result"
    }
   ],
   "source": [
    "predictions"
   ]
  },
  {
   "cell_type": "code",
   "execution_count": 44,
   "id": "3872811f-5e40-4630-9468-32945cff2358",
   "metadata": {
    "papermill": {
     "duration": 1.152028,
     "end_time": "2022-01-24T11:37:23.262153",
     "exception": false,
     "start_time": "2022-01-24T11:37:22.110125",
     "status": "completed"
    },
    "tags": []
   },
   "outputs": [
    {
     "name": "stdout",
     "output_type": "stream",
     "text": [
      "              precision    recall  f1-score   support\n",
      "\n",
      "        ENFJ       0.85      0.61      0.71       319\n",
      "        ENFP       0.83      0.79      0.81      1249\n",
      "        ENTJ       0.90      0.79      0.84       577\n",
      "        ENTP       0.86      0.83      0.85      2324\n",
      "        ESFJ       1.00      0.42      0.60        33\n",
      "        ESFP       0.85      0.44      0.58        75\n",
      "        ESTJ       0.96      0.82      0.88       105\n",
      "        ESTP       0.95      0.91      0.93       398\n",
      "        INFJ       0.83      0.86      0.84      2954\n",
      "        INFP       0.80      0.83      0.81      2391\n",
      "        INTJ       0.84      0.88      0.86      4531\n",
      "        INTP       0.85      0.89      0.87      5033\n",
      "        ISFJ       0.88      0.53      0.66       132\n",
      "        ISFP       0.79      0.58      0.67       161\n",
      "        ISTJ       0.88      0.69      0.78       253\n",
      "        ISTP       0.89      0.81      0.85       679\n",
      "\n",
      "    accuracy                           0.84     21214\n",
      "   macro avg       0.87      0.73      0.78     21214\n",
      "weighted avg       0.85      0.84      0.84     21214\n",
      "\n"
     ]
    }
   ],
   "source": [
    "print(classification_report(y_test, predictions))"
   ]
  },
  {
   "cell_type": "code",
   "execution_count": 46,
   "id": "c0b6136f-e1fe-4762-8672-fa9457f8a83e",
   "metadata": {
    "papermill": {
     "duration": 0.108088,
     "end_time": "2022-01-24T11:37:23.427835",
     "exception": false,
     "start_time": "2022-01-24T11:37:23.319747",
     "status": "completed"
    },
    "tags": []
   },
   "outputs": [
    {
     "name": "stdout",
     "output_type": "stream",
     "text": [
      "Overall accuracy of the model: 0.84\n"
     ]
    }
   ],
   "source": [
    "print(f\"Overall accuracy of the model: {round(metrics.accuracy_score(y_test, predictions),2)}\")"
   ]
  },
  {
   "cell_type": "code",
   "execution_count": 47,
   "id": "77290f8c-003d-4418-b0c7-6075d7e34ab8",
   "metadata": {
    "papermill": {
     "duration": 13.587157,
     "end_time": "2022-01-24T11:37:22.050686",
     "exception": false,
     "start_time": "2022-01-24T11:37:08.463529",
     "status": "completed"
    },
    "tags": []
   },
   "outputs": [],
   "source": [
    "predictions = text_clf2.predict(X_test)"
   ]
  },
  {
   "cell_type": "code",
   "execution_count": 48,
   "id": "22320111-71e4-43e4-9d3a-f88fa561c019",
   "metadata": {},
   "outputs": [
    {
     "data": {
      "text/plain": [
       "array(['INTP', 'INTJ', 'INTP', ..., 'INFJ', 'ENTP', 'INFJ'], dtype=object)"
      ]
     },
     "execution_count": 48,
     "metadata": {},
     "output_type": "execute_result"
    }
   ],
   "source": [
    "predictions"
   ]
  },
  {
   "cell_type": "code",
   "execution_count": 49,
   "id": "99957a7b-29a9-4823-a39b-902dd5d1211e",
   "metadata": {
    "papermill": {
     "duration": 1.152028,
     "end_time": "2022-01-24T11:37:23.262153",
     "exception": false,
     "start_time": "2022-01-24T11:37:22.110125",
     "status": "completed"
    },
    "tags": []
   },
   "outputs": [
    {
     "name": "stdout",
     "output_type": "stream",
     "text": [
      "              precision    recall  f1-score   support\n",
      "\n",
      "        ENFJ       0.84      0.55      0.66       319\n",
      "        ENFP       0.86      0.78      0.82      1249\n",
      "        ENTJ       0.92      0.73      0.81       577\n",
      "        ENTP       0.85      0.82      0.83      2324\n",
      "        ESFJ       0.00      0.00      0.00        33\n",
      "        ESFP       1.00      0.13      0.24        75\n",
      "        ESTJ       0.96      0.69      0.80       105\n",
      "        ESTP       0.98      0.84      0.91       398\n",
      "        INFJ       0.83      0.85      0.84      2954\n",
      "        INFP       0.79      0.85      0.82      2391\n",
      "        INTJ       0.82      0.89      0.85      4531\n",
      "        INTP       0.83      0.90      0.86      5033\n",
      "        ISFJ       0.91      0.23      0.36       132\n",
      "        ISFP       0.76      0.41      0.53       161\n",
      "        ISTJ       0.92      0.47      0.62       253\n",
      "        ISTP       0.92      0.73      0.82       679\n",
      "\n",
      "    accuracy                           0.83     21214\n",
      "   macro avg       0.82      0.62      0.67     21214\n",
      "weighted avg       0.84      0.83      0.83     21214\n",
      "\n"
     ]
    }
   ],
   "source": [
    "print(classification_report(y_test, predictions))"
   ]
  },
  {
   "cell_type": "code",
   "execution_count": 50,
   "id": "22d2b8cb-a1d7-4164-9c2a-157e3972a20e",
   "metadata": {
    "papermill": {
     "duration": 0.108088,
     "end_time": "2022-01-24T11:37:23.427835",
     "exception": false,
     "start_time": "2022-01-24T11:37:23.319747",
     "status": "completed"
    },
    "tags": []
   },
   "outputs": [
    {
     "name": "stdout",
     "output_type": "stream",
     "text": [
      "Overall accuracy of the model: 0.83\n"
     ]
    }
   ],
   "source": [
    "print(f\"Overall accuracy of the model: {round(metrics.accuracy_score(y_test, predictions),2)}\")"
   ]
  },
  {
   "cell_type": "markdown",
   "id": "59ec42d8-68ef-42ae-ab64-ad3630ca0c32",
   "metadata": {},
   "source": [
    "---"
   ]
  }
 ],
 "metadata": {
  "kernelspec": {
   "display_name": "Python 3",
   "language": "python",
   "name": "python3"
  },
  "language_info": {
   "codemirror_mode": {
    "name": "ipython",
    "version": 3
   },
   "file_extension": ".py",
   "mimetype": "text/x-python",
   "name": "python",
   "nbconvert_exporter": "python",
   "pygments_lexer": "ipython3",
   "version": "3.8.8"
  },
  "papermill": {
   "default_parameters": {},
   "duration": 247.963482,
   "end_time": "2022-01-24T11:37:26.913576",
   "environment_variables": {},
   "exception": null,
   "input_path": "__notebook__.ipynb",
   "output_path": "__notebook__.ipynb",
   "parameters": {},
   "start_time": "2022-01-24T11:33:18.950094",
   "version": "2.3.3"
  }
 },
 "nbformat": 4,
 "nbformat_minor": 5
}
