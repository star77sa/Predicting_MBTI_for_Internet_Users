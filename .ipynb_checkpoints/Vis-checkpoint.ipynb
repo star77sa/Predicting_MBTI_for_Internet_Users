{
 "cells": [
  {
   "cell_type": "code",
   "execution_count": 7,
   "id": "28c6c241-f001-42cc-9800-624127df93a9",
   "metadata": {},
   "outputs": [],
   "source": [
    "import numpy as np\n",
    "\n",
    "import pandas as pd\n",
    "\n",
    "import matplotlib.pyplot as plt\n",
    "\n",
    "import seaborn as sns\n",
    "\n",
    "plt.rcParams['figure.figsize'] = [10, 6]\n",
    "\n",
    "%matplotlib inline"
   ]
  },
  {
   "cell_type": "markdown",
   "id": "bfbac4bc-3484-45cf-96c7-9c0987cf7443",
   "metadata": {},
   "source": [
    "# SVM CV"
   ]
  },
  {
   "cell_type": "markdown",
   "id": "d13cd2d2-ec32-444f-b5f3-04368165b7e4",
   "metadata": {},
   "source": [
    "cross-val-score \n",
    "\n",
    "[0.84337988 0.83789995 0.84031583 0.83971715 0.84177961]"
   ]
  },
  {
   "cell_type": "code",
   "execution_count": 67,
   "id": "649f34e9-f8c2-43eb-9db0-8a877bef2c1d",
   "metadata": {},
   "outputs": [],
   "source": [
    "acc = pd.DataFrame({'SVM' : [0.84337988, 0.83789995, 0.84031583, 0.83971715, 0.84177961],\n",
    "                   'LR' : [0.84337988, 0.83789995, 0.84031583, 0.83971715, 0.84177961],\n",
    "                   'RF' : [0.84337988, 0.83789995, 0.84031583, 0.83971715, 0.84177961]\n",
    "                   })"
   ]
  },
  {
   "cell_type": "code",
   "execution_count": 68,
   "id": "e176cb98-8e2e-4795-8c3a-0a399c9f61dc",
   "metadata": {},
   "outputs": [
    {
     "data": {
      "text/plain": [
       "{'whiskers': [<matplotlib.lines.Line2D at 0x1d96714dc70>,\n",
       "  <matplotlib.lines.Line2D at 0x1d96714dfd0>],\n",
       " 'caps': [<matplotlib.lines.Line2D at 0x1d967137370>,\n",
       "  <matplotlib.lines.Line2D at 0x1d9671376d0>],\n",
       " 'boxes': [<matplotlib.lines.Line2D at 0x1d96714d910>],\n",
       " 'medians': [<matplotlib.lines.Line2D at 0x1d967137a30>],\n",
       " 'fliers': [<matplotlib.lines.Line2D at 0x1d967137d90>],\n",
       " 'means': []}"
      ]
     },
     "execution_count": 68,
     "metadata": {},
     "output_type": "execute_result"
    },
    {
     "data": {
      "image/png": "[encoded data removed]",
      "text/plain": [
       "<Figure size 432x288 with 1 Axes>"
      ]
     },
     "metadata": {
      "needs_background": "light"
     },
     "output_type": "display_data"
    }
   ],
   "source": [
    "plt.boxplot(acc['SVM'])"
   ]
  },
  {
   "cell_type": "code",
   "execution_count": 69,
   "id": "a9460131-ac0a-4446-b71e-875c02c84d22",
   "metadata": {},
   "outputs": [
    {
     "data": {
      "text/html": [
       "<div>\n",
       "<style scoped>\n",
       "    .dataframe tbody tr th:only-of-type {\n",
       "        vertical-align: middle;\n",
       "    }\n",
       "\n",
       "    .dataframe tbody tr th {\n",
       "        vertical-align: top;\n",
       "    }\n",
       "\n",
       "    .dataframe thead th {\n",
       "        text-align: right;\n",
       "    }\n",
       "</style>\n",
       "<table border=\"1\" class=\"dataframe\">\n",
       "  <thead>\n",
       "    <tr style=\"text-align: right;\">\n",
       "      <th></th>\n",
       "      <th>SVM</th>\n",
       "      <th>LR</th>\n",
       "      <th>RF</th>\n",
       "    </tr>\n",
       "  </thead>\n",
       "  <tbody>\n",
       "    <tr>\n",
       "      <th>0</th>\n",
       "      <td>0.843380</td>\n",
       "      <td>0.843380</td>\n",
       "      <td>0.843380</td>\n",
       "    </tr>\n",
       "    <tr>\n",
       "      <th>1</th>\n",
       "      <td>0.837900</td>\n",
       "      <td>0.837900</td>\n",
       "      <td>0.837900</td>\n",
       "    </tr>\n",
       "    <tr>\n",
       "      <th>2</th>\n",
       "      <td>0.840316</td>\n",
       "      <td>0.840316</td>\n",
       "      <td>0.840316</td>\n",
       "    </tr>\n",
       "    <tr>\n",
       "      <th>3</th>\n",
       "      <td>0.839717</td>\n",
       "      <td>0.839717</td>\n",
       "      <td>0.839717</td>\n",
       "    </tr>\n",
       "    <tr>\n",
       "      <th>4</th>\n",
       "      <td>0.841780</td>\n",
       "      <td>0.841780</td>\n",
       "      <td>0.841780</td>\n",
       "    </tr>\n",
       "  </tbody>\n",
       "</table>\n",
       "</div>"
      ],
      "text/plain": [
       "        SVM        LR        RF\n",
       "0  0.843380  0.843380  0.843380\n",
       "1  0.837900  0.837900  0.837900\n",
       "2  0.840316  0.840316  0.840316\n",
       "3  0.839717  0.839717  0.839717\n",
       "4  0.841780  0.841780  0.841780"
      ]
     },
     "execution_count": 69,
     "metadata": {},
     "output_type": "execute_result"
    }
   ],
   "source": [
    "acc"
   ]
  },
  {
   "cell_type": "code",
   "execution_count": 70,
   "id": "6b65e1a9-bc6d-46bf-bd4a-a7187ca05897",
   "metadata": {},
   "outputs": [
    {
     "data": {
      "image/png": "[encoded data removed]",
      "text/plain": [
       "<Figure size 432x288 with 1 Axes>"
      ]
     },
     "metadata": {
      "needs_background": "light"
     },
     "output_type": "display_data"
    }
   ],
   "source": [
    "ig, ax = plt.subplots()\n",
    "ax.boxplot([acc['SVM'], acc['LR'], acc['RF']], sym=\"b*\")\n",
    "plt.title('Model Accuracy')\n",
    "\n",
    "plt.xticks([1, 2, 3], \n",
    "           ['SVM', 'LogisticRegression', 'Randomforest'])\n",
    "plt.show()\n",
    "\n"
   ]
  },
  {
   "cell_type": "code",
   "execution_count": null,
   "id": "192ffbfa-5cb6-491e-bd89-edfa7f379916",
   "metadata": {},
   "outputs": [],
   "source": []
  },
  {
   "cell_type": "code",
   "execution_count": 38,
   "id": "f64042d0-21f6-4276-8c48-3706ac40fc2a",
   "metadata": {},
   "outputs": [
    {
     "ename": "NameError",
     "evalue": "name 'tips' is not defined",
     "output_type": "error",
     "traceback": [
      "\u001b[1;31m---------------------------------------------------------------------------\u001b[0m",
      "\u001b[1;31mNameError\u001b[0m                                 Traceback (most recent call last)",
      "\u001b[1;32m<ipython-input-38-bee001cd59b9>\u001b[0m in \u001b[0;36m<module>\u001b[1;34m\u001b[0m\n\u001b[0;32m      7\u001b[0m             \u001b[0my\u001b[0m\u001b[1;33m=\u001b[0m\u001b[1;34m\"tip\"\u001b[0m\u001b[1;33m,\u001b[0m\u001b[1;33m\u001b[0m\u001b[1;33m\u001b[0m\u001b[0m\n\u001b[0;32m      8\u001b[0m \u001b[1;33m\u001b[0m\u001b[0m\n\u001b[1;32m----> 9\u001b[1;33m             data=tips)\n\u001b[0m\u001b[0;32m     10\u001b[0m \u001b[1;33m\u001b[0m\u001b[0m\n\u001b[0;32m     11\u001b[0m \u001b[0mplt\u001b[0m\u001b[1;33m.\u001b[0m\u001b[0mshow\u001b[0m\u001b[1;33m(\u001b[0m\u001b[1;33m)\u001b[0m\u001b[1;33m\u001b[0m\u001b[1;33m\u001b[0m\u001b[0m\n",
      "\u001b[1;31mNameError\u001b[0m: name 'tips' is not defined"
     ]
    }
   ],
   "source": [
    "import seaborn as sns\n",
    "\n",
    "\n",
    "\n",
    "sns.boxplot(x=\"day\", \n",
    "\n",
    "            y=\"tip\", \n",
    "\n",
    "            data=tips)\n",
    "\n",
    "plt.show()\n"
   ]
  },
  {
   "cell_type": "code",
   "execution_count": null,
   "id": "5bd5f300-19c7-40cc-90f4-302decf3fd92",
   "metadata": {},
   "outputs": [],
   "source": []
  }
 ],
 "metadata": {
  "kernelspec": {
   "display_name": "Python 3",
   "language": "python",
   "name": "python3"
  },
  "language_info": {
   "codemirror_mode": {
    "name": "ipython",
    "version": 3
   },
   "file_extension": ".py",
   "mimetype": "text/x-python",
   "name": "python",
   "nbconvert_exporter": "python",
   "pygments_lexer": "ipython3",
   "version": "3.8.8"
  }
 },
 "nbformat": 4,
 "nbformat_minor": 5
}
