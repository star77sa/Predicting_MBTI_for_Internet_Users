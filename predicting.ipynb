{
 "cells": [
  {
   "cell_type": "markdown",
   "id": "b895dce9",
   "metadata": {
    "papermill": {
     "duration": 0.05475,
     "end_time": "2022-01-24T11:33:29.924313",
     "exception": false,
     "start_time": "2022-01-24T11:33:29.869563",
     "status": "completed"
    },
    "tags": []
   },
   "source": [
    "# Importing libraries"
   ]
  },
  {
   "cell_type": "code",
   "execution_count": 2,
   "id": "8a7dec48",
   "metadata": {
    "papermill": {
     "duration": 11.507019,
     "end_time": "2022-01-24T11:33:41.485611",
     "exception": false,
     "start_time": "2022-01-24T11:33:29.978592",
     "status": "completed"
    },
    "tags": []
   },
   "outputs": [],
   "source": [
    "import pandas as pd\n",
    "\n",
    "from sklearn.model_selection import train_test_split\n",
    "from sklearn.feature_extraction.text import TfidfVectorizer\n",
    "from sklearn.svm import LinearSVC\n",
    "from sklearn.pipeline import Pipeline\n",
    "from sklearn import metrics\n",
    "from sklearn.metrics import classification_report, f1_score\n",
    "\n",
    "import plotly.offline as pyo\n",
    "import plotly.graph_objs as go\n",
    "\n",
    "import re\n",
    "\n",
    "from nltk.stem import WordNetLemmatizer\n",
    "\n",
    "from tqdm import tqdm"
   ]
  },
  {
   "cell_type": "code",
   "execution_count": 3,
   "id": "d762d1b9-995b-49a8-93ed-a39ce802f31a",
   "metadata": {},
   "outputs": [],
   "source": [
    "import warnings\n",
    "warnings.filterwarnings(action='ignore') "
   ]
  },
  {
   "cell_type": "markdown",
   "id": "10d690fe",
   "metadata": {
    "papermill": {
     "duration": 0.056141,
     "end_time": "2022-01-24T11:33:47.879258",
     "exception": false,
     "start_time": "2022-01-24T11:33:47.823117",
     "status": "completed"
    },
    "tags": []
   },
   "source": [
    "# 데이터 불러오기"
   ]
  },
  {
   "cell_type": "code",
   "execution_count": 4,
   "id": "68b80ab5-e65b-4ee1-8479-edf860e98e55",
   "metadata": {},
   "outputs": [],
   "source": [
    "df = pd.read_csv('G://내 드라이브/Github/Predictiong_MBTI_for_Internet_Users/MBTI.csv', encoding='ISO-8859-1', header=None)"
   ]
  },
  {
   "cell_type": "code",
   "execution_count": 5,
   "id": "e3b0f0d9-bda3-4326-8652-563c4e9631f0",
   "metadata": {},
   "outputs": [
    {
     "data": {
      "text/plain": [
       "<bound method NDFrame.head of           0                                                  1\n",
       "0      INTP  say process model list like subscriber channel...\n",
       "1      INFJ  upon much manipulate retail finish like sacrif...\n",
       "2      INFJ  fit yes certain bff social feel goal go know n...\n",
       "3      INTJ  complete love within someone ideal joke solvea...\n",
       "4      ENTJ  public strictly thing person x question person...\n",
       "...     ...                                                ...\n",
       "74352  INTP  get consequence process life back kind great b...\n",
       "74353  ENFP  mundane really right vibe natural u conscious ...\n",
       "74354  INFP  diva message remember practical lot absorb tel...\n",
       "74355  INTJ  increase impressive group make recognize get a...\n",
       "74356  ENTJ  restaurant negative entj resent people sing ma...\n",
       "\n",
       "[74357 rows x 2 columns]>"
      ]
     },
     "execution_count": 5,
     "metadata": {},
     "output_type": "execute_result"
    }
   ],
   "source": [
    "df.head"
   ]
  },
  {
   "cell_type": "code",
   "execution_count": 8,
   "id": "2dfbd2fb",
   "metadata": {
    "papermill": {
     "duration": 0.080555,
     "end_time": "2022-01-24T11:33:56.825360",
     "exception": false,
     "start_time": "2022-01-24T11:33:56.744805",
     "status": "completed"
    },
    "tags": []
   },
   "outputs": [],
   "source": [
    "df.columns = ['type', 'text']"
   ]
  },
  {
   "cell_type": "code",
   "execution_count": 9,
   "id": "95cec341",
   "metadata": {
    "papermill": {
     "duration": 0.074413,
     "end_time": "2022-01-24T11:33:57.351624",
     "exception": false,
     "start_time": "2022-01-24T11:33:57.277211",
     "status": "completed"
    },
    "tags": []
   },
   "outputs": [
    {
     "name": "stdout",
     "output_type": "stream",
     "text": [
      "Total of 16 types of classified MBTI posts\n"
     ]
    }
   ],
   "source": [
    "print(f\"Total of {len(df['type'].unique())} types of classified MBTI posts\")"
   ]
  },
  {
   "cell_type": "markdown",
   "id": "7b2436f5",
   "metadata": {
    "papermill": {
     "duration": 0.056541,
     "end_time": "2022-01-24T11:33:57.467015",
     "exception": false,
     "start_time": "2022-01-24T11:33:57.410474",
     "status": "completed"
    },
    "tags": []
   },
   "source": [
    "# 결측치 확인"
   ]
  },
  {
   "cell_type": "code",
   "execution_count": 45,
   "id": "902c8406",
   "metadata": {
    "papermill": {
     "duration": 0.098632,
     "end_time": "2022-01-24T11:33:57.623222",
     "exception": false,
     "start_time": "2022-01-24T11:33:57.524590",
     "status": "completed"
    },
    "tags": []
   },
   "outputs": [
    {
     "data": {
      "text/plain": [
       "type    0\n",
       "text    0\n",
       "dtype: int64"
      ]
     },
     "execution_count": 45,
     "metadata": {},
     "output_type": "execute_result"
    }
   ],
   "source": [
    "df.isnull().sum()"
   ]
  },
  {
   "cell_type": "markdown",
   "id": "035b3559",
   "metadata": {
    "papermill": {
     "duration": 0.057275,
     "end_time": "2022-01-24T11:33:57.737438",
     "exception": false,
     "start_time": "2022-01-24T11:33:57.680163",
     "status": "completed"
    },
    "tags": []
   },
   "source": [
    "# 텍스트별 MBTI 빈도 확인"
   ]
  },
  {
   "cell_type": "code",
   "execution_count": 46,
   "id": "fdf8e715",
   "metadata": {
    "papermill": {
     "duration": 0.217902,
     "end_time": "2022-01-24T11:33:58.012173",
     "exception": false,
     "start_time": "2022-01-24T11:33:57.794271",
     "status": "completed"
    },
    "tags": []
   },
   "outputs": [
    {
     "data": {
      "application/vnd.plotly.v1+json": {
       "config": {
        "plotlyServerURL": "https://plot.ly"
       },
       "data": [
        {
         "type": "bar",
         "x": [
          "ENFJ",
          "ENFP",
          "ENTJ",
          "ENTP",
          "ESFJ",
          "ESFP",
          "ESTJ",
          "ESTP",
          "INFJ",
          "INFP",
          "INTJ",
          "INTP",
          "ISFJ",
          "ISFP",
          "ISTJ",
          "ISTP"
         ],
         "y": [
          1024,
          4338,
          2106,
          8303,
          119,
          252,
          71,
          814,
          10765,
          8444,
          16079,
          17690,
          460,
          620,
          878,
          2394
         ]
        }
       ],
       "layout": {
        "autosize": true,
        "template": {
         "data": {
          "bar": [
           {
            "error_x": {
             "color": "#2a3f5f"
            },
            "error_y": {
             "color": "#2a3f5f"
            },
            "marker": {
             "line": {
              "color": "#E5ECF6",
              "width": 0.5
             },
             "pattern": {
              "fillmode": "overlay",
              "size": 10,
              "solidity": 0.2
             }
            },
            "type": "bar"
           }
          ],
          "barpolar": [
           {
            "marker": {
             "line": {
              "color": "#E5ECF6",
              "width": 0.5
             },
             "pattern": {
              "fillmode": "overlay",
              "size": 10,
              "solidity": 0.2
             }
            },
            "type": "barpolar"
           }
          ],
          "carpet": [
           {
            "aaxis": {
             "endlinecolor": "#2a3f5f",
             "gridcolor": "white",
             "linecolor": "white",
             "minorgridcolor": "white",
             "startlinecolor": "#2a3f5f"
            },
            "baxis": {
             "endlinecolor": "#2a3f5f",
             "gridcolor": "white",
             "linecolor": "white",
             "minorgridcolor": "white",
             "startlinecolor": "#2a3f5f"
            },
            "type": "carpet"
           }
          ],
          "choropleth": [
           {
            "colorbar": {
             "outlinewidth": 0,
             "ticks": ""
            },
            "type": "choropleth"
           }
          ],
          "contour": [
           {
            "colorbar": {
             "outlinewidth": 0,
             "ticks": ""
            },
            "colorscale": [
             [
              0,
              "#0d0887"
             ],
             [
              0.1111111111111111,
              "#46039f"
             ],
             [
              0.2222222222222222,
              "#7201a8"
             ],
             [
              0.3333333333333333,
              "#9c179e"
             ],
             [
              0.4444444444444444,
              "#bd3786"
             ],
             [
              0.5555555555555556,
              "#d8576b"
             ],
             [
              0.6666666666666666,
              "#ed7953"
             ],
             [
              0.7777777777777778,
              "#fb9f3a"
             ],
             [
              0.8888888888888888,
              "#fdca26"
             ],
             [
              1,
              "#f0f921"
             ]
            ],
            "type": "contour"
           }
          ],
          "contourcarpet": [
           {
            "colorbar": {
             "outlinewidth": 0,
             "ticks": ""
            },
            "type": "contourcarpet"
           }
          ],
          "heatmap": [
           {
            "colorbar": {
             "outlinewidth": 0,
             "ticks": ""
            },
            "colorscale": [
             [
              0,
              "#0d0887"
             ],
             [
              0.1111111111111111,
              "#46039f"
             ],
             [
              0.2222222222222222,
              "#7201a8"
             ],
             [
              0.3333333333333333,
              "#9c179e"
             ],
             [
              0.4444444444444444,
              "#bd3786"
             ],
             [
              0.5555555555555556,
              "#d8576b"
             ],
             [
              0.6666666666666666,
              "#ed7953"
             ],
             [
              0.7777777777777778,
              "#fb9f3a"
             ],
             [
              0.8888888888888888,
              "#fdca26"
             ],
             [
              1,
              "#f0f921"
             ]
            ],
            "type": "heatmap"
           }
          ],
          "heatmapgl": [
           {
            "colorbar": {
             "outlinewidth": 0,
             "ticks": ""
            },
            "colorscale": [
             [
              0,
              "#0d0887"
             ],
             [
              0.1111111111111111,
              "#46039f"
             ],
             [
              0.2222222222222222,
              "#7201a8"
             ],
             [
              0.3333333333333333,
              "#9c179e"
             ],
             [
              0.4444444444444444,
              "#bd3786"
             ],
             [
              0.5555555555555556,
              "#d8576b"
             ],
             [
              0.6666666666666666,
              "#ed7953"
             ],
             [
              0.7777777777777778,
              "#fb9f3a"
             ],
             [
              0.8888888888888888,
              "#fdca26"
             ],
             [
              1,
              "#f0f921"
             ]
            ],
            "type": "heatmapgl"
           }
          ],
          "histogram": [
           {
            "marker": {
             "pattern": {
              "fillmode": "overlay",
              "size": 10,
              "solidity": 0.2
             }
            },
            "type": "histogram"
           }
          ],
          "histogram2d": [
           {
            "colorbar": {
             "outlinewidth": 0,
             "ticks": ""
            },
            "colorscale": [
             [
              0,
              "#0d0887"
             ],
             [
              0.1111111111111111,
              "#46039f"
             ],
             [
              0.2222222222222222,
              "#7201a8"
             ],
             [
              0.3333333333333333,
              "#9c179e"
             ],
             [
              0.4444444444444444,
              "#bd3786"
             ],
             [
              0.5555555555555556,
              "#d8576b"
             ],
             [
              0.6666666666666666,
              "#ed7953"
             ],
             [
              0.7777777777777778,
              "#fb9f3a"
             ],
             [
              0.8888888888888888,
              "#fdca26"
             ],
             [
              1,
              "#f0f921"
             ]
            ],
            "type": "histogram2d"
           }
          ],
          "histogram2dcontour": [
           {
            "colorbar": {
             "outlinewidth": 0,
             "ticks": ""
            },
            "colorscale": [
             [
              0,
              "#0d0887"
             ],
             [
              0.1111111111111111,
              "#46039f"
             ],
             [
              0.2222222222222222,
              "#7201a8"
             ],
             [
              0.3333333333333333,
              "#9c179e"
             ],
             [
              0.4444444444444444,
              "#bd3786"
             ],
             [
              0.5555555555555556,
              "#d8576b"
             ],
             [
              0.6666666666666666,
              "#ed7953"
             ],
             [
              0.7777777777777778,
              "#fb9f3a"
             ],
             [
              0.8888888888888888,
              "#fdca26"
             ],
             [
              1,
              "#f0f921"
             ]
            ],
            "type": "histogram2dcontour"
           }
          ],
          "mesh3d": [
           {
            "colorbar": {
             "outlinewidth": 0,
             "ticks": ""
            },
            "type": "mesh3d"
           }
          ],
          "parcoords": [
           {
            "line": {
             "colorbar": {
              "outlinewidth": 0,
              "ticks": ""
             }
            },
            "type": "parcoords"
           }
          ],
          "pie": [
           {
            "automargin": true,
            "type": "pie"
           }
          ],
          "scatter": [
           {
            "marker": {
             "colorbar": {
              "outlinewidth": 0,
              "ticks": ""
             }
            },
            "type": "scatter"
           }
          ],
          "scatter3d": [
           {
            "line": {
             "colorbar": {
              "outlinewidth": 0,
              "ticks": ""
             }
            },
            "marker": {
             "colorbar": {
              "outlinewidth": 0,
              "ticks": ""
             }
            },
            "type": "scatter3d"
           }
          ],
          "scattercarpet": [
           {
            "marker": {
             "colorbar": {
              "outlinewidth": 0,
              "ticks": ""
             }
            },
            "type": "scattercarpet"
           }
          ],
          "scattergeo": [
           {
            "marker": {
             "colorbar": {
              "outlinewidth": 0,
              "ticks": ""
             }
            },
            "type": "scattergeo"
           }
          ],
          "scattergl": [
           {
            "marker": {
             "colorbar": {
              "outlinewidth": 0,
              "ticks": ""
             }
            },
            "type": "scattergl"
           }
          ],
          "scattermapbox": [
           {
            "marker": {
             "colorbar": {
              "outlinewidth": 0,
              "ticks": ""
             }
            },
            "type": "scattermapbox"
           }
          ],
          "scatterpolar": [
           {
            "marker": {
             "colorbar": {
              "outlinewidth": 0,
              "ticks": ""
             }
            },
            "type": "scatterpolar"
           }
          ],
          "scatterpolargl": [
           {
            "marker": {
             "colorbar": {
              "outlinewidth": 0,
              "ticks": ""
             }
            },
            "type": "scatterpolargl"
           }
          ],
          "scatterternary": [
           {
            "marker": {
             "colorbar": {
              "outlinewidth": 0,
              "ticks": ""
             }
            },
            "type": "scatterternary"
           }
          ],
          "surface": [
           {
            "colorbar": {
             "outlinewidth": 0,
             "ticks": ""
            },
            "colorscale": [
             [
              0,
              "#0d0887"
             ],
             [
              0.1111111111111111,
              "#46039f"
             ],
             [
              0.2222222222222222,
              "#7201a8"
             ],
             [
              0.3333333333333333,
              "#9c179e"
             ],
             [
              0.4444444444444444,
              "#bd3786"
             ],
             [
              0.5555555555555556,
              "#d8576b"
             ],
             [
              0.6666666666666666,
              "#ed7953"
             ],
             [
              0.7777777777777778,
              "#fb9f3a"
             ],
             [
              0.8888888888888888,
              "#fdca26"
             ],
             [
              1,
              "#f0f921"
             ]
            ],
            "type": "surface"
           }
          ],
          "table": [
           {
            "cells": {
             "fill": {
              "color": "#EBF0F8"
             },
             "line": {
              "color": "white"
             }
            },
            "header": {
             "fill": {
              "color": "#C8D4E3"
             },
             "line": {
              "color": "white"
             }
            },
            "type": "table"
           }
          ]
         },
         "layout": {
          "annotationdefaults": {
           "arrowcolor": "#2a3f5f",
           "arrowhead": 0,
           "arrowwidth": 1
          },
          "autotypenumbers": "strict",
          "coloraxis": {
           "colorbar": {
            "outlinewidth": 0,
            "ticks": ""
           }
          },
          "colorscale": {
           "diverging": [
            [
             0,
             "#8e0152"
            ],
            [
             0.1,
             "#c51b7d"
            ],
            [
             0.2,
             "#de77ae"
            ],
            [
             0.3,
             "#f1b6da"
            ],
            [
             0.4,
             "#fde0ef"
            ],
            [
             0.5,
             "#f7f7f7"
            ],
            [
             0.6,
             "#e6f5d0"
            ],
            [
             0.7,
             "#b8e186"
            ],
            [
             0.8,
             "#7fbc41"
            ],
            [
             0.9,
             "#4d9221"
            ],
            [
             1,
             "#276419"
            ]
           ],
           "sequential": [
            [
             0,
             "#0d0887"
            ],
            [
             0.1111111111111111,
             "#46039f"
            ],
            [
             0.2222222222222222,
             "#7201a8"
            ],
            [
             0.3333333333333333,
             "#9c179e"
            ],
            [
             0.4444444444444444,
             "#bd3786"
            ],
            [
             0.5555555555555556,
             "#d8576b"
            ],
            [
             0.6666666666666666,
             "#ed7953"
            ],
            [
             0.7777777777777778,
             "#fb9f3a"
            ],
            [
             0.8888888888888888,
             "#fdca26"
            ],
            [
             1,
             "#f0f921"
            ]
           ],
           "sequentialminus": [
            [
             0,
             "#0d0887"
            ],
            [
             0.1111111111111111,
             "#46039f"
            ],
            [
             0.2222222222222222,
             "#7201a8"
            ],
            [
             0.3333333333333333,
             "#9c179e"
            ],
            [
             0.4444444444444444,
             "#bd3786"
            ],
            [
             0.5555555555555556,
             "#d8576b"
            ],
            [
             0.6666666666666666,
             "#ed7953"
            ],
            [
             0.7777777777777778,
             "#fb9f3a"
            ],
            [
             0.8888888888888888,
             "#fdca26"
            ],
            [
             1,
             "#f0f921"
            ]
           ]
          },
          "colorway": [
           "#636efa",
           "#EF553B",
           "#00cc96",
           "#ab63fa",
           "#FFA15A",
           "#19d3f3",
           "#FF6692",
           "#B6E880",
           "#FF97FF",
           "#FECB52"
          ],
          "font": {
           "color": "#2a3f5f"
          },
          "geo": {
           "bgcolor": "white",
           "lakecolor": "white",
           "landcolor": "#E5ECF6",
           "showlakes": true,
           "showland": true,
           "subunitcolor": "white"
          },
          "hoverlabel": {
           "align": "left"
          },
          "hovermode": "closest",
          "mapbox": {
           "style": "light"
          },
          "paper_bgcolor": "white",
          "plot_bgcolor": "#E5ECF6",
          "polar": {
           "angularaxis": {
            "gridcolor": "white",
            "linecolor": "white",
            "ticks": ""
           },
           "bgcolor": "#E5ECF6",
           "radialaxis": {
            "gridcolor": "white",
            "linecolor": "white",
            "ticks": ""
           }
          },
          "scene": {
           "xaxis": {
            "backgroundcolor": "#E5ECF6",
            "gridcolor": "white",
            "gridwidth": 2,
            "linecolor": "white",
            "showbackground": true,
            "ticks": "",
            "zerolinecolor": "white"
           },
           "yaxis": {
            "backgroundcolor": "#E5ECF6",
            "gridcolor": "white",
            "gridwidth": 2,
            "linecolor": "white",
            "showbackground": true,
            "ticks": "",
            "zerolinecolor": "white"
           },
           "zaxis": {
            "backgroundcolor": "#E5ECF6",
            "gridcolor": "white",
            "gridwidth": 2,
            "linecolor": "white",
            "showbackground": true,
            "ticks": "",
            "zerolinecolor": "white"
           }
          },
          "shapedefaults": {
           "line": {
            "color": "#2a3f5f"
           }
          },
          "ternary": {
           "aaxis": {
            "gridcolor": "white",
            "linecolor": "white",
            "ticks": ""
           },
           "baxis": {
            "gridcolor": "white",
            "linecolor": "white",
            "ticks": ""
           },
           "bgcolor": "#E5ECF6",
           "caxis": {
            "gridcolor": "white",
            "linecolor": "white",
            "ticks": ""
           }
          },
          "title": {
           "x": 0.05
          },
          "xaxis": {
           "automargin": true,
           "gridcolor": "white",
           "linecolor": "white",
           "ticks": "",
           "title": {
            "standoff": 15
           },
           "zerolinecolor": "white",
           "zerolinewidth": 2
          },
          "yaxis": {
           "automargin": true,
           "gridcolor": "white",
           "linecolor": "white",
           "ticks": "",
           "title": {
            "standoff": 15
           },
           "zerolinecolor": "white",
           "zerolinewidth": 2
          }
         }
        },
        "title": {
         "text": "MBTI # Classified text per Type"
        },
        "xaxis": {
         "autorange": true,
         "range": [
          -0.5,
          15.5
         ],
         "type": "category"
        },
        "yaxis": {
         "autorange": true,
         "range": [
          0,
          18621.052631578947
         ],
         "type": "linear"
        }
       }
      },
      "image/png": "[encoded data removed]",
      "text/html": [
       "<div>                            <div id=\"1ced6fde-da23-4df9-8b3f-19f7f9cbb4cc\" class=\"plotly-graph-div\" style=\"height:525px; width:100%;\"></div>            <script type=\"text/javascript\">                require([\"plotly\"], function(Plotly) {                    window.PLOTLYENV=window.PLOTLYENV || {};                                    if (document.getElementById(\"1ced6fde-da23-4df9-8b3f-19f7f9cbb4cc\")) {                    Plotly.newPlot(                        \"1ced6fde-da23-4df9-8b3f-19f7f9cbb4cc\",                        [{\"x\":[\"ENFJ\",\"ENFP\",\"ENTJ\",\"ENTP\",\"ESFJ\",\"ESFP\",\"ESTJ\",\"ESTP\",\"INFJ\",\"INFP\",\"INTJ\",\"INTP\",\"ISFJ\",\"ISFP\",\"ISTJ\",\"ISTP\"],\"y\":[1024,4338,2106,8303,119,252,71,814,10765,8444,16079,17690,460,620,878,2394],\"type\":\"bar\"}],                        {\"title\":{\"text\":\"MBTI # Classified text per Type\"},\"template\":{\"data\":{\"bar\":[{\"error_x\":{\"color\":\"#2a3f5f\"},\"error_y\":{\"color\":\"#2a3f5f\"},\"marker\":{\"line\":{\"color\":\"#E5ECF6\",\"width\":0.5},\"pattern\":{\"fillmode\":\"overlay\",\"size\":10,\"solidity\":0.2}},\"type\":\"bar\"}],\"barpolar\":[{\"marker\":{\"line\":{\"color\":\"#E5ECF6\",\"width\":0.5},\"pattern\":{\"fillmode\":\"overlay\",\"size\":10,\"solidity\":0.2}},\"type\":\"barpolar\"}],\"carpet\":[{\"aaxis\":{\"endlinecolor\":\"#2a3f5f\",\"gridcolor\":\"white\",\"linecolor\":\"white\",\"minorgridcolor\":\"white\",\"startlinecolor\":\"#2a3f5f\"},\"baxis\":{\"endlinecolor\":\"#2a3f5f\",\"gridcolor\":\"white\",\"linecolor\":\"white\",\"minorgridcolor\":\"white\",\"startlinecolor\":\"#2a3f5f\"},\"type\":\"carpet\"}],\"choropleth\":[{\"colorbar\":{\"outlinewidth\":0,\"ticks\":\"\"},\"type\":\"choropleth\"}],\"contour\":[{\"colorbar\":{\"outlinewidth\":0,\"ticks\":\"\"},\"colorscale\":[[0.0,\"#0d0887\"],[0.1111111111111111,\"#46039f\"],[0.2222222222222222,\"#7201a8\"],[0.3333333333333333,\"#9c179e\"],[0.4444444444444444,\"#bd3786\"],[0.5555555555555556,\"#d8576b\"],[0.6666666666666666,\"#ed7953\"],[0.7777777777777778,\"#fb9f3a\"],[0.8888888888888888,\"#fdca26\"],[1.0,\"#f0f921\"]],\"type\":\"contour\"}],\"contourcarpet\":[{\"colorbar\":{\"outlinewidth\":0,\"ticks\":\"\"},\"type\":\"contourcarpet\"}],\"heatmap\":[{\"colorbar\":{\"outlinewidth\":0,\"ticks\":\"\"},\"colorscale\":[[0.0,\"#0d0887\"],[0.1111111111111111,\"#46039f\"],[0.2222222222222222,\"#7201a8\"],[0.3333333333333333,\"#9c179e\"],[0.4444444444444444,\"#bd3786\"],[0.5555555555555556,\"#d8576b\"],[0.6666666666666666,\"#ed7953\"],[0.7777777777777778,\"#fb9f3a\"],[0.8888888888888888,\"#fdca26\"],[1.0,\"#f0f921\"]],\"type\":\"heatmap\"}],\"heatmapgl\":[{\"colorbar\":{\"outlinewidth\":0,\"ticks\":\"\"},\"colorscale\":[[0.0,\"#0d0887\"],[0.1111111111111111,\"#46039f\"],[0.2222222222222222,\"#7201a8\"],[0.3333333333333333,\"#9c179e\"],[0.4444444444444444,\"#bd3786\"],[0.5555555555555556,\"#d8576b\"],[0.6666666666666666,\"#ed7953\"],[0.7777777777777778,\"#fb9f3a\"],[0.8888888888888888,\"#fdca26\"],[1.0,\"#f0f921\"]],\"type\":\"heatmapgl\"}],\"histogram\":[{\"marker\":{\"pattern\":{\"fillmode\":\"overlay\",\"size\":10,\"solidity\":0.2}},\"type\":\"histogram\"}],\"histogram2d\":[{\"colorbar\":{\"outlinewidth\":0,\"ticks\":\"\"},\"colorscale\":[[0.0,\"#0d0887\"],[0.1111111111111111,\"#46039f\"],[0.2222222222222222,\"#7201a8\"],[0.3333333333333333,\"#9c179e\"],[0.4444444444444444,\"#bd3786\"],[0.5555555555555556,\"#d8576b\"],[0.6666666666666666,\"#ed7953\"],[0.7777777777777778,\"#fb9f3a\"],[0.8888888888888888,\"#fdca26\"],[1.0,\"#f0f921\"]],\"type\":\"histogram2d\"}],\"histogram2dcontour\":[{\"colorbar\":{\"outlinewidth\":0,\"ticks\":\"\"},\"colorscale\":[[0.0,\"#0d0887\"],[0.1111111111111111,\"#46039f\"],[0.2222222222222222,\"#7201a8\"],[0.3333333333333333,\"#9c179e\"],[0.4444444444444444,\"#bd3786\"],[0.5555555555555556,\"#d8576b\"],[0.6666666666666666,\"#ed7953\"],[0.7777777777777778,\"#fb9f3a\"],[0.8888888888888888,\"#fdca26\"],[1.0,\"#f0f921\"]],\"type\":\"histogram2dcontour\"}],\"mesh3d\":[{\"colorbar\":{\"outlinewidth\":0,\"ticks\":\"\"},\"type\":\"mesh3d\"}],\"parcoords\":[{\"line\":{\"colorbar\":{\"outlinewidth\":0,\"ticks\":\"\"}},\"type\":\"parcoords\"}],\"pie\":[{\"automargin\":true,\"type\":\"pie\"}],\"scatter\":[{\"marker\":{\"colorbar\":{\"outlinewidth\":0,\"ticks\":\"\"}},\"type\":\"scatter\"}],\"scatter3d\":[{\"line\":{\"colorbar\":{\"outlinewidth\":0,\"ticks\":\"\"}},\"marker\":{\"colorbar\":{\"outlinewidth\":0,\"ticks\":\"\"}},\"type\":\"scatter3d\"}],\"scattercarpet\":[{\"marker\":{\"colorbar\":{\"outlinewidth\":0,\"ticks\":\"\"}},\"type\":\"scattercarpet\"}],\"scattergeo\":[{\"marker\":{\"colorbar\":{\"outlinewidth\":0,\"ticks\":\"\"}},\"type\":\"scattergeo\"}],\"scattergl\":[{\"marker\":{\"colorbar\":{\"outlinewidth\":0,\"ticks\":\"\"}},\"type\":\"scattergl\"}],\"scattermapbox\":[{\"marker\":{\"colorbar\":{\"outlinewidth\":0,\"ticks\":\"\"}},\"type\":\"scattermapbox\"}],\"scatterpolar\":[{\"marker\":{\"colorbar\":{\"outlinewidth\":0,\"ticks\":\"\"}},\"type\":\"scatterpolar\"}],\"scatterpolargl\":[{\"marker\":{\"colorbar\":{\"outlinewidth\":0,\"ticks\":\"\"}},\"type\":\"scatterpolargl\"}],\"scatterternary\":[{\"marker\":{\"colorbar\":{\"outlinewidth\":0,\"ticks\":\"\"}},\"type\":\"scatterternary\"}],\"surface\":[{\"colorbar\":{\"outlinewidth\":0,\"ticks\":\"\"},\"colorscale\":[[0.0,\"#0d0887\"],[0.1111111111111111,\"#46039f\"],[0.2222222222222222,\"#7201a8\"],[0.3333333333333333,\"#9c179e\"],[0.4444444444444444,\"#bd3786\"],[0.5555555555555556,\"#d8576b\"],[0.6666666666666666,\"#ed7953\"],[0.7777777777777778,\"#fb9f3a\"],[0.8888888888888888,\"#fdca26\"],[1.0,\"#f0f921\"]],\"type\":\"surface\"}],\"table\":[{\"cells\":{\"fill\":{\"color\":\"#EBF0F8\"},\"line\":{\"color\":\"white\"}},\"header\":{\"fill\":{\"color\":\"#C8D4E3\"},\"line\":{\"color\":\"white\"}},\"type\":\"table\"}]},\"layout\":{\"annotationdefaults\":{\"arrowcolor\":\"#2a3f5f\",\"arrowhead\":0,\"arrowwidth\":1},\"autotypenumbers\":\"strict\",\"coloraxis\":{\"colorbar\":{\"outlinewidth\":0,\"ticks\":\"\"}},\"colorscale\":{\"diverging\":[[0,\"#8e0152\"],[0.1,\"#c51b7d\"],[0.2,\"#de77ae\"],[0.3,\"#f1b6da\"],[0.4,\"#fde0ef\"],[0.5,\"#f7f7f7\"],[0.6,\"#e6f5d0\"],[0.7,\"#b8e186\"],[0.8,\"#7fbc41\"],[0.9,\"#4d9221\"],[1,\"#276419\"]],\"sequential\":[[0.0,\"#0d0887\"],[0.1111111111111111,\"#46039f\"],[0.2222222222222222,\"#7201a8\"],[0.3333333333333333,\"#9c179e\"],[0.4444444444444444,\"#bd3786\"],[0.5555555555555556,\"#d8576b\"],[0.6666666666666666,\"#ed7953\"],[0.7777777777777778,\"#fb9f3a\"],[0.8888888888888888,\"#fdca26\"],[1.0,\"#f0f921\"]],\"sequentialminus\":[[0.0,\"#0d0887\"],[0.1111111111111111,\"#46039f\"],[0.2222222222222222,\"#7201a8\"],[0.3333333333333333,\"#9c179e\"],[0.4444444444444444,\"#bd3786\"],[0.5555555555555556,\"#d8576b\"],[0.6666666666666666,\"#ed7953\"],[0.7777777777777778,\"#fb9f3a\"],[0.8888888888888888,\"#fdca26\"],[1.0,\"#f0f921\"]]},\"colorway\":[\"#636efa\",\"#EF553B\",\"#00cc96\",\"#ab63fa\",\"#FFA15A\",\"#19d3f3\",\"#FF6692\",\"#B6E880\",\"#FF97FF\",\"#FECB52\"],\"font\":{\"color\":\"#2a3f5f\"},\"geo\":{\"bgcolor\":\"white\",\"lakecolor\":\"white\",\"landcolor\":\"#E5ECF6\",\"showlakes\":true,\"showland\":true,\"subunitcolor\":\"white\"},\"hoverlabel\":{\"align\":\"left\"},\"hovermode\":\"closest\",\"mapbox\":{\"style\":\"light\"},\"paper_bgcolor\":\"white\",\"plot_bgcolor\":\"#E5ECF6\",\"polar\":{\"angularaxis\":{\"gridcolor\":\"white\",\"linecolor\":\"white\",\"ticks\":\"\"},\"bgcolor\":\"#E5ECF6\",\"radialaxis\":{\"gridcolor\":\"white\",\"linecolor\":\"white\",\"ticks\":\"\"}},\"scene\":{\"xaxis\":{\"backgroundcolor\":\"#E5ECF6\",\"gridcolor\":\"white\",\"gridwidth\":2,\"linecolor\":\"white\",\"showbackground\":true,\"ticks\":\"\",\"zerolinecolor\":\"white\"},\"yaxis\":{\"backgroundcolor\":\"#E5ECF6\",\"gridcolor\":\"white\",\"gridwidth\":2,\"linecolor\":\"white\",\"showbackground\":true,\"ticks\":\"\",\"zerolinecolor\":\"white\"},\"zaxis\":{\"backgroundcolor\":\"#E5ECF6\",\"gridcolor\":\"white\",\"gridwidth\":2,\"linecolor\":\"white\",\"showbackground\":true,\"ticks\":\"\",\"zerolinecolor\":\"white\"}},\"shapedefaults\":{\"line\":{\"color\":\"#2a3f5f\"}},\"ternary\":{\"aaxis\":{\"gridcolor\":\"white\",\"linecolor\":\"white\",\"ticks\":\"\"},\"baxis\":{\"gridcolor\":\"white\",\"linecolor\":\"white\",\"ticks\":\"\"},\"bgcolor\":\"#E5ECF6\",\"caxis\":{\"gridcolor\":\"white\",\"linecolor\":\"white\",\"ticks\":\"\"}},\"title\":{\"x\":0.05},\"xaxis\":{\"automargin\":true,\"gridcolor\":\"white\",\"linecolor\":\"white\",\"ticks\":\"\",\"title\":{\"standoff\":15},\"zerolinecolor\":\"white\",\"zerolinewidth\":2},\"yaxis\":{\"automargin\":true,\"gridcolor\":\"white\",\"linecolor\":\"white\",\"ticks\":\"\",\"title\":{\"standoff\":15},\"zerolinecolor\":\"white\",\"zerolinewidth\":2}}}},                        {\"responsive\": true}                    ).then(function(){\n",
       "                            \n",
       "var gd = document.getElementById('1ced6fde-da23-4df9-8b3f-19f7f9cbb4cc');\n",
       "var x = new MutationObserver(function (mutations, observer) {{\n",
       "        var display = window.getComputedStyle(gd).display;\n",
       "        if (!display || display === 'none') {{\n",
       "            console.log([gd, 'removed!']);\n",
       "            Plotly.purge(gd);\n",
       "            observer.disconnect();\n",
       "        }}\n",
       "}});\n",
       "\n",
       "// Listen for the removal of the full notebook cells\n",
       "var notebookContainer = gd.closest('#notebook-container');\n",
       "if (notebookContainer) {{\n",
       "    x.observe(notebookContainer, {childList: true});\n",
       "}}\n",
       "\n",
       "// Listen for the clearing of the current output cell\n",
       "var outputEl = gd.closest('.output');\n",
       "if (outputEl) {{\n",
       "    x.observe(outputEl, {childList: true});\n",
       "}}\n",
       "\n",
       "                        })                };                });            </script>        </div>"
      ]
     },
     "metadata": {},
     "output_type": "display_data"
    }
   ],
   "source": [
    "df_bar_chart=df.groupby('type').count()\n",
    "trace1 = go.Bar(x=df_bar_chart.index, y=df_bar_chart['text'])\n",
    "data = [trace1]\n",
    "layout = go.Layout(title='MBTI # Classified text per Type')\n",
    "fig = go.Figure(data=data, layout=layout)\n",
    "fig.show()"
   ]
  },
  {
   "cell_type": "markdown",
   "id": "52fa11bc",
   "metadata": {
    "papermill": {
     "duration": 0.05676,
     "end_time": "2022-01-24T11:33:59.432290",
     "exception": false,
     "start_time": "2022-01-24T11:33:59.375530",
     "status": "completed"
    },
    "tags": []
   },
   "source": [
    "# 데이터 전처리 / Train, Validation, Test 분할"
   ]
  },
  {
   "cell_type": "code",
   "execution_count": 11,
   "id": "b774c956-37e2-436f-b61a-4f4eee40c700",
   "metadata": {},
   "outputs": [
    {
     "name": "stderr",
     "output_type": "stream",
     "text": [
      "100%|██████████████████████████████████████████████████████████████████████████| 74357/74357 [00:09<00:00, 7549.00it/s]\n"
     ]
    }
   ],
   "source": [
    "#function to clean the text data\n",
    "def clear_text(data):\n",
    "    data_length=[]\n",
    "    lemmatizer=WordNetLemmatizer()\n",
    "    cleaned_text=[]\n",
    "    for sentence in tqdm(data.text):\n",
    "        sentence=sentence.lower()\n",
    "#         removing links from text data\n",
    "        sentence=re.sub('https?://[^\\s<>\"]+|www\\.[^\\s<>\"]+',' ',sentence)\n",
    "#         removing other symbols\n",
    "        sentence=re.sub('[^0-9a-z]',' ',sentence)\n",
    "        data_length.append(len(sentence.split()))\n",
    "        cleaned_text.append(sentence)\n",
    "    return cleaned_text,data_length\n",
    "\n",
    "df.text, _=clear_text(df)"
   ]
  },
  {
   "cell_type": "markdown",
   "id": "fa825935-0f47-4a16-85fe-567ebf414374",
   "metadata": {},
   "source": [
    "## Train : Valid : Test = 7:1:2"
   ]
  },
  {
   "cell_type": "code",
   "execution_count": 65,
   "id": "73c75344",
   "metadata": {
    "papermill": {
     "duration": 0.093136,
     "end_time": "2022-01-24T11:33:59.583273",
     "exception": false,
     "start_time": "2022-01-24T11:33:59.490137",
     "status": "completed"
    },
    "tags": []
   },
   "outputs": [],
   "source": [
    "X = df['text'] # features\n",
    "y = df['type']  # labels\n",
    "\n",
    "X_train, X_test, y_train, y_test = train_test_split(X, y, test_size=0.2, random_state=42)\n",
    "\n",
    "X_train, X_val, y_train, y_val = train_test_split(X_train, y_train, test_size=0.125, random_state=42)"
   ]
  },
  {
   "cell_type": "code",
   "execution_count": 66,
   "id": "0816c55e-3a9f-4208-8029-4b99509f3e6c",
   "metadata": {},
   "outputs": [
    {
     "data": {
      "text/plain": [
       "74357"
      ]
     },
     "execution_count": 66,
     "metadata": {},
     "output_type": "execute_result"
    }
   ],
   "source": [
    "len(df)"
   ]
  },
  {
   "cell_type": "code",
   "execution_count": 67,
   "id": "2d96d3ad-8c8c-46c4-8d26-c908cc211e14",
   "metadata": {},
   "outputs": [
    {
     "data": {
      "text/plain": [
       "74357"
      ]
     },
     "execution_count": 67,
     "metadata": {},
     "output_type": "execute_result"
    }
   ],
   "source": [
    "len(X_train)+len(X_val)+len(X_test)"
   ]
  },
  {
   "cell_type": "code",
   "execution_count": 68,
   "id": "4f06282b-5429-45d2-b9ec-c73c466860a3",
   "metadata": {},
   "outputs": [
    {
     "name": "stdout",
     "output_type": "stream",
     "text": [
      "0.6999878962303482\n",
      "0.10000403458988394\n",
      "0.20000806917976788\n"
     ]
    }
   ],
   "source": [
    "print(len(X_train)/len(df))\n",
    "\n",
    "print(len(X_val)/len(df))\n",
    "\n",
    "print(len(X_test)/len(df))"
   ]
  },
  {
   "cell_type": "markdown",
   "id": "b9da3d5b-110c-4436-87e7-3ac02daa54ab",
   "metadata": {},
   "source": [
    "# Train"
   ]
  },
  {
   "cell_type": "code",
   "execution_count": 69,
   "id": "43b3dd15-b67a-4ddb-a993-0382188455c9",
   "metadata": {},
   "outputs": [
    {
     "data": {
      "text/plain": [
       "LinearSVC(C=0.475)"
      ]
     },
     "execution_count": 69,
     "metadata": {},
     "output_type": "execute_result"
    }
   ],
   "source": [
    "# Creating an instance to vectorizer:\n",
    "vectorizer = TfidfVectorizer(sublinear_tf = True)\n",
    "    \n",
    "# Training the vectorizer:\n",
    "X_train_tfidf = vectorizer.fit_transform(X_train)\n",
    "    \n",
    "# Training the classifier:    \n",
    "clf = LinearSVC(C = 0.475)\n",
    "clf.fit(X_train_tfidf, y_train)"
   ]
  },
  {
   "cell_type": "code",
   "execution_count": 70,
   "id": "3e54d9da-cfc4-4904-afea-cba8886d6eef",
   "metadata": {},
   "outputs": [],
   "source": [
    "# Pipelining the vectorizer and the classifier\n",
    "text_clf = Pipeline([('tfidf',TfidfVectorizer(sublinear_tf = True)),('clf',LinearSVC(C = 0.475))])"
   ]
  },
  {
   "cell_type": "code",
   "execution_count": 71,
   "id": "da8ce2cd-b4b4-44f3-9799-863d6633eafa",
   "metadata": {},
   "outputs": [
    {
     "data": {
      "text/plain": [
       "Pipeline(steps=[('tfidf', TfidfVectorizer(sublinear_tf=True)),\n",
       "                ('clf', LinearSVC(C=0.475))])"
      ]
     },
     "execution_count": 71,
     "metadata": {},
     "output_type": "execute_result"
    }
   ],
   "source": [
    "text_clf.fit(X_train, y_train)"
   ]
  },
  {
   "cell_type": "markdown",
   "id": "952376f4",
   "metadata": {
    "papermill": {
     "duration": 0.056649,
     "end_time": "2022-01-24T11:37:08.405936",
     "exception": false,
     "start_time": "2022-01-24T11:37:08.349287",
     "status": "completed"
    },
    "tags": []
   },
   "source": [
    "# Validation Set 사용하여 정확도 측정 (개별비교)"
   ]
  },
  {
   "cell_type": "code",
   "execution_count": 72,
   "id": "045c2052-4bb7-4a5e-9a13-a0f435e81684",
   "metadata": {},
   "outputs": [],
   "source": [
    "# 실행"
   ]
  },
  {
   "cell_type": "code",
   "execution_count": 73,
   "id": "9f88f0f9",
   "metadata": {
    "papermill": {
     "duration": 13.587157,
     "end_time": "2022-01-24T11:37:22.050686",
     "exception": false,
     "start_time": "2022-01-24T11:37:08.463529",
     "status": "completed"
    },
    "tags": []
   },
   "outputs": [],
   "source": [
    "predictions = text_clf.predict(X_val)"
   ]
  },
  {
   "cell_type": "code",
   "execution_count": 74,
   "id": "e10d8a56-7380-48f7-8d3c-65c2221a508b",
   "metadata": {
    "collapsed": true,
    "jupyter": {
     "outputs_hidden": true
    },
    "tags": []
   },
   "outputs": [
    {
     "data": {
      "text/plain": [
       "['I',\n",
       " 'N',\n",
       " 'F',\n",
       " 'P',\n",
       " 'I',\n",
       " 'N',\n",
       " 'F',\n",
       " 'J',\n",
       " 'I',\n",
       " 'N',\n",
       " 'F',\n",
       " 'J',\n",
       " 'I',\n",
       " 'N',\n",
       " 'F',\n",
       " 'J',\n",
       " 'I',\n",
       " 'N',\n",
       " 'T',\n",
       " 'P',\n",
       " 'I',\n",
       " 'N',\n",
       " 'F',\n",
       " 'P',\n",
       " 'E',\n",
       " 'N',\n",
       " 'T',\n",
       " 'P',\n",
       " 'E',\n",
       " 'N',\n",
       " 'T',\n",
       " 'P',\n",
       " 'I',\n",
       " 'N',\n",
       " 'F',\n",
       " 'P',\n",
       " 'I',\n",
       " 'N',\n",
       " 'F',\n",
       " 'P',\n",
       " 'I',\n",
       " 'N',\n",
       " 'F',\n",
       " 'P',\n",
       " 'I',\n",
       " 'N',\n",
       " 'T',\n",
       " 'J',\n",
       " 'E',\n",
       " 'N',\n",
       " 'F',\n",
       " 'P',\n",
       " 'I',\n",
       " 'N',\n",
       " 'T',\n",
       " 'J',\n",
       " 'I',\n",
       " 'N',\n",
       " 'F',\n",
       " 'J',\n",
       " 'I',\n",
       " 'N',\n",
       " 'T',\n",
       " 'P',\n",
       " 'I',\n",
       " 'N',\n",
       " 'F',\n",
       " 'J',\n",
       " 'I',\n",
       " 'N',\n",
       " 'F',\n",
       " 'J',\n",
       " 'I',\n",
       " 'N',\n",
       " 'F',\n",
       " 'P',\n",
       " 'I',\n",
       " 'N',\n",
       " 'T',\n",
       " 'P',\n",
       " 'I',\n",
       " 'N',\n",
       " 'F',\n",
       " 'J',\n",
       " 'I',\n",
       " 'N',\n",
       " 'T',\n",
       " 'J',\n",
       " 'I',\n",
       " 'N',\n",
       " 'T',\n",
       " 'P',\n",
       " 'E',\n",
       " 'N',\n",
       " 'F',\n",
       " 'P',\n",
       " 'E',\n",
       " 'N',\n",
       " 'F',\n",
       " 'P',\n",
       " 'I',\n",
       " 'N',\n",
       " 'F',\n",
       " 'J',\n",
       " 'I',\n",
       " 'N',\n",
       " 'T',\n",
       " 'J',\n",
       " 'I',\n",
       " 'N',\n",
       " 'T',\n",
       " 'P',\n",
       " 'E',\n",
       " 'N',\n",
       " 'F',\n",
       " 'P',\n",
       " 'E',\n",
       " 'N',\n",
       " 'F',\n",
       " 'P',\n",
       " 'I',\n",
       " 'N',\n",
       " 'T',\n",
       " 'P',\n",
       " 'I',\n",
       " 'S',\n",
       " 'T',\n",
       " 'J',\n",
       " 'E',\n",
       " 'N',\n",
       " 'F',\n",
       " 'P',\n",
       " 'E',\n",
       " 'N',\n",
       " 'T',\n",
       " 'P',\n",
       " 'I',\n",
       " 'N',\n",
       " 'T',\n",
       " 'P',\n",
       " 'I',\n",
       " 'N',\n",
       " 'T',\n",
       " 'J',\n",
       " 'E',\n",
       " 'N',\n",
       " 'F',\n",
       " 'P',\n",
       " 'I',\n",
       " 'N',\n",
       " 'F',\n",
       " 'P',\n",
       " 'E',\n",
       " 'N',\n",
       " 'T',\n",
       " 'J',\n",
       " 'I',\n",
       " 'N',\n",
       " 'F',\n",
       " 'J',\n",
       " 'E',\n",
       " 'N',\n",
       " 'T',\n",
       " 'P',\n",
       " 'E',\n",
       " 'N',\n",
       " 'T',\n",
       " 'P',\n",
       " 'E',\n",
       " 'N',\n",
       " 'F',\n",
       " 'P',\n",
       " 'I',\n",
       " 'N',\n",
       " 'F',\n",
       " 'P',\n",
       " 'I',\n",
       " 'N',\n",
       " 'F',\n",
       " 'J',\n",
       " 'I',\n",
       " 'N',\n",
       " 'F',\n",
       " 'P',\n",
       " 'I',\n",
       " 'S',\n",
       " 'T',\n",
       " 'P',\n",
       " 'E',\n",
       " 'N',\n",
       " 'F',\n",
       " 'P',\n",
       " 'E',\n",
       " 'N',\n",
       " 'T',\n",
       " 'P',\n",
       " 'E',\n",
       " 'N',\n",
       " 'T',\n",
       " 'P',\n",
       " 'E',\n",
       " 'N',\n",
       " 'T',\n",
       " 'P',\n",
       " 'I',\n",
       " 'N',\n",
       " 'T',\n",
       " 'J',\n",
       " 'I',\n",
       " 'N',\n",
       " 'F',\n",
       " 'J',\n",
       " 'I',\n",
       " 'N',\n",
       " 'T',\n",
       " 'P',\n",
       " 'I',\n",
       " 'N',\n",
       " 'T',\n",
       " 'J',\n",
       " 'I',\n",
       " 'N',\n",
       " 'F',\n",
       " 'J',\n",
       " 'I',\n",
       " 'N',\n",
       " 'T',\n",
       " 'P',\n",
       " 'E',\n",
       " 'N',\n",
       " 'F',\n",
       " 'P',\n",
       " 'I',\n",
       " 'N',\n",
       " 'F',\n",
       " 'P',\n",
       " 'I',\n",
       " 'N',\n",
       " 'T',\n",
       " 'J',\n",
       " 'I',\n",
       " 'N',\n",
       " 'F',\n",
       " 'P',\n",
       " 'E',\n",
       " 'N',\n",
       " 'T',\n",
       " 'P',\n",
       " 'I',\n",
       " 'N',\n",
       " 'F',\n",
       " 'J',\n",
       " 'I',\n",
       " 'N',\n",
       " 'T',\n",
       " 'J',\n",
       " 'I',\n",
       " 'N',\n",
       " 'T',\n",
       " 'J',\n",
       " 'I',\n",
       " 'N',\n",
       " 'T',\n",
       " 'P',\n",
       " 'I',\n",
       " 'N',\n",
       " 'T',\n",
       " 'P',\n",
       " 'I',\n",
       " 'N',\n",
       " 'T',\n",
       " 'P',\n",
       " 'I',\n",
       " 'N',\n",
       " 'T',\n",
       " 'J',\n",
       " 'I',\n",
       " 'N',\n",
       " 'F',\n",
       " 'P',\n",
       " 'I',\n",
       " 'N',\n",
       " 'T',\n",
       " 'J',\n",
       " 'I',\n",
       " 'N',\n",
       " 'F',\n",
       " 'P',\n",
       " 'I',\n",
       " 'N',\n",
       " 'T',\n",
       " 'J',\n",
       " 'I',\n",
       " 'N',\n",
       " 'T',\n",
       " 'J',\n",
       " 'I',\n",
       " 'N',\n",
       " 'F',\n",
       " 'J',\n",
       " 'I',\n",
       " 'N',\n",
       " 'F',\n",
       " 'P',\n",
       " 'I',\n",
       " 'N',\n",
       " 'T',\n",
       " 'J',\n",
       " 'I',\n",
       " 'N',\n",
       " 'T',\n",
       " 'J',\n",
       " 'E',\n",
       " 'N',\n",
       " 'T',\n",
       " 'J',\n",
       " 'I',\n",
       " 'N',\n",
       " 'T',\n",
       " 'P',\n",
       " 'I',\n",
       " 'N',\n",
       " 'T',\n",
       " 'P',\n",
       " 'I',\n",
       " 'N',\n",
       " 'T',\n",
       " 'J',\n",
       " 'I',\n",
       " 'N',\n",
       " 'F',\n",
       " 'J',\n",
       " 'I',\n",
       " 'N',\n",
       " 'T',\n",
       " 'J',\n",
       " 'I',\n",
       " 'N',\n",
       " 'T',\n",
       " 'J',\n",
       " 'I',\n",
       " 'N',\n",
       " 'F',\n",
       " 'J',\n",
       " 'E',\n",
       " 'N',\n",
       " 'T',\n",
       " 'P',\n",
       " 'E',\n",
       " 'N',\n",
       " 'T',\n",
       " 'P',\n",
       " 'I',\n",
       " 'N',\n",
       " 'F',\n",
       " 'J',\n",
       " 'I',\n",
       " 'N',\n",
       " 'T',\n",
       " 'P',\n",
       " 'I',\n",
       " 'N',\n",
       " 'F',\n",
       " 'J',\n",
       " 'I',\n",
       " 'N',\n",
       " 'T',\n",
       " 'P',\n",
       " 'I',\n",
       " 'N',\n",
       " 'T',\n",
       " 'P',\n",
       " 'I',\n",
       " 'N',\n",
       " 'T',\n",
       " 'P',\n",
       " 'I',\n",
       " 'N',\n",
       " 'T',\n",
       " 'P',\n",
       " 'E',\n",
       " 'N',\n",
       " 'T',\n",
       " 'P',\n",
       " 'I',\n",
       " 'N',\n",
       " 'T',\n",
       " 'P',\n",
       " 'I',\n",
       " 'N',\n",
       " 'T',\n",
       " 'J',\n",
       " 'I',\n",
       " 'N',\n",
       " 'T',\n",
       " 'P',\n",
       " 'I',\n",
       " 'N',\n",
       " 'T',\n",
       " 'J',\n",
       " 'E',\n",
       " 'N',\n",
       " 'F',\n",
       " 'P',\n",
       " 'I',\n",
       " 'N',\n",
       " 'T',\n",
       " 'J',\n",
       " 'I',\n",
       " 'N',\n",
       " 'F',\n",
       " 'P',\n",
       " 'I',\n",
       " 'N',\n",
       " 'F',\n",
       " 'J',\n",
       " 'I',\n",
       " 'N',\n",
       " 'F',\n",
       " 'J',\n",
       " 'I',\n",
       " 'N',\n",
       " 'T',\n",
       " 'J',\n",
       " 'I',\n",
       " 'S',\n",
       " 'T',\n",
       " 'P',\n",
       " 'I',\n",
       " 'N',\n",
       " 'F',\n",
       " 'J',\n",
       " 'E',\n",
       " 'N',\n",
       " 'T',\n",
       " 'P',\n",
       " 'I',\n",
       " 'N',\n",
       " 'T',\n",
       " 'J',\n",
       " 'I',\n",
       " 'N',\n",
       " 'T',\n",
       " 'J',\n",
       " 'I',\n",
       " 'N',\n",
       " 'T',\n",
       " 'P',\n",
       " 'I',\n",
       " 'N',\n",
       " 'T',\n",
       " 'P',\n",
       " 'I',\n",
       " 'N',\n",
       " 'T',\n",
       " 'P',\n",
       " 'I',\n",
       " 'N',\n",
       " 'F',\n",
       " 'J',\n",
       " 'I',\n",
       " 'N',\n",
       " 'T',\n",
       " 'J',\n",
       " 'I',\n",
       " 'N',\n",
       " 'F',\n",
       " 'J',\n",
       " 'E',\n",
       " 'S',\n",
       " 'T',\n",
       " 'P',\n",
       " 'I',\n",
       " 'N',\n",
       " 'F',\n",
       " 'J',\n",
       " 'I',\n",
       " 'S',\n",
       " 'T',\n",
       " 'P',\n",
       " 'I',\n",
       " 'N',\n",
       " 'F',\n",
       " 'P',\n",
       " 'I',\n",
       " 'N',\n",
       " 'F',\n",
       " 'P',\n",
       " 'E',\n",
       " 'S',\n",
       " 'T',\n",
       " 'P',\n",
       " 'E',\n",
       " 'N',\n",
       " 'T',\n",
       " 'J',\n",
       " 'I',\n",
       " 'S',\n",
       " 'T',\n",
       " 'P',\n",
       " 'I',\n",
       " 'N',\n",
       " 'T',\n",
       " 'P',\n",
       " 'I',\n",
       " 'N',\n",
       " 'F',\n",
       " 'P',\n",
       " 'E',\n",
       " 'N',\n",
       " 'T',\n",
       " 'P',\n",
       " 'I',\n",
       " 'N',\n",
       " 'F',\n",
       " 'J',\n",
       " 'E',\n",
       " 'N',\n",
       " 'F',\n",
       " 'P',\n",
       " 'I',\n",
       " 'S',\n",
       " 'T',\n",
       " 'P',\n",
       " 'E',\n",
       " 'N',\n",
       " 'T',\n",
       " 'J',\n",
       " 'I',\n",
       " 'N',\n",
       " 'T',\n",
       " 'J',\n",
       " 'I',\n",
       " 'N',\n",
       " 'F',\n",
       " 'J',\n",
       " 'I',\n",
       " 'N',\n",
       " 'T',\n",
       " 'J',\n",
       " 'I',\n",
       " 'N',\n",
       " 'T',\n",
       " 'P',\n",
       " 'I',\n",
       " 'N',\n",
       " 'F',\n",
       " 'J',\n",
       " 'I',\n",
       " 'N',\n",
       " 'F',\n",
       " 'J',\n",
       " 'I',\n",
       " 'N',\n",
       " 'T',\n",
       " 'P',\n",
       " 'I',\n",
       " 'N',\n",
       " 'F',\n",
       " 'P',\n",
       " 'I',\n",
       " 'N',\n",
       " 'T',\n",
       " 'P',\n",
       " 'I',\n",
       " 'N',\n",
       " 'T',\n",
       " 'J',\n",
       " 'I',\n",
       " 'N',\n",
       " 'T',\n",
       " 'J',\n",
       " 'I',\n",
       " 'N',\n",
       " 'T',\n",
       " 'J',\n",
       " 'I',\n",
       " 'N',\n",
       " 'T',\n",
       " 'J',\n",
       " 'I',\n",
       " 'N',\n",
       " 'F',\n",
       " 'P',\n",
       " 'E',\n",
       " 'N',\n",
       " 'T',\n",
       " 'P',\n",
       " 'I',\n",
       " 'N',\n",
       " 'T',\n",
       " 'J',\n",
       " 'I',\n",
       " 'N',\n",
       " 'T',\n",
       " 'J',\n",
       " 'I',\n",
       " 'N',\n",
       " 'T',\n",
       " 'J',\n",
       " 'I',\n",
       " 'N',\n",
       " 'T',\n",
       " 'P',\n",
       " 'I',\n",
       " 'N',\n",
       " 'F',\n",
       " 'J',\n",
       " 'I',\n",
       " 'N',\n",
       " 'F',\n",
       " 'J',\n",
       " 'I',\n",
       " 'N',\n",
       " 'T',\n",
       " 'P',\n",
       " 'E',\n",
       " 'N',\n",
       " 'T',\n",
       " 'P',\n",
       " 'I',\n",
       " 'N',\n",
       " 'T',\n",
       " 'P',\n",
       " 'I',\n",
       " 'N',\n",
       " 'F',\n",
       " 'P',\n",
       " 'I',\n",
       " 'N',\n",
       " 'T',\n",
       " 'P',\n",
       " 'I',\n",
       " 'N',\n",
       " 'T',\n",
       " 'P',\n",
       " 'E',\n",
       " 'N',\n",
       " 'F',\n",
       " 'P',\n",
       " 'I',\n",
       " 'N',\n",
       " 'F',\n",
       " 'P',\n",
       " 'I',\n",
       " 'N',\n",
       " 'T',\n",
       " 'J',\n",
       " 'I',\n",
       " 'N',\n",
       " 'T',\n",
       " 'P',\n",
       " 'I',\n",
       " 'N',\n",
       " 'T',\n",
       " 'J',\n",
       " 'I',\n",
       " 'N',\n",
       " 'T',\n",
       " 'P',\n",
       " 'I',\n",
       " 'N',\n",
       " 'T',\n",
       " 'P',\n",
       " 'E',\n",
       " 'N',\n",
       " 'T',\n",
       " 'P',\n",
       " 'I',\n",
       " 'N',\n",
       " 'F',\n",
       " 'J',\n",
       " 'I',\n",
       " 'N',\n",
       " 'F',\n",
       " 'J',\n",
       " 'I',\n",
       " 'N',\n",
       " 'T',\n",
       " 'P',\n",
       " 'E',\n",
       " 'N',\n",
       " 'F',\n",
       " 'P',\n",
       " 'I',\n",
       " 'N',\n",
       " 'T',\n",
       " 'P',\n",
       " 'E',\n",
       " 'N',\n",
       " 'T',\n",
       " 'P',\n",
       " 'I',\n",
       " 'N',\n",
       " 'F',\n",
       " 'J',\n",
       " 'I',\n",
       " 'N',\n",
       " 'T',\n",
       " 'J',\n",
       " 'I',\n",
       " 'N',\n",
       " 'T',\n",
       " 'J',\n",
       " 'I',\n",
       " 'N',\n",
       " 'F',\n",
       " 'P',\n",
       " 'I',\n",
       " 'S',\n",
       " 'T',\n",
       " 'P',\n",
       " 'I',\n",
       " 'N',\n",
       " 'T',\n",
       " 'P',\n",
       " 'I',\n",
       " 'N',\n",
       " 'T',\n",
       " 'J',\n",
       " 'I',\n",
       " 'N',\n",
       " 'F',\n",
       " 'J',\n",
       " 'I',\n",
       " 'N',\n",
       " 'F',\n",
       " 'P',\n",
       " 'I',\n",
       " 'N',\n",
       " 'T',\n",
       " 'P',\n",
       " 'I',\n",
       " 'N',\n",
       " 'T',\n",
       " 'J',\n",
       " 'E',\n",
       " 'N',\n",
       " 'T',\n",
       " 'P',\n",
       " 'I',\n",
       " 'N',\n",
       " 'F',\n",
       " 'J',\n",
       " 'I',\n",
       " 'N',\n",
       " 'T',\n",
       " 'P',\n",
       " 'I',\n",
       " 'N',\n",
       " 'F',\n",
       " 'J',\n",
       " 'I',\n",
       " 'N',\n",
       " 'F',\n",
       " 'J',\n",
       " 'I',\n",
       " 'N',\n",
       " 'T',\n",
       " 'P',\n",
       " 'I',\n",
       " 'N',\n",
       " 'T',\n",
       " 'J',\n",
       " 'E',\n",
       " 'S',\n",
       " 'F',\n",
       " 'P',\n",
       " 'I',\n",
       " 'N',\n",
       " 'F',\n",
       " 'P',\n",
       " 'I',\n",
       " 'N',\n",
       " 'T',\n",
       " 'P',\n",
       " 'E',\n",
       " 'N',\n",
       " 'T',\n",
       " 'P',\n",
       " 'I',\n",
       " 'N',\n",
       " 'T',\n",
       " 'P',\n",
       " 'I',\n",
       " 'S',\n",
       " 'T',\n",
       " 'P',\n",
       " 'I',\n",
       " 'N',\n",
       " 'T',\n",
       " 'P',\n",
       " 'I',\n",
       " 'N',\n",
       " 'T',\n",
       " 'P',\n",
       " 'I',\n",
       " 'N',\n",
       " 'F',\n",
       " 'P',\n",
       " 'I',\n",
       " 'N',\n",
       " 'F',\n",
       " 'J',\n",
       " 'I',\n",
       " 'S',\n",
       " 'T',\n",
       " 'P',\n",
       " 'I',\n",
       " 'S',\n",
       " 'F',\n",
       " 'P',\n",
       " 'I',\n",
       " 'N',\n",
       " 'F',\n",
       " 'P',\n",
       " 'I',\n",
       " 'N',\n",
       " 'F',\n",
       " 'J',\n",
       " 'I',\n",
       " 'N',\n",
       " 'F',\n",
       " 'P',\n",
       " 'E',\n",
       " 'N',\n",
       " 'T',\n",
       " 'P',\n",
       " 'E',\n",
       " 'N',\n",
       " 'F',\n",
       " 'P',\n",
       " 'I',\n",
       " 'N',\n",
       " 'F',\n",
       " 'J',\n",
       " 'E',\n",
       " 'N',\n",
       " 'T',\n",
       " 'P',\n",
       " 'I',\n",
       " 'N',\n",
       " 'T',\n",
       " 'J',\n",
       " 'E',\n",
       " 'N',\n",
       " 'T',\n",
       " 'P',\n",
       " 'I',\n",
       " 'N',\n",
       " 'T',\n",
       " 'P',\n",
       " 'I',\n",
       " 'N',\n",
       " 'F',\n",
       " 'P',\n",
       " 'E',\n",
       " 'N',\n",
       " 'T',\n",
       " 'P',\n",
       " 'I',\n",
       " 'N',\n",
       " 'F',\n",
       " 'J',\n",
       " 'I',\n",
       " 'N',\n",
       " 'T',\n",
       " 'J',\n",
       " 'I',\n",
       " 'N',\n",
       " 'T',\n",
       " 'P',\n",
       " 'I',\n",
       " 'N',\n",
       " 'T',\n",
       " 'J',\n",
       " 'I',\n",
       " 'N',\n",
       " 'T',\n",
       " 'P',\n",
       " 'E',\n",
       " 'N',\n",
       " 'F',\n",
       " 'P',\n",
       " 'I',\n",
       " 'N',\n",
       " 'T',\n",
       " 'P',\n",
       " 'I',\n",
       " 'N',\n",
       " 'F',\n",
       " 'J',\n",
       " 'I',\n",
       " 'N',\n",
       " 'F',\n",
       " 'J',\n",
       " 'I',\n",
       " 'N',\n",
       " 'F',\n",
       " 'P',\n",
       " 'I',\n",
       " 'N',\n",
       " 'T',\n",
       " 'P',\n",
       " 'I',\n",
       " 'S',\n",
       " 'T',\n",
       " 'P',\n",
       " 'I',\n",
       " 'N',\n",
       " 'T',\n",
       " 'P',\n",
       " 'I',\n",
       " 'N',\n",
       " 'T',\n",
       " 'P',\n",
       " 'I',\n",
       " 'N',\n",
       " 'T',\n",
       " 'J',\n",
       " 'I',\n",
       " 'N',\n",
       " 'F',\n",
       " 'J',\n",
       " 'I',\n",
       " 'N',\n",
       " 'T',\n",
       " 'J',\n",
       " 'E',\n",
       " 'N',\n",
       " 'T',\n",
       " 'P',\n",
       " 'I',\n",
       " 'N',\n",
       " 'T',\n",
       " 'J',\n",
       " 'I',\n",
       " 'N',\n",
       " 'T',\n",
       " 'P',\n",
       " 'I',\n",
       " 'N',\n",
       " 'T',\n",
       " 'P',\n",
       " 'I',\n",
       " 'N',\n",
       " 'T',\n",
       " 'J',\n",
       " 'I',\n",
       " 'N',\n",
       " 'F',\n",
       " 'J',\n",
       " 'I',\n",
       " 'N',\n",
       " 'T',\n",
       " 'J',\n",
       " 'I',\n",
       " 'S',\n",
       " 'T',\n",
       " 'P',\n",
       " 'E',\n",
       " 'N',\n",
       " 'T',\n",
       " 'P',\n",
       " 'I',\n",
       " 'N',\n",
       " 'F',\n",
       " 'P',\n",
       " 'I',\n",
       " 'N',\n",
       " 'T',\n",
       " 'J',\n",
       " 'E',\n",
       " 'N',\n",
       " 'T',\n",
       " 'P',\n",
       " 'I',\n",
       " 'N',\n",
       " 'F',\n",
       " 'J',\n",
       " 'I',\n",
       " 'N',\n",
       " 'T',\n",
       " 'J',\n",
       " 'E',\n",
       " 'N',\n",
       " 'T',\n",
       " 'P',\n",
       " 'E',\n",
       " 'N',\n",
       " 'T',\n",
       " 'J',\n",
       " 'I',\n",
       " 'N',\n",
       " 'F',\n",
       " 'P',\n",
       " 'I',\n",
       " 'N',\n",
       " 'T',\n",
       " 'J',\n",
       " ...]"
      ]
     },
     "execution_count": 74,
     "metadata": {},
     "output_type": "execute_result"
    }
   ],
   "source": [
    "pd.DataFrame(predictions)[0].apply(list).sum()"
   ]
  },
  {
   "cell_type": "code",
   "execution_count": 75,
   "id": "fe77f298-9284-4bfe-bcf4-c0541d34fe22",
   "metadata": {
    "collapsed": true,
    "jupyter": {
     "outputs_hidden": true
    },
    "tags": []
   },
   "outputs": [
    {
     "data": {
      "text/plain": [
       "['I',\n",
       " 'N',\n",
       " 'F',\n",
       " 'P',\n",
       " 'I',\n",
       " 'N',\n",
       " 'F',\n",
       " 'J',\n",
       " 'I',\n",
       " 'N',\n",
       " 'F',\n",
       " 'J',\n",
       " 'I',\n",
       " 'N',\n",
       " 'F',\n",
       " 'J',\n",
       " 'I',\n",
       " 'N',\n",
       " 'T',\n",
       " 'P',\n",
       " 'E',\n",
       " 'N',\n",
       " 'F',\n",
       " 'J',\n",
       " 'E',\n",
       " 'N',\n",
       " 'T',\n",
       " 'P',\n",
       " 'E',\n",
       " 'N',\n",
       " 'T',\n",
       " 'P',\n",
       " 'I',\n",
       " 'N',\n",
       " 'F',\n",
       " 'J',\n",
       " 'I',\n",
       " 'N',\n",
       " 'F',\n",
       " 'P',\n",
       " 'I',\n",
       " 'N',\n",
       " 'F',\n",
       " 'P',\n",
       " 'I',\n",
       " 'N',\n",
       " 'T',\n",
       " 'J',\n",
       " 'E',\n",
       " 'N',\n",
       " 'F',\n",
       " 'P',\n",
       " 'E',\n",
       " 'N',\n",
       " 'F',\n",
       " 'P',\n",
       " 'I',\n",
       " 'N',\n",
       " 'F',\n",
       " 'J',\n",
       " 'I',\n",
       " 'N',\n",
       " 'T',\n",
       " 'P',\n",
       " 'I',\n",
       " 'N',\n",
       " 'F',\n",
       " 'P',\n",
       " 'I',\n",
       " 'N',\n",
       " 'F',\n",
       " 'J',\n",
       " 'I',\n",
       " 'N',\n",
       " 'F',\n",
       " 'P',\n",
       " 'I',\n",
       " 'N',\n",
       " 'T',\n",
       " 'P',\n",
       " 'E',\n",
       " 'N',\n",
       " 'F',\n",
       " 'J',\n",
       " 'I',\n",
       " 'N',\n",
       " 'T',\n",
       " 'J',\n",
       " 'I',\n",
       " 'N',\n",
       " 'T',\n",
       " 'P',\n",
       " 'E',\n",
       " 'N',\n",
       " 'F',\n",
       " 'P',\n",
       " 'E',\n",
       " 'N',\n",
       " 'F',\n",
       " 'P',\n",
       " 'I',\n",
       " 'N',\n",
       " 'F',\n",
       " 'J',\n",
       " 'I',\n",
       " 'N',\n",
       " 'T',\n",
       " 'J',\n",
       " 'I',\n",
       " 'N',\n",
       " 'T',\n",
       " 'P',\n",
       " 'E',\n",
       " 'N',\n",
       " 'F',\n",
       " 'P',\n",
       " 'E',\n",
       " 'N',\n",
       " 'F',\n",
       " 'P',\n",
       " 'I',\n",
       " 'N',\n",
       " 'T',\n",
       " 'J',\n",
       " 'I',\n",
       " 'S',\n",
       " 'T',\n",
       " 'J',\n",
       " 'E',\n",
       " 'N',\n",
       " 'F',\n",
       " 'P',\n",
       " 'E',\n",
       " 'N',\n",
       " 'T',\n",
       " 'P',\n",
       " 'I',\n",
       " 'N',\n",
       " 'T',\n",
       " 'P',\n",
       " 'I',\n",
       " 'N',\n",
       " 'T',\n",
       " 'J',\n",
       " 'E',\n",
       " 'N',\n",
       " 'F',\n",
       " 'P',\n",
       " 'E',\n",
       " 'S',\n",
       " 'F',\n",
       " 'J',\n",
       " 'E',\n",
       " 'N',\n",
       " 'T',\n",
       " 'J',\n",
       " 'I',\n",
       " 'N',\n",
       " 'F',\n",
       " 'J',\n",
       " 'E',\n",
       " 'N',\n",
       " 'T',\n",
       " 'P',\n",
       " 'I',\n",
       " 'N',\n",
       " 'T',\n",
       " 'P',\n",
       " 'E',\n",
       " 'N',\n",
       " 'F',\n",
       " 'P',\n",
       " 'I',\n",
       " 'N',\n",
       " 'F',\n",
       " 'P',\n",
       " 'E',\n",
       " 'N',\n",
       " 'F',\n",
       " 'P',\n",
       " 'I',\n",
       " 'N',\n",
       " 'F',\n",
       " 'P',\n",
       " 'I',\n",
       " 'S',\n",
       " 'T',\n",
       " 'P',\n",
       " 'E',\n",
       " 'N',\n",
       " 'F',\n",
       " 'P',\n",
       " 'I',\n",
       " 'N',\n",
       " 'T',\n",
       " 'J',\n",
       " 'E',\n",
       " 'N',\n",
       " 'T',\n",
       " 'P',\n",
       " 'E',\n",
       " 'N',\n",
       " 'T',\n",
       " 'P',\n",
       " 'I',\n",
       " 'N',\n",
       " 'T',\n",
       " 'J',\n",
       " 'I',\n",
       " 'N',\n",
       " 'F',\n",
       " 'J',\n",
       " 'I',\n",
       " 'N',\n",
       " 'T',\n",
       " 'P',\n",
       " 'I',\n",
       " 'N',\n",
       " 'T',\n",
       " 'J',\n",
       " 'I',\n",
       " 'N',\n",
       " 'F',\n",
       " 'J',\n",
       " 'I',\n",
       " 'N',\n",
       " 'T',\n",
       " 'P',\n",
       " 'E',\n",
       " 'N',\n",
       " 'F',\n",
       " 'P',\n",
       " 'I',\n",
       " 'N',\n",
       " 'T',\n",
       " 'P',\n",
       " 'I',\n",
       " 'N',\n",
       " 'T',\n",
       " 'J',\n",
       " 'I',\n",
       " 'N',\n",
       " 'F',\n",
       " 'P',\n",
       " 'I',\n",
       " 'S',\n",
       " 'T',\n",
       " 'P',\n",
       " 'I',\n",
       " 'N',\n",
       " 'F',\n",
       " 'J',\n",
       " 'I',\n",
       " 'N',\n",
       " 'T',\n",
       " 'J',\n",
       " 'I',\n",
       " 'N',\n",
       " 'T',\n",
       " 'J',\n",
       " 'I',\n",
       " 'N',\n",
       " 'T',\n",
       " 'P',\n",
       " 'I',\n",
       " 'N',\n",
       " 'T',\n",
       " 'P',\n",
       " 'E',\n",
       " 'N',\n",
       " 'T',\n",
       " 'P',\n",
       " 'I',\n",
       " 'N',\n",
       " 'T',\n",
       " 'J',\n",
       " 'I',\n",
       " 'N',\n",
       " 'F',\n",
       " 'P',\n",
       " 'I',\n",
       " 'N',\n",
       " 'T',\n",
       " 'J',\n",
       " 'I',\n",
       " 'N',\n",
       " 'F',\n",
       " 'P',\n",
       " 'I',\n",
       " 'N',\n",
       " 'T',\n",
       " 'J',\n",
       " 'I',\n",
       " 'N',\n",
       " 'T',\n",
       " 'J',\n",
       " 'I',\n",
       " 'N',\n",
       " 'F',\n",
       " 'P',\n",
       " 'I',\n",
       " 'N',\n",
       " 'F',\n",
       " 'P',\n",
       " 'I',\n",
       " 'N',\n",
       " 'T',\n",
       " 'P',\n",
       " 'I',\n",
       " 'N',\n",
       " 'T',\n",
       " 'J',\n",
       " 'E',\n",
       " 'N',\n",
       " 'T',\n",
       " 'J',\n",
       " 'I',\n",
       " 'N',\n",
       " 'T',\n",
       " 'P',\n",
       " 'I',\n",
       " 'N',\n",
       " 'T',\n",
       " 'P',\n",
       " 'I',\n",
       " 'N',\n",
       " 'T',\n",
       " 'J',\n",
       " 'I',\n",
       " 'N',\n",
       " 'F',\n",
       " 'J',\n",
       " 'I',\n",
       " 'N',\n",
       " 'T',\n",
       " 'J',\n",
       " 'I',\n",
       " 'N',\n",
       " 'T',\n",
       " 'J',\n",
       " 'I',\n",
       " 'N',\n",
       " 'F',\n",
       " 'J',\n",
       " 'E',\n",
       " 'N',\n",
       " 'T',\n",
       " 'P',\n",
       " 'E',\n",
       " 'N',\n",
       " 'T',\n",
       " 'P',\n",
       " 'I',\n",
       " 'N',\n",
       " 'F',\n",
       " 'J',\n",
       " 'I',\n",
       " 'N',\n",
       " 'T',\n",
       " 'P',\n",
       " 'I',\n",
       " 'N',\n",
       " 'F',\n",
       " 'P',\n",
       " 'I',\n",
       " 'N',\n",
       " 'T',\n",
       " 'P',\n",
       " 'I',\n",
       " 'N',\n",
       " 'T',\n",
       " 'P',\n",
       " 'I',\n",
       " 'S',\n",
       " 'T',\n",
       " 'J',\n",
       " 'I',\n",
       " 'N',\n",
       " 'T',\n",
       " 'P',\n",
       " 'E',\n",
       " 'N',\n",
       " 'T',\n",
       " 'P',\n",
       " 'I',\n",
       " 'N',\n",
       " 'T',\n",
       " 'P',\n",
       " 'E',\n",
       " 'N',\n",
       " 'F',\n",
       " 'P',\n",
       " 'I',\n",
       " 'N',\n",
       " 'T',\n",
       " 'P',\n",
       " 'I',\n",
       " 'N',\n",
       " 'T',\n",
       " 'J',\n",
       " 'I',\n",
       " 'N',\n",
       " 'F',\n",
       " 'P',\n",
       " 'I',\n",
       " 'N',\n",
       " 'T',\n",
       " 'J',\n",
       " 'I',\n",
       " 'N',\n",
       " 'F',\n",
       " 'P',\n",
       " 'I',\n",
       " 'N',\n",
       " 'F',\n",
       " 'J',\n",
       " 'I',\n",
       " 'N',\n",
       " 'F',\n",
       " 'P',\n",
       " 'I',\n",
       " 'N',\n",
       " 'T',\n",
       " 'J',\n",
       " 'I',\n",
       " 'S',\n",
       " 'T',\n",
       " 'P',\n",
       " 'I',\n",
       " 'N',\n",
       " 'F',\n",
       " 'J',\n",
       " 'E',\n",
       " 'N',\n",
       " 'T',\n",
       " 'P',\n",
       " 'I',\n",
       " 'N',\n",
       " 'T',\n",
       " 'J',\n",
       " 'I',\n",
       " 'N',\n",
       " 'T',\n",
       " 'J',\n",
       " 'I',\n",
       " 'N',\n",
       " 'T',\n",
       " 'P',\n",
       " 'I',\n",
       " 'N',\n",
       " 'T',\n",
       " 'P',\n",
       " 'I',\n",
       " 'N',\n",
       " 'T',\n",
       " 'P',\n",
       " 'I',\n",
       " 'S',\n",
       " 'F',\n",
       " 'J',\n",
       " 'I',\n",
       " 'N',\n",
       " 'F',\n",
       " 'J',\n",
       " 'I',\n",
       " 'N',\n",
       " 'F',\n",
       " 'P',\n",
       " 'E',\n",
       " 'S',\n",
       " 'T',\n",
       " 'P',\n",
       " 'I',\n",
       " 'N',\n",
       " 'F',\n",
       " 'J',\n",
       " 'I',\n",
       " 'S',\n",
       " 'T',\n",
       " 'P',\n",
       " 'I',\n",
       " 'N',\n",
       " 'F',\n",
       " 'P',\n",
       " 'I',\n",
       " 'N',\n",
       " 'F',\n",
       " 'P',\n",
       " 'I',\n",
       " 'N',\n",
       " 'F',\n",
       " 'P',\n",
       " 'E',\n",
       " 'N',\n",
       " 'T',\n",
       " 'J',\n",
       " 'I',\n",
       " 'N',\n",
       " 'T',\n",
       " 'P',\n",
       " 'I',\n",
       " 'N',\n",
       " 'T',\n",
       " 'P',\n",
       " 'I',\n",
       " 'N',\n",
       " 'F',\n",
       " 'P',\n",
       " 'E',\n",
       " 'N',\n",
       " 'F',\n",
       " 'P',\n",
       " 'I',\n",
       " 'N',\n",
       " 'F',\n",
       " 'J',\n",
       " 'I',\n",
       " 'N',\n",
       " 'F',\n",
       " 'P',\n",
       " 'I',\n",
       " 'S',\n",
       " 'T',\n",
       " 'P',\n",
       " 'E',\n",
       " 'N',\n",
       " 'T',\n",
       " 'J',\n",
       " 'I',\n",
       " 'N',\n",
       " 'T',\n",
       " 'J',\n",
       " 'I',\n",
       " 'N',\n",
       " 'F',\n",
       " 'J',\n",
       " 'I',\n",
       " 'N',\n",
       " 'T',\n",
       " 'J',\n",
       " 'E',\n",
       " 'N',\n",
       " 'T',\n",
       " 'P',\n",
       " 'I',\n",
       " 'N',\n",
       " 'F',\n",
       " 'J',\n",
       " 'I',\n",
       " 'N',\n",
       " 'F',\n",
       " 'J',\n",
       " 'E',\n",
       " 'N',\n",
       " 'T',\n",
       " 'P',\n",
       " 'I',\n",
       " 'N',\n",
       " 'F',\n",
       " 'P',\n",
       " 'I',\n",
       " 'N',\n",
       " 'T',\n",
       " 'P',\n",
       " 'I',\n",
       " 'N',\n",
       " 'T',\n",
       " 'J',\n",
       " 'I',\n",
       " 'N',\n",
       " 'F',\n",
       " 'J',\n",
       " 'I',\n",
       " 'N',\n",
       " 'T',\n",
       " 'J',\n",
       " 'E',\n",
       " 'N',\n",
       " 'T',\n",
       " 'P',\n",
       " 'I',\n",
       " 'N',\n",
       " 'F',\n",
       " 'P',\n",
       " 'E',\n",
       " 'N',\n",
       " 'T',\n",
       " 'P',\n",
       " 'I',\n",
       " 'N',\n",
       " 'T',\n",
       " 'P',\n",
       " 'I',\n",
       " 'N',\n",
       " 'T',\n",
       " 'J',\n",
       " 'I',\n",
       " 'N',\n",
       " 'T',\n",
       " 'J',\n",
       " 'I',\n",
       " 'N',\n",
       " 'T',\n",
       " 'P',\n",
       " 'I',\n",
       " 'N',\n",
       " 'F',\n",
       " 'J',\n",
       " 'I',\n",
       " 'N',\n",
       " 'F',\n",
       " 'J',\n",
       " 'I',\n",
       " 'N',\n",
       " 'T',\n",
       " 'P',\n",
       " 'E',\n",
       " 'N',\n",
       " 'T',\n",
       " 'P',\n",
       " 'I',\n",
       " 'N',\n",
       " 'F',\n",
       " 'P',\n",
       " 'I',\n",
       " 'N',\n",
       " 'F',\n",
       " 'P',\n",
       " 'I',\n",
       " 'N',\n",
       " 'T',\n",
       " 'P',\n",
       " 'I',\n",
       " 'N',\n",
       " 'T',\n",
       " 'P',\n",
       " 'E',\n",
       " 'N',\n",
       " 'F',\n",
       " 'P',\n",
       " 'I',\n",
       " 'N',\n",
       " 'F',\n",
       " 'P',\n",
       " 'I',\n",
       " 'N',\n",
       " 'T',\n",
       " 'J',\n",
       " 'I',\n",
       " 'N',\n",
       " 'T',\n",
       " 'P',\n",
       " 'I',\n",
       " 'N',\n",
       " 'T',\n",
       " 'J',\n",
       " 'I',\n",
       " 'N',\n",
       " 'T',\n",
       " 'P',\n",
       " 'I',\n",
       " 'N',\n",
       " 'T',\n",
       " 'P',\n",
       " 'E',\n",
       " 'N',\n",
       " 'T',\n",
       " 'P',\n",
       " 'I',\n",
       " 'N',\n",
       " 'F',\n",
       " 'J',\n",
       " 'I',\n",
       " 'N',\n",
       " 'F',\n",
       " 'J',\n",
       " 'I',\n",
       " 'N',\n",
       " 'T',\n",
       " 'P',\n",
       " 'E',\n",
       " 'N',\n",
       " 'F',\n",
       " 'P',\n",
       " 'E',\n",
       " 'N',\n",
       " 'T',\n",
       " 'P',\n",
       " 'I',\n",
       " 'S',\n",
       " 'T',\n",
       " 'J',\n",
       " 'I',\n",
       " 'N',\n",
       " 'F',\n",
       " 'J',\n",
       " 'I',\n",
       " 'N',\n",
       " 'T',\n",
       " 'J',\n",
       " 'I',\n",
       " 'N',\n",
       " 'T',\n",
       " 'J',\n",
       " 'I',\n",
       " 'N',\n",
       " 'F',\n",
       " 'P',\n",
       " 'I',\n",
       " 'S',\n",
       " 'T',\n",
       " 'P',\n",
       " 'E',\n",
       " 'N',\n",
       " 'T',\n",
       " 'P',\n",
       " 'I',\n",
       " 'S',\n",
       " 'T',\n",
       " 'P',\n",
       " 'I',\n",
       " 'N',\n",
       " 'T',\n",
       " 'J',\n",
       " 'E',\n",
       " 'N',\n",
       " 'F',\n",
       " 'P',\n",
       " 'I',\n",
       " 'N',\n",
       " 'T',\n",
       " 'P',\n",
       " 'I',\n",
       " 'N',\n",
       " 'T',\n",
       " 'J',\n",
       " 'E',\n",
       " 'N',\n",
       " 'T',\n",
       " 'P',\n",
       " 'I',\n",
       " 'N',\n",
       " 'F',\n",
       " 'J',\n",
       " 'I',\n",
       " 'N',\n",
       " 'T',\n",
       " 'P',\n",
       " 'I',\n",
       " 'N',\n",
       " 'F',\n",
       " 'J',\n",
       " 'E',\n",
       " 'N',\n",
       " 'T',\n",
       " 'P',\n",
       " 'I',\n",
       " 'N',\n",
       " 'T',\n",
       " 'P',\n",
       " 'I',\n",
       " 'N',\n",
       " 'T',\n",
       " 'J',\n",
       " 'E',\n",
       " 'S',\n",
       " 'F',\n",
       " 'P',\n",
       " 'I',\n",
       " 'N',\n",
       " 'F',\n",
       " 'P',\n",
       " 'I',\n",
       " 'N',\n",
       " 'T',\n",
       " 'P',\n",
       " 'E',\n",
       " 'N',\n",
       " 'T',\n",
       " 'P',\n",
       " 'I',\n",
       " 'N',\n",
       " 'T',\n",
       " 'P',\n",
       " 'I',\n",
       " 'S',\n",
       " 'T',\n",
       " 'P',\n",
       " 'I',\n",
       " 'N',\n",
       " 'T',\n",
       " 'P',\n",
       " 'I',\n",
       " 'N',\n",
       " 'T',\n",
       " 'P',\n",
       " 'I',\n",
       " 'N',\n",
       " 'F',\n",
       " 'P',\n",
       " 'I',\n",
       " 'N',\n",
       " 'F',\n",
       " 'J',\n",
       " 'I',\n",
       " 'S',\n",
       " 'T',\n",
       " 'P',\n",
       " 'I',\n",
       " 'S',\n",
       " 'F',\n",
       " 'P',\n",
       " 'I',\n",
       " 'N',\n",
       " 'F',\n",
       " 'P',\n",
       " 'I',\n",
       " 'N',\n",
       " 'F',\n",
       " 'J',\n",
       " 'I',\n",
       " 'N',\n",
       " 'F',\n",
       " 'P',\n",
       " 'E',\n",
       " 'N',\n",
       " 'T',\n",
       " 'P',\n",
       " 'E',\n",
       " 'N',\n",
       " 'F',\n",
       " 'P',\n",
       " 'I',\n",
       " 'N',\n",
       " 'F',\n",
       " 'J',\n",
       " 'E',\n",
       " 'N',\n",
       " 'T',\n",
       " 'P',\n",
       " 'I',\n",
       " 'N',\n",
       " 'T',\n",
       " 'J',\n",
       " 'E',\n",
       " 'N',\n",
       " 'T',\n",
       " 'P',\n",
       " 'I',\n",
       " 'N',\n",
       " 'T',\n",
       " 'J',\n",
       " 'I',\n",
       " 'S',\n",
       " 'T',\n",
       " 'P',\n",
       " 'E',\n",
       " 'N',\n",
       " 'T',\n",
       " 'P',\n",
       " 'I',\n",
       " 'N',\n",
       " 'F',\n",
       " 'J',\n",
       " 'I',\n",
       " 'N',\n",
       " 'T',\n",
       " 'J',\n",
       " 'I',\n",
       " 'N',\n",
       " 'T',\n",
       " 'P',\n",
       " 'I',\n",
       " 'N',\n",
       " 'T',\n",
       " 'J',\n",
       " 'I',\n",
       " 'N',\n",
       " 'T',\n",
       " 'P',\n",
       " 'I',\n",
       " 'N',\n",
       " 'T',\n",
       " 'P',\n",
       " 'I',\n",
       " 'N',\n",
       " 'T',\n",
       " 'P',\n",
       " 'I',\n",
       " 'N',\n",
       " 'F',\n",
       " 'J',\n",
       " 'I',\n",
       " 'N',\n",
       " 'F',\n",
       " 'J',\n",
       " 'I',\n",
       " 'N',\n",
       " 'F',\n",
       " 'P',\n",
       " 'I',\n",
       " 'N',\n",
       " 'T',\n",
       " 'P',\n",
       " 'I',\n",
       " 'S',\n",
       " 'T',\n",
       " 'P',\n",
       " 'I',\n",
       " 'S',\n",
       " 'T',\n",
       " 'P',\n",
       " 'I',\n",
       " 'N',\n",
       " 'T',\n",
       " 'P',\n",
       " 'I',\n",
       " 'N',\n",
       " 'T',\n",
       " 'J',\n",
       " 'I',\n",
       " 'N',\n",
       " 'T',\n",
       " 'P',\n",
       " 'I',\n",
       " 'N',\n",
       " 'T',\n",
       " 'J',\n",
       " 'E',\n",
       " 'N',\n",
       " 'T',\n",
       " 'P',\n",
       " 'I',\n",
       " 'N',\n",
       " 'T',\n",
       " 'P',\n",
       " 'I',\n",
       " 'N',\n",
       " 'T',\n",
       " 'P',\n",
       " 'I',\n",
       " 'N',\n",
       " 'T',\n",
       " 'P',\n",
       " 'I',\n",
       " 'N',\n",
       " 'T',\n",
       " 'J',\n",
       " 'I',\n",
       " 'N',\n",
       " 'F',\n",
       " 'J',\n",
       " 'I',\n",
       " 'N',\n",
       " 'T',\n",
       " 'J',\n",
       " 'I',\n",
       " 'S',\n",
       " 'T',\n",
       " 'P',\n",
       " 'E',\n",
       " 'N',\n",
       " 'T',\n",
       " 'P',\n",
       " 'I',\n",
       " 'N',\n",
       " 'F',\n",
       " 'P',\n",
       " 'E',\n",
       " 'N',\n",
       " 'T',\n",
       " 'J',\n",
       " 'E',\n",
       " 'N',\n",
       " 'T',\n",
       " 'P',\n",
       " 'I',\n",
       " 'N',\n",
       " 'F',\n",
       " 'J',\n",
       " 'I',\n",
       " 'N',\n",
       " 'T',\n",
       " 'J',\n",
       " 'E',\n",
       " 'N',\n",
       " 'T',\n",
       " 'P',\n",
       " 'I',\n",
       " 'N',\n",
       " 'T',\n",
       " 'J',\n",
       " 'I',\n",
       " 'N',\n",
       " 'F',\n",
       " 'P',\n",
       " 'I',\n",
       " 'N',\n",
       " 'F',\n",
       " 'J',\n",
       " ...]"
      ]
     },
     "execution_count": 75,
     "metadata": {},
     "output_type": "execute_result"
    }
   ],
   "source": [
    "pd.DataFrame(y_val)['type'].apply(list).sum()"
   ]
  },
  {
   "cell_type": "code",
   "execution_count": 76,
   "id": "c10c588d-8d3e-4696-9e8f-816fb75aef35",
   "metadata": {},
   "outputs": [
    {
     "name": "stdout",
     "output_type": "stream",
     "text": [
      "              precision    recall  f1-score   support\n",
      "\n",
      "           E       0.79      0.88      0.83      1550\n",
      "           F       0.88      0.91      0.90      2485\n",
      "           I       0.97      0.94      0.95      5886\n",
      "           J       0.87      0.87      0.87      3124\n",
      "           N       0.99      0.97      0.98      7024\n",
      "           P       0.90      0.90      0.90      4312\n",
      "           S       0.65      0.90      0.76       412\n",
      "           T       0.95      0.94      0.95      4951\n",
      "\n",
      "    accuracy                           0.93     29744\n",
      "   macro avg       0.88      0.91      0.89     29744\n",
      "weighted avg       0.93      0.93      0.93     29744\n",
      "\n"
     ]
    }
   ],
   "source": [
    "print(classification_report(pd.DataFrame(predictions)[0].apply(list).sum(), pd.DataFrame(y_val)['type'].apply(list).sum()))"
   ]
  },
  {
   "cell_type": "code",
   "execution_count": 77,
   "id": "ee400860-c884-4843-9623-de4e716e70ee",
   "metadata": {},
   "outputs": [
    {
     "name": "stdout",
     "output_type": "stream",
     "text": [
      "Overall accuracy of the model: 0.93\n"
     ]
    }
   ],
   "source": [
    "print(f\"Overall accuracy of the model: {round(metrics.accuracy_score(pd.DataFrame(predictions)[0].apply(list).sum(), pd.DataFrame(y_val)['type'].apply(list).sum()),2)}\")"
   ]
  },
  {
   "cell_type": "markdown",
   "id": "43a4755f-95d3-457a-88c0-84ee0be7dec9",
   "metadata": {
    "papermill": {
     "duration": 0.056649,
     "end_time": "2022-01-24T11:37:08.405936",
     "exception": false,
     "start_time": "2022-01-24T11:37:08.349287",
     "status": "completed"
    },
    "tags": []
   },
   "source": [
    "# Validation Set 사용하여 정확도 측정 (한번에비교)"
   ]
  },
  {
   "cell_type": "code",
   "execution_count": 78,
   "id": "73684861",
   "metadata": {
    "papermill": {
     "duration": 1.152028,
     "end_time": "2022-01-24T11:37:23.262153",
     "exception": false,
     "start_time": "2022-01-24T11:37:22.110125",
     "status": "completed"
    },
    "tags": []
   },
   "outputs": [
    {
     "name": "stdout",
     "output_type": "stream",
     "text": [
      "              precision    recall  f1-score   support\n",
      "\n",
      "        ENFJ       0.86      0.55      0.67       101\n",
      "        ENFP       0.82      0.75      0.78       461\n",
      "        ENTJ       0.87      0.70      0.78       226\n",
      "        ENTP       0.84      0.80      0.82       829\n",
      "        ESFJ       1.00      0.17      0.29        12\n",
      "        ESFP       0.71      0.34      0.47        29\n",
      "        ESTJ       0.00      0.00      0.00         4\n",
      "        ESTP       0.92      0.80      0.86        81\n",
      "        INFJ       0.79      0.83      0.81      1022\n",
      "        INFP       0.79      0.80      0.79       843\n",
      "        INTJ       0.79      0.85      0.82      1627\n",
      "        INTP       0.80      0.87      0.83      1760\n",
      "        ISFJ       0.89      0.38      0.53        45\n",
      "        ISFP       0.84      0.49      0.62        63\n",
      "        ISTJ       0.90      0.49      0.63        90\n",
      "        ISTP       0.85      0.77      0.81       243\n",
      "\n",
      "    accuracy                           0.81      7436\n",
      "   macro avg       0.79      0.60      0.66      7436\n",
      "weighted avg       0.81      0.81      0.80      7436\n",
      "\n"
     ]
    }
   ],
   "source": [
    "print(classification_report(y_val, predictions))"
   ]
  },
  {
   "cell_type": "code",
   "execution_count": 79,
   "id": "594c1904",
   "metadata": {
    "papermill": {
     "duration": 0.108088,
     "end_time": "2022-01-24T11:37:23.427835",
     "exception": false,
     "start_time": "2022-01-24T11:37:23.319747",
     "status": "completed"
    },
    "tags": []
   },
   "outputs": [
    {
     "name": "stdout",
     "output_type": "stream",
     "text": [
      "Overall accuracy of the model: 0.81\n"
     ]
    }
   ],
   "source": [
    "print(f\"Overall accuracy of the model: {round(metrics.accuracy_score(y_val, predictions),2)}\")"
   ]
  },
  {
   "cell_type": "markdown",
   "id": "8b15f62e-6b62-46a2-b2c2-1c1d6d54ff68",
   "metadata": {
    "papermill": {
     "duration": 0.056649,
     "end_time": "2022-01-24T11:37:08.405936",
     "exception": false,
     "start_time": "2022-01-24T11:37:08.349287",
     "status": "completed"
    },
    "tags": []
   },
   "source": [
    "# test Set 사용하여 정확도 측정"
   ]
  },
  {
   "cell_type": "code",
   "execution_count": 67,
   "id": "e6b603a2-2b48-45e4-89a9-34edf8baa91c",
   "metadata": {},
   "outputs": [],
   "source": [
    "# 실행"
   ]
  },
  {
   "cell_type": "code",
   "execution_count": 30,
   "id": "e7a89ebe-76a2-46ab-bda2-5bac8a7b418a",
   "metadata": {
    "papermill": {
     "duration": 13.587157,
     "end_time": "2022-01-24T11:37:22.050686",
     "exception": false,
     "start_time": "2022-01-24T11:37:08.463529",
     "status": "completed"
    },
    "tags": []
   },
   "outputs": [],
   "source": [
    "predictions = text_clf.predict(X_test)"
   ]
  },
  {
   "cell_type": "code",
   "execution_count": 31,
   "id": "61846a85-5c9c-4889-8757-b9f7d2f55cf1",
   "metadata": {},
   "outputs": [
    {
     "data": {
      "text/plain": [
       "array(['ENTP', 'INFJ', 'INFJ', ..., 'INTJ', 'INTP', 'INTP'], dtype=object)"
      ]
     },
     "execution_count": 31,
     "metadata": {},
     "output_type": "execute_result"
    }
   ],
   "source": [
    "predictions"
   ]
  },
  {
   "cell_type": "code",
   "execution_count": 33,
   "id": "3872811f-5e40-4630-9468-32945cff2358",
   "metadata": {
    "papermill": {
     "duration": 1.152028,
     "end_time": "2022-01-24T11:37:23.262153",
     "exception": false,
     "start_time": "2022-01-24T11:37:22.110125",
     "status": "completed"
    },
    "tags": []
   },
   "outputs": [
    {
     "name": "stdout",
     "output_type": "stream",
     "text": [
      "              precision    recall  f1-score   support\n",
      "\n",
      "        ENFJ       0.83      0.53      0.65       210\n",
      "        ENFP       0.77      0.71      0.74       828\n",
      "        ENTJ       0.90      0.70      0.79       430\n",
      "        ENTP       0.82      0.82      0.82      1582\n",
      "        ESFJ       1.00      0.19      0.31        27\n",
      "        ESFP       1.00      0.22      0.35        51\n",
      "        ESTJ       0.00      0.00      0.00        11\n",
      "        ESTP       0.92      0.78      0.85       169\n",
      "        INFJ       0.79      0.83      0.81      2232\n",
      "        INFP       0.78      0.78      0.78      1720\n",
      "        INTJ       0.79      0.85      0.82      3225\n",
      "        INTP       0.80      0.86      0.83      3493\n",
      "        ISFJ       0.74      0.37      0.49        92\n",
      "        ISFP       0.76      0.34      0.47       139\n",
      "        ISTJ       0.88      0.47      0.62       198\n",
      "        ISTP       0.83      0.74      0.78       465\n",
      "\n",
      "    accuracy                           0.80     14872\n",
      "   macro avg       0.79      0.57      0.63     14872\n",
      "weighted avg       0.80      0.80      0.80     14872\n",
      "\n"
     ]
    }
   ],
   "source": [
    "print(classification_report(y_test, predictions))"
   ]
  },
  {
   "cell_type": "code",
   "execution_count": 34,
   "id": "c0b6136f-e1fe-4762-8672-fa9457f8a83e",
   "metadata": {
    "papermill": {
     "duration": 0.108088,
     "end_time": "2022-01-24T11:37:23.427835",
     "exception": false,
     "start_time": "2022-01-24T11:37:23.319747",
     "status": "completed"
    },
    "tags": []
   },
   "outputs": [
    {
     "name": "stdout",
     "output_type": "stream",
     "text": [
      "Overall accuracy of the model: 0.8\n"
     ]
    }
   ],
   "source": [
    "print(f\"Overall accuracy of the model: {round(metrics.accuracy_score(y_test, predictions),2)}\")"
   ]
  },
  {
   "cell_type": "markdown",
   "id": "59ec42d8-68ef-42ae-ab64-ad3630ca0c32",
   "metadata": {},
   "source": [
    "---"
   ]
  }
 ],
 "metadata": {
  "kernelspec": {
   "display_name": "Python 3",
   "language": "python",
   "name": "python3"
  },
  "language_info": {
   "codemirror_mode": {
    "name": "ipython",
    "version": 3
   },
   "file_extension": ".py",
   "mimetype": "text/x-python",
   "name": "python",
   "nbconvert_exporter": "python",
   "pygments_lexer": "ipython3",
   "version": "3.8.8"
  },
  "papermill": {
   "default_parameters": {},
   "duration": 247.963482,
   "end_time": "2022-01-24T11:37:26.913576",
   "environment_variables": {},
   "exception": null,
   "input_path": "__notebook__.ipynb",
   "output_path": "__notebook__.ipynb",
   "parameters": {},
   "start_time": "2022-01-24T11:33:18.950094",
   "version": "2.3.3"
  }
 },
 "nbformat": 4,
 "nbformat_minor": 5
}
