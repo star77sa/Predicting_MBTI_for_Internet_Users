{
 "cells": [
  {
   "cell_type": "code",
   "execution_count": 51,
   "id": "a214dfa6-937f-4306-bf82-911785775ace",
   "metadata": {},
   "outputs": [],
   "source": [
    "from __future__ import absolute_import, division, print_function\n",
    "\n",
    "import base64\n",
    "import imageio\n",
    "import IPython\n",
    "import matplotlib\n",
    "import matplotlib.pyplot as plt\n",
    "import numpy as np\n",
    "import PIL.Image\n",
    "import pyvirtualdisplay\n",
    "\n",
    "import tensorflow as tf\n",
    "\n",
    "from tf_agents.agents.dqn import dqn_agent\n",
    "from tf_agents.drivers import dynamic_step_driver\n",
    "from tf_agents.environments import suite_gym\n",
    "from tf_agents.environments import tf_py_environment\n",
    "from tf_agents.eval import metric_utils\n",
    "from tf_agents.metrics import tf_metrics\n",
    "from tf_agents.networks import q_network\n",
    "from tf_agents.policies import random_tf_policy\n",
    "from tf_agents.replay_buffers import tf_uniform_replay_buffer\n",
    "from tf_agents.trajectories import trajectory\n",
    "from tf_agents.utils import common\n",
    "\n",
    "\n",
    "import abc\n",
    "\n",
    "from tf_agents.environments import py_environment\n",
    "from tf_agents.environments import tf_environment\n",
    "from tf_agents.environments import tf_py_environment\n",
    "from tf_agents.environments import utils\n",
    "from tf_agents.specs import array_spec\n",
    "from tf_agents.environments import wrappers\n",
    "from tf_agents.environments import suite_gym\n",
    "from tf_agents.trajectories import time_step as ts"
   ]
  },
  {
   "cell_type": "code",
   "execution_count": 52,
   "id": "50d15a00-3a86-45be-ad76-27dfc546865e",
   "metadata": {},
   "outputs": [],
   "source": [
    "import pandas as pd\n",
    "import numpy as np\n",
    "\n",
    "from sklearn.model_selection import train_test_split, GridSearchCV\n",
    "from sklearn.feature_extraction.text import TfidfVectorizer\n",
    "from sklearn.svm import LinearSVC\n",
    "from sklearn.pipeline import Pipeline\n",
    "from sklearn import metrics\n",
    "from sklearn.metrics import classification_report, f1_score\n",
    "\n",
    "import plotly.offline as pyo\n",
    "import plotly.graph_objs as go\n",
    "\n",
    "import re\n",
    "\n",
    "from nltk.stem import WordNetLemmatizer\n",
    "\n",
    "from tqdm import tqdm\n",
    "\n",
    "import seaborn as sns\n",
    "import matplotlib.pyplot as plt\n",
    "\n",
    "from sklearn import svm\n",
    "\n",
    "import warnings\n",
    "warnings.filterwarnings(action='ignore') "
   ]
  },
  {
   "cell_type": "code",
   "execution_count": 4,
   "id": "08c5a1a6-7e44-4c9f-9620-f84bb5cdb1d2",
   "metadata": {},
   "outputs": [],
   "source": [
    "# 캐글 데이터\n",
    "df = pd.read_csv('G://내 드라이브/Github/Predictiong_MBTI_for_Internet_Users/MBTI 500.csv', encoding='ISO-8859-1')"
   ]
  },
  {
   "cell_type": "code",
   "execution_count": 5,
   "id": "21681be3-3c63-480b-a58e-d1ac8df11067",
   "metadata": {},
   "outputs": [],
   "source": [
    "df.columns = ['text', 'type']\n",
    "df = df[['type', 'text']]"
   ]
  },
  {
   "cell_type": "code",
   "execution_count": 6,
   "id": "b318a78b-4193-4862-ab37-3c69d37a7790",
   "metadata": {},
   "outputs": [
    {
     "name": "stderr",
     "output_type": "stream",
     "text": [
      "100%|████████████████████████████████████████████████████████████████████████| 106067/106067 [00:20<00:00, 5217.16it/s]\n"
     ]
    }
   ],
   "source": [
    "#function to clean the text data\n",
    "def clear_text(data):\n",
    "    data_length=[]\n",
    "    lemmatizer=WordNetLemmatizer()\n",
    "    cleaned_text=[]\n",
    "    for sentence in tqdm(data.text):\n",
    "        sentence=sentence.lower()\n",
    "#         removing links from text data\n",
    "        sentence=re.sub('https?://[^\\s<>\"]+|www\\.[^\\s<>\"]+',' ',sentence)\n",
    "#         removing other symbols\n",
    "        sentence=re.sub('[^0-9a-z]',' ',sentence)\n",
    "        data_length.append(len(sentence.split()))\n",
    "        cleaned_text.append(sentence)\n",
    "    return cleaned_text,data_length\n",
    "\n",
    "df.text, _=clear_text(df)"
   ]
  },
  {
   "cell_type": "code",
   "execution_count": 7,
   "id": "37784595-92c4-4b13-9831-32a18cfc47d1",
   "metadata": {},
   "outputs": [],
   "source": [
    "X = df['text'] # features\n",
    "y = df['type']  # labels\n",
    "\n",
    "X_train, X_test, y_train, y_test = train_test_split(X, y, test_size=0.2, random_state=42)\n",
    "X_train, X_val, y_train, y_val = train_test_split(X_train, y_train, test_size=0.125, random_state=42)"
   ]
  },
  {
   "cell_type": "code",
   "execution_count": 8,
   "id": "571aa18a-1488-4409-bdb8-2ac94b64ebe5",
   "metadata": {},
   "outputs": [],
   "source": [
    "# Pipelining the vectorizer and the classifier\n",
    "text_clf1 = Pipeline([('tfidf',TfidfVectorizer(sublinear_tf = True)),('clf',LinearSVC())])"
   ]
  },
  {
   "cell_type": "code",
   "execution_count": 9,
   "id": "ed469971-ae74-4491-85b2-37899a067135",
   "metadata": {},
   "outputs": [
    {
     "data": {
      "text/plain": [
       "Pipeline(steps=[('tfidf', TfidfVectorizer(sublinear_tf=True)),\n",
       "                ('clf', LinearSVC())])"
      ]
     },
     "execution_count": 9,
     "metadata": {},
     "output_type": "execute_result"
    }
   ],
   "source": [
    "text_clf1.fit(X_train, y_train)"
   ]
  },
  {
   "cell_type": "code",
   "execution_count": 10,
   "id": "07c9f14f-2fa1-4ee6-a628-5bb62f02a7f6",
   "metadata": {},
   "outputs": [],
   "source": [
    "predictions1 = text_clf1.predict(X_val)"
   ]
  },
  {
   "cell_type": "markdown",
   "id": "3478facc-8eb3-4f1a-8420-6f91e9563105",
   "metadata": {},
   "source": [
    "+++"
   ]
  },
  {
   "cell_type": "code",
   "execution_count": 11,
   "id": "3174eaad-3f4e-4295-b36f-93f5add7054b",
   "metadata": {},
   "outputs": [
    {
     "data": {
      "text/plain": [
       "'2.9.0'"
      ]
     },
     "execution_count": 11,
     "metadata": {},
     "output_type": "execute_result"
    }
   ],
   "source": [
    "tf.version.VERSION"
   ]
  },
  {
   "cell_type": "markdown",
   "id": "c4975d37-07be-4981-bfe4-f123a91075aa",
   "metadata": {},
   "source": [
    "### 하이퍼 파라미터 설정"
   ]
  },
  {
   "cell_type": "code",
   "execution_count": 193,
   "id": "889ea8e8-f6b1-46f4-adfd-9abb1ec9dc5b",
   "metadata": {},
   "outputs": [],
   "source": [
    "num_iterations = 4 # @param {type:\"integer\"}\n",
    "\n",
    "initial_collect_steps = 2  # @param {type:\"integer\"} \n",
    "collect_steps_per_iteration = 1  # @param {type:\"integer\"}\n",
    "replay_buffer_max_length = 100000  # @param {type:\"integer\"}\n",
    "\n",
    "batch_size = 2  # @param {type:\"integer\"}\n",
    "learning_rate = 1e-3  # @param {type:\"number\"}\n",
    "log_interval = 200  # @param {type:\"integer\"}\n",
    "\n",
    "num_eval_episodes = 2# @param {type:\"integer\"}\n",
    "eval_interval = 2  # @param {type:\"integer\"}"
   ]
  },
  {
   "cell_type": "code",
   "execution_count": 94,
   "id": "3edd80c1-d8f6-4a5a-a139-8f01a80889dc",
   "metadata": {},
   "outputs": [],
   "source": [
    "# challenge"
   ]
  },
  {
   "cell_type": "code",
   "execution_count": 196,
   "id": "dcbccc5a-f305-4efc-963b-ba17123dda09",
   "metadata": {},
   "outputs": [],
   "source": [
    "returns = list()\n",
    "\n",
    "class LinegameEnv(py_environment.PyEnvironment):\n",
    "\n",
    "    def __init__(self):\n",
    "        self._action_spec = array_spec.BoundedArraySpec(\n",
    "            shape=(), dtype=np.int32, minimum=0, maximum=100, name='action')\n",
    "        self._observation_spec = array_spec.BoundedArraySpec(\n",
    "        shape=(1,), dtype=np.int32, minimum=0, name='observation')\n",
    "        self._state = 0.1\n",
    "        self._time = 1\n",
    "        self._episode_ended = False\n",
    "\n",
    "    def action_spec(self):\n",
    "        return self._action_spec\n",
    "\n",
    "    def observation_spec(self):\n",
    "        return self._observation_spec\n",
    "\n",
    "    def _reset(self):\n",
    "        self._state = 0.1\n",
    "        self._time = 1\n",
    "        self._episode_ended = False\n",
    "        return ts.restart(np.array([self._state], dtype=np.int32))\n",
    "\n",
    "    def _step(self, action):\n",
    "        if self._episode_ended:\n",
    "            self.reset()\n",
    "        elif self._time==1: \n",
    "            print(\"### new episode start! ###\")\n",
    "            print(\" \")\n",
    "        else: \n",
    "            print(\" \")\n",
    "        \n",
    "        print(\"{}-1. current state = {}\".format(self._time,self._state))\n",
    "        \n",
    "        # Pipelining the vectorizer and the classifier\n",
    "        text_clf1 = Pipeline([('tfidf',TfidfVectorizer(sublinear_tf = True)),('clf',LinearSVC(C= self._state))])\n",
    "        text_clf1.fit(X_train, y_train)\n",
    "        \n",
    "        reward = metrics.accuracy_score(y_val, text_clf1.predict(X_val))\n",
    "        \n",
    "        #self._state += (action-500)/500\n",
    "        #print(\"{}-2. action = {}\".format(self._time,(action-500)/500))\n",
    "        self._state += (action-50)/500\n",
    "        print(\"{}-2. action = {}\".format(self._time,(action-50)/500))\n",
    "        \n",
    "        \n",
    "        if self._state < 0.1:\n",
    "          print(\"    **exit(current state<0.1) => reset current state as 0.**\")\n",
    "          self._state = 0.1\n",
    "        if self._state > 1.0 : \n",
    "          print(\"   **exit(current state >1.0) => reset current state as 1.**\")\n",
    "          self._state = 1.0\n",
    "        \n",
    "        print(\"{}-3. reward = {}\".format(self._time,reward))\n",
    "        returns.append(reward) ############################# !!!\n",
    "        \n",
    "        print(\"{}-4. future state = {}\".format(self._time,self._state))\n",
    "        \n",
    "        self._time += 1\n",
    "        if self._time > 4: self._episode_ended = True\n",
    "        \n",
    "        if self._episode_ended:\n",
    "            print(\" \")\n",
    "            print(\"### episode ended ###\")\n",
    "            return ts.termination(np.array([self._state], dtype=np.int32), reward)\n",
    "        else:\n",
    "            return ts.transition(np.array([self._state], dtype=np.int32), reward=0.0, discount=1.0)"
   ]
  },
  {
   "cell_type": "code",
   "execution_count": 195,
   "id": "97396a5b-a99a-4c65-a426-62155444a07d",
   "metadata": {},
   "outputs": [
    {
     "name": "stdout",
     "output_type": "stream",
     "text": [
      "### new episode start! ###\n",
      " \n",
      "1-1. current state = 1.0\n"
     ]
    },
    {
     "ename": "KeyboardInterrupt",
     "evalue": "",
     "output_type": "error",
     "traceback": [
      "\u001b[1;31m---------------------------------------------------------------------------\u001b[0m",
      "\u001b[1;31mKeyboardInterrupt\u001b[0m                         Traceback (most recent call last)",
      "\u001b[1;32m<ipython-input-195-728fa577a2a8>\u001b[0m in \u001b[0;36m<module>\u001b[1;34m\u001b[0m\n\u001b[0;32m      1\u001b[0m \u001b[0menvironment\u001b[0m \u001b[1;33m=\u001b[0m \u001b[0mLinegameEnv\u001b[0m\u001b[1;33m(\u001b[0m\u001b[1;33m)\u001b[0m\u001b[1;33m\u001b[0m\u001b[1;33m\u001b[0m\u001b[0m\n\u001b[1;32m----> 2\u001b[1;33m \u001b[0mutils\u001b[0m\u001b[1;33m.\u001b[0m\u001b[0mvalidate_py_environment\u001b[0m\u001b[1;33m(\u001b[0m\u001b[0menvironment\u001b[0m\u001b[1;33m,\u001b[0m \u001b[0mepisodes\u001b[0m\u001b[1;33m=\u001b[0m\u001b[1;36m1\u001b[0m\u001b[1;33m)\u001b[0m\u001b[1;33m\u001b[0m\u001b[1;33m\u001b[0m\u001b[0m\n\u001b[0m",
      "\u001b[1;32m~\\anaconda3\\lib\\site-packages\\tf_agents\\environments\\utils.py\u001b[0m in \u001b[0;36mvalidate_py_environment\u001b[1;34m(environment, episodes, observation_and_action_constraint_splitter)\u001b[0m\n\u001b[0;32m     81\u001b[0m \u001b[1;33m\u001b[0m\u001b[0m\n\u001b[0;32m     82\u001b[0m     \u001b[0maction\u001b[0m \u001b[1;33m=\u001b[0m \u001b[0mrandom_policy\u001b[0m\u001b[1;33m.\u001b[0m\u001b[0maction\u001b[0m\u001b[1;33m(\u001b[0m\u001b[0mtime_step\u001b[0m\u001b[1;33m)\u001b[0m\u001b[1;33m.\u001b[0m\u001b[0maction\u001b[0m\u001b[1;33m\u001b[0m\u001b[1;33m\u001b[0m\u001b[0m\n\u001b[1;32m---> 83\u001b[1;33m     \u001b[0mtime_step\u001b[0m \u001b[1;33m=\u001b[0m \u001b[0menvironment\u001b[0m\u001b[1;33m.\u001b[0m\u001b[0mstep\u001b[0m\u001b[1;33m(\u001b[0m\u001b[0maction\u001b[0m\u001b[1;33m)\u001b[0m\u001b[1;33m\u001b[0m\u001b[1;33m\u001b[0m\u001b[0m\n\u001b[0m\u001b[0;32m     84\u001b[0m \u001b[1;33m\u001b[0m\u001b[0m\n\u001b[0;32m     85\u001b[0m     \u001b[0mepisode_count\u001b[0m \u001b[1;33m+=\u001b[0m \u001b[0mnp\u001b[0m\u001b[1;33m.\u001b[0m\u001b[0msum\u001b[0m\u001b[1;33m(\u001b[0m\u001b[0mtime_step\u001b[0m\u001b[1;33m.\u001b[0m\u001b[0mis_last\u001b[0m\u001b[1;33m(\u001b[0m\u001b[1;33m)\u001b[0m\u001b[1;33m)\u001b[0m\u001b[1;33m\u001b[0m\u001b[1;33m\u001b[0m\u001b[0m\n",
      "\u001b[1;32m~\\anaconda3\\lib\\site-packages\\tf_agents\\environments\\py_environment.py\u001b[0m in \u001b[0;36mstep\u001b[1;34m(self, action)\u001b[0m\n\u001b[0;32m    230\u001b[0m       \u001b[1;32mreturn\u001b[0m \u001b[0mself\u001b[0m\u001b[1;33m.\u001b[0m\u001b[0mreset\u001b[0m\u001b[1;33m(\u001b[0m\u001b[1;33m)\u001b[0m\u001b[1;33m\u001b[0m\u001b[1;33m\u001b[0m\u001b[0m\n\u001b[0;32m    231\u001b[0m \u001b[1;33m\u001b[0m\u001b[0m\n\u001b[1;32m--> 232\u001b[1;33m     \u001b[0mself\u001b[0m\u001b[1;33m.\u001b[0m\u001b[0m_current_time_step\u001b[0m \u001b[1;33m=\u001b[0m \u001b[0mself\u001b[0m\u001b[1;33m.\u001b[0m\u001b[0m_step\u001b[0m\u001b[1;33m(\u001b[0m\u001b[0maction\u001b[0m\u001b[1;33m)\u001b[0m\u001b[1;33m\u001b[0m\u001b[1;33m\u001b[0m\u001b[0m\n\u001b[0m\u001b[0;32m    233\u001b[0m     \u001b[1;32mreturn\u001b[0m \u001b[0mself\u001b[0m\u001b[1;33m.\u001b[0m\u001b[0m_current_time_step\u001b[0m\u001b[1;33m\u001b[0m\u001b[1;33m\u001b[0m\u001b[0m\n\u001b[0;32m    234\u001b[0m \u001b[1;33m\u001b[0m\u001b[0m\n",
      "\u001b[1;32m<ipython-input-194-3fa89e760f48>\u001b[0m in \u001b[0;36m_step\u001b[1;34m(self, action)\u001b[0m\n\u001b[0;32m     37\u001b[0m         \u001b[1;31m# Pipelining the vectorizer and the classifier\u001b[0m\u001b[1;33m\u001b[0m\u001b[1;33m\u001b[0m\u001b[1;33m\u001b[0m\u001b[0m\n\u001b[0;32m     38\u001b[0m         \u001b[0mtext_clf1\u001b[0m \u001b[1;33m=\u001b[0m \u001b[0mPipeline\u001b[0m\u001b[1;33m(\u001b[0m\u001b[1;33m[\u001b[0m\u001b[1;33m(\u001b[0m\u001b[1;34m'tfidf'\u001b[0m\u001b[1;33m,\u001b[0m\u001b[0mTfidfVectorizer\u001b[0m\u001b[1;33m(\u001b[0m\u001b[0msublinear_tf\u001b[0m \u001b[1;33m=\u001b[0m \u001b[1;32mTrue\u001b[0m\u001b[1;33m)\u001b[0m\u001b[1;33m)\u001b[0m\u001b[1;33m,\u001b[0m\u001b[1;33m(\u001b[0m\u001b[1;34m'clf'\u001b[0m\u001b[1;33m,\u001b[0m\u001b[0mLinearSVC\u001b[0m\u001b[1;33m(\u001b[0m\u001b[0mC\u001b[0m\u001b[1;33m=\u001b[0m \u001b[0mself\u001b[0m\u001b[1;33m.\u001b[0m\u001b[0m_state\u001b[0m\u001b[1;33m)\u001b[0m\u001b[1;33m)\u001b[0m\u001b[1;33m]\u001b[0m\u001b[1;33m)\u001b[0m\u001b[1;33m\u001b[0m\u001b[1;33m\u001b[0m\u001b[0m\n\u001b[1;32m---> 39\u001b[1;33m         \u001b[0mtext_clf1\u001b[0m\u001b[1;33m.\u001b[0m\u001b[0mfit\u001b[0m\u001b[1;33m(\u001b[0m\u001b[0mX_train\u001b[0m\u001b[1;33m,\u001b[0m \u001b[0my_train\u001b[0m\u001b[1;33m)\u001b[0m\u001b[1;33m\u001b[0m\u001b[1;33m\u001b[0m\u001b[0m\n\u001b[0m\u001b[0;32m     40\u001b[0m \u001b[1;33m\u001b[0m\u001b[0m\n\u001b[0;32m     41\u001b[0m         \u001b[0mreward\u001b[0m \u001b[1;33m=\u001b[0m \u001b[0mmetrics\u001b[0m\u001b[1;33m.\u001b[0m\u001b[0maccuracy_score\u001b[0m\u001b[1;33m(\u001b[0m\u001b[0my_val\u001b[0m\u001b[1;33m,\u001b[0m \u001b[0mtext_clf1\u001b[0m\u001b[1;33m.\u001b[0m\u001b[0mpredict\u001b[0m\u001b[1;33m(\u001b[0m\u001b[0mX_val\u001b[0m\u001b[1;33m)\u001b[0m\u001b[1;33m)\u001b[0m\u001b[1;33m\u001b[0m\u001b[1;33m\u001b[0m\u001b[0m\n",
      "\u001b[1;32m~\\anaconda3\\lib\\site-packages\\sklearn\\pipeline.py\u001b[0m in \u001b[0;36mfit\u001b[1;34m(self, X, y, **fit_params)\u001b[0m\n\u001b[0;32m    339\u001b[0m         \"\"\"\n\u001b[0;32m    340\u001b[0m         \u001b[0mfit_params_steps\u001b[0m \u001b[1;33m=\u001b[0m \u001b[0mself\u001b[0m\u001b[1;33m.\u001b[0m\u001b[0m_check_fit_params\u001b[0m\u001b[1;33m(\u001b[0m\u001b[1;33m**\u001b[0m\u001b[0mfit_params\u001b[0m\u001b[1;33m)\u001b[0m\u001b[1;33m\u001b[0m\u001b[1;33m\u001b[0m\u001b[0m\n\u001b[1;32m--> 341\u001b[1;33m         \u001b[0mXt\u001b[0m \u001b[1;33m=\u001b[0m \u001b[0mself\u001b[0m\u001b[1;33m.\u001b[0m\u001b[0m_fit\u001b[0m\u001b[1;33m(\u001b[0m\u001b[0mX\u001b[0m\u001b[1;33m,\u001b[0m \u001b[0my\u001b[0m\u001b[1;33m,\u001b[0m \u001b[1;33m**\u001b[0m\u001b[0mfit_params_steps\u001b[0m\u001b[1;33m)\u001b[0m\u001b[1;33m\u001b[0m\u001b[1;33m\u001b[0m\u001b[0m\n\u001b[0m\u001b[0;32m    342\u001b[0m         with _print_elapsed_time('Pipeline',\n\u001b[0;32m    343\u001b[0m                                  self._log_message(len(self.steps) - 1)):\n",
      "\u001b[1;32m~\\anaconda3\\lib\\site-packages\\sklearn\\pipeline.py\u001b[0m in \u001b[0;36m_fit\u001b[1;34m(self, X, y, **fit_params_steps)\u001b[0m\n\u001b[0;32m    301\u001b[0m                 \u001b[0mcloned_transformer\u001b[0m \u001b[1;33m=\u001b[0m \u001b[0mclone\u001b[0m\u001b[1;33m(\u001b[0m\u001b[0mtransformer\u001b[0m\u001b[1;33m)\u001b[0m\u001b[1;33m\u001b[0m\u001b[1;33m\u001b[0m\u001b[0m\n\u001b[0;32m    302\u001b[0m             \u001b[1;31m# Fit or load from cache the current transformer\u001b[0m\u001b[1;33m\u001b[0m\u001b[1;33m\u001b[0m\u001b[1;33m\u001b[0m\u001b[0m\n\u001b[1;32m--> 303\u001b[1;33m             X, fitted_transformer = fit_transform_one_cached(\n\u001b[0m\u001b[0;32m    304\u001b[0m                 \u001b[0mcloned_transformer\u001b[0m\u001b[1;33m,\u001b[0m \u001b[0mX\u001b[0m\u001b[1;33m,\u001b[0m \u001b[0my\u001b[0m\u001b[1;33m,\u001b[0m \u001b[1;32mNone\u001b[0m\u001b[1;33m,\u001b[0m\u001b[1;33m\u001b[0m\u001b[1;33m\u001b[0m\u001b[0m\n\u001b[0;32m    305\u001b[0m                 \u001b[0mmessage_clsname\u001b[0m\u001b[1;33m=\u001b[0m\u001b[1;34m'Pipeline'\u001b[0m\u001b[1;33m,\u001b[0m\u001b[1;33m\u001b[0m\u001b[1;33m\u001b[0m\u001b[0m\n",
      "\u001b[1;32m~\\anaconda3\\lib\\site-packages\\joblib\\memory.py\u001b[0m in \u001b[0;36m__call__\u001b[1;34m(self, *args, **kwargs)\u001b[0m\n\u001b[0;32m    350\u001b[0m \u001b[1;33m\u001b[0m\u001b[0m\n\u001b[0;32m    351\u001b[0m     \u001b[1;32mdef\u001b[0m \u001b[0m__call__\u001b[0m\u001b[1;33m(\u001b[0m\u001b[0mself\u001b[0m\u001b[1;33m,\u001b[0m \u001b[1;33m*\u001b[0m\u001b[0margs\u001b[0m\u001b[1;33m,\u001b[0m \u001b[1;33m**\u001b[0m\u001b[0mkwargs\u001b[0m\u001b[1;33m)\u001b[0m\u001b[1;33m:\u001b[0m\u001b[1;33m\u001b[0m\u001b[1;33m\u001b[0m\u001b[0m\n\u001b[1;32m--> 352\u001b[1;33m         \u001b[1;32mreturn\u001b[0m \u001b[0mself\u001b[0m\u001b[1;33m.\u001b[0m\u001b[0mfunc\u001b[0m\u001b[1;33m(\u001b[0m\u001b[1;33m*\u001b[0m\u001b[0margs\u001b[0m\u001b[1;33m,\u001b[0m \u001b[1;33m**\u001b[0m\u001b[0mkwargs\u001b[0m\u001b[1;33m)\u001b[0m\u001b[1;33m\u001b[0m\u001b[1;33m\u001b[0m\u001b[0m\n\u001b[0m\u001b[0;32m    353\u001b[0m \u001b[1;33m\u001b[0m\u001b[0m\n\u001b[0;32m    354\u001b[0m     \u001b[1;32mdef\u001b[0m \u001b[0mcall_and_shelve\u001b[0m\u001b[1;33m(\u001b[0m\u001b[0mself\u001b[0m\u001b[1;33m,\u001b[0m \u001b[1;33m*\u001b[0m\u001b[0margs\u001b[0m\u001b[1;33m,\u001b[0m \u001b[1;33m**\u001b[0m\u001b[0mkwargs\u001b[0m\u001b[1;33m)\u001b[0m\u001b[1;33m:\u001b[0m\u001b[1;33m\u001b[0m\u001b[1;33m\u001b[0m\u001b[0m\n",
      "\u001b[1;32m~\\anaconda3\\lib\\site-packages\\sklearn\\pipeline.py\u001b[0m in \u001b[0;36m_fit_transform_one\u001b[1;34m(transformer, X, y, weight, message_clsname, message, **fit_params)\u001b[0m\n\u001b[0;32m    752\u001b[0m     \u001b[1;32mwith\u001b[0m \u001b[0m_print_elapsed_time\u001b[0m\u001b[1;33m(\u001b[0m\u001b[0mmessage_clsname\u001b[0m\u001b[1;33m,\u001b[0m \u001b[0mmessage\u001b[0m\u001b[1;33m)\u001b[0m\u001b[1;33m:\u001b[0m\u001b[1;33m\u001b[0m\u001b[1;33m\u001b[0m\u001b[0m\n\u001b[0;32m    753\u001b[0m         \u001b[1;32mif\u001b[0m \u001b[0mhasattr\u001b[0m\u001b[1;33m(\u001b[0m\u001b[0mtransformer\u001b[0m\u001b[1;33m,\u001b[0m \u001b[1;34m'fit_transform'\u001b[0m\u001b[1;33m)\u001b[0m\u001b[1;33m:\u001b[0m\u001b[1;33m\u001b[0m\u001b[1;33m\u001b[0m\u001b[0m\n\u001b[1;32m--> 754\u001b[1;33m             \u001b[0mres\u001b[0m \u001b[1;33m=\u001b[0m \u001b[0mtransformer\u001b[0m\u001b[1;33m.\u001b[0m\u001b[0mfit_transform\u001b[0m\u001b[1;33m(\u001b[0m\u001b[0mX\u001b[0m\u001b[1;33m,\u001b[0m \u001b[0my\u001b[0m\u001b[1;33m,\u001b[0m \u001b[1;33m**\u001b[0m\u001b[0mfit_params\u001b[0m\u001b[1;33m)\u001b[0m\u001b[1;33m\u001b[0m\u001b[1;33m\u001b[0m\u001b[0m\n\u001b[0m\u001b[0;32m    755\u001b[0m         \u001b[1;32melse\u001b[0m\u001b[1;33m:\u001b[0m\u001b[1;33m\u001b[0m\u001b[1;33m\u001b[0m\u001b[0m\n\u001b[0;32m    756\u001b[0m             \u001b[0mres\u001b[0m \u001b[1;33m=\u001b[0m \u001b[0mtransformer\u001b[0m\u001b[1;33m.\u001b[0m\u001b[0mfit\u001b[0m\u001b[1;33m(\u001b[0m\u001b[0mX\u001b[0m\u001b[1;33m,\u001b[0m \u001b[0my\u001b[0m\u001b[1;33m,\u001b[0m \u001b[1;33m**\u001b[0m\u001b[0mfit_params\u001b[0m\u001b[1;33m)\u001b[0m\u001b[1;33m.\u001b[0m\u001b[0mtransform\u001b[0m\u001b[1;33m(\u001b[0m\u001b[0mX\u001b[0m\u001b[1;33m)\u001b[0m\u001b[1;33m\u001b[0m\u001b[1;33m\u001b[0m\u001b[0m\n",
      "\u001b[1;32m~\\anaconda3\\lib\\site-packages\\sklearn\\feature_extraction\\text.py\u001b[0m in \u001b[0;36mfit_transform\u001b[1;34m(self, raw_documents, y)\u001b[0m\n\u001b[0;32m   1848\u001b[0m         \"\"\"\n\u001b[0;32m   1849\u001b[0m         \u001b[0mself\u001b[0m\u001b[1;33m.\u001b[0m\u001b[0m_check_params\u001b[0m\u001b[1;33m(\u001b[0m\u001b[1;33m)\u001b[0m\u001b[1;33m\u001b[0m\u001b[1;33m\u001b[0m\u001b[0m\n\u001b[1;32m-> 1850\u001b[1;33m         \u001b[0mX\u001b[0m \u001b[1;33m=\u001b[0m \u001b[0msuper\u001b[0m\u001b[1;33m(\u001b[0m\u001b[1;33m)\u001b[0m\u001b[1;33m.\u001b[0m\u001b[0mfit_transform\u001b[0m\u001b[1;33m(\u001b[0m\u001b[0mraw_documents\u001b[0m\u001b[1;33m)\u001b[0m\u001b[1;33m\u001b[0m\u001b[1;33m\u001b[0m\u001b[0m\n\u001b[0m\u001b[0;32m   1851\u001b[0m         \u001b[0mself\u001b[0m\u001b[1;33m.\u001b[0m\u001b[0m_tfidf\u001b[0m\u001b[1;33m.\u001b[0m\u001b[0mfit\u001b[0m\u001b[1;33m(\u001b[0m\u001b[0mX\u001b[0m\u001b[1;33m)\u001b[0m\u001b[1;33m\u001b[0m\u001b[1;33m\u001b[0m\u001b[0m\n\u001b[0;32m   1852\u001b[0m         \u001b[1;31m# X is already a transformed view of raw_documents so\u001b[0m\u001b[1;33m\u001b[0m\u001b[1;33m\u001b[0m\u001b[1;33m\u001b[0m\u001b[0m\n",
      "\u001b[1;32m~\\anaconda3\\lib\\site-packages\\sklearn\\feature_extraction\\text.py\u001b[0m in \u001b[0;36mfit_transform\u001b[1;34m(self, raw_documents, y)\u001b[0m\n\u001b[0;32m   1201\u001b[0m         \u001b[0mmax_features\u001b[0m \u001b[1;33m=\u001b[0m \u001b[0mself\u001b[0m\u001b[1;33m.\u001b[0m\u001b[0mmax_features\u001b[0m\u001b[1;33m\u001b[0m\u001b[1;33m\u001b[0m\u001b[0m\n\u001b[0;32m   1202\u001b[0m \u001b[1;33m\u001b[0m\u001b[0m\n\u001b[1;32m-> 1203\u001b[1;33m         vocabulary, X = self._count_vocab(raw_documents,\n\u001b[0m\u001b[0;32m   1204\u001b[0m                                           self.fixed_vocabulary_)\n\u001b[0;32m   1205\u001b[0m \u001b[1;33m\u001b[0m\u001b[0m\n",
      "\u001b[1;32m~\\anaconda3\\lib\\site-packages\\sklearn\\feature_extraction\\text.py\u001b[0m in \u001b[0;36m_count_vocab\u001b[1;34m(self, raw_documents, fixed_vocab)\u001b[0m\n\u001b[0;32m   1119\u001b[0m                         \u001b[0mfeature_counter\u001b[0m\u001b[1;33m[\u001b[0m\u001b[0mfeature_idx\u001b[0m\u001b[1;33m]\u001b[0m \u001b[1;33m=\u001b[0m \u001b[1;36m1\u001b[0m\u001b[1;33m\u001b[0m\u001b[1;33m\u001b[0m\u001b[0m\n\u001b[0;32m   1120\u001b[0m                     \u001b[1;32melse\u001b[0m\u001b[1;33m:\u001b[0m\u001b[1;33m\u001b[0m\u001b[1;33m\u001b[0m\u001b[0m\n\u001b[1;32m-> 1121\u001b[1;33m                         \u001b[0mfeature_counter\u001b[0m\u001b[1;33m[\u001b[0m\u001b[0mfeature_idx\u001b[0m\u001b[1;33m]\u001b[0m \u001b[1;33m+=\u001b[0m \u001b[1;36m1\u001b[0m\u001b[1;33m\u001b[0m\u001b[1;33m\u001b[0m\u001b[0m\n\u001b[0m\u001b[0;32m   1122\u001b[0m                 \u001b[1;32mexcept\u001b[0m \u001b[0mKeyError\u001b[0m\u001b[1;33m:\u001b[0m\u001b[1;33m\u001b[0m\u001b[1;33m\u001b[0m\u001b[0m\n\u001b[0;32m   1123\u001b[0m                     \u001b[1;31m# Ignore out-of-vocabulary items for fixed_vocab=True\u001b[0m\u001b[1;33m\u001b[0m\u001b[1;33m\u001b[0m\u001b[1;33m\u001b[0m\u001b[0m\n",
      "\u001b[1;31mKeyboardInterrupt\u001b[0m: "
     ]
    }
   ],
   "source": [
    "environment = LinegameEnv()\n",
    "utils.validate_py_environment(environment, episodes=1)"
   ]
  },
  {
   "cell_type": "code",
   "execution_count": 182,
   "id": "30db82bc-9f86-4477-b22c-f8fca0e0004f",
   "metadata": {},
   "outputs": [
    {
     "data": {
      "text/plain": [
       "[0.8440652399358914,\n",
       " 0.8440652399358914,\n",
       " 0.8440652399358914,\n",
       " 0.844442349391911,\n",
       " 0.8448194588479306,\n",
       " 0.8451965683039502,\n",
       " 0.8460450645799943,\n",
       " 0.8459507872159895,\n",
       " 0.8466107287640238,\n",
       " 0.8462336193080041,\n",
       " 0.846327896672009,\n",
       " 0.8459507872159895,\n",
       " 0.8457622324879797,\n",
       " 0.8452908456679551,\n",
       " 0.8456679551239747,\n",
       " 0.8451965683039502,\n",
       " 0.8451965683039502,\n",
       " 0.8459507872159895,\n",
       " 0.8459507872159895,\n",
       " 0.8451965683039502,\n",
       " 0.8461393419439992,\n",
       " 0.8460450645799943,\n",
       " 0.8460450645799943,\n",
       " 0.8457622324879797,\n",
       " 0.8451022909399453,\n",
       " 0.8459507872159895,\n",
       " 0.8459507872159895,\n",
       " 0.8462336193080041,\n",
       " 0.846327896672009,\n",
       " 0.8462336193080041,\n",
       " 0.846327896672009,\n",
       " 0.8456679551239747,\n",
       " 0.8451965683039502,\n",
       " 0.8451965683039502,\n",
       " 0.8449137362119356,\n",
       " 0.8451965683039502,\n",
       " 0.8450080135759405,\n",
       " 0.843499575751862,\n",
       " 0.8441595172998962,\n",
       " 0.8446309041199208,\n",
       " 0.8452908456679551,\n",
       " 0.8441595172998962,\n",
       " 0.844442349391911,\n",
       " 0.8450080135759405,\n",
       " 0.8449137362119356,\n",
       " 0.8449137362119356,\n",
       " 0.8452908456679551,\n",
       " 0.8452908456679551,\n",
       " 0.8445366267559159,\n",
       " 0.8448194588479306,\n",
       " 0.8451965683039502,\n",
       " 0.8452908456679551,\n",
       " 0.8451965683039502,\n",
       " 0.8451965683039502,\n",
       " 0.8458565098519846,\n",
       " 0.8451022909399453,\n",
       " 0.8446309041199208,\n",
       " 0.844442349391911,\n",
       " 0.8438766852078816,\n",
       " 0.8440652399358914,\n",
       " 0.8439709625718865,\n",
       " 0.8440652399358914,\n",
       " 0.844442349391911,\n",
       " 0.8451965683039502,\n",
       " 0.8460450645799943,\n",
       " 0.8461393419439992,\n",
       " 0.8458565098519846,\n",
       " 0.8451022909399453,\n",
       " 0.8435938531158669,\n",
       " 0.8439709625718865,\n",
       " 0.8440652399358914,\n",
       " 0.8440652399358914,\n",
       " 0.843499575751862,\n",
       " 0.8436881304798718]"
      ]
     },
     "execution_count": 182,
     "metadata": {},
     "output_type": "execute_result"
    }
   ],
   "source": [
    "returns"
   ]
  },
  {
   "cell_type": "code",
   "execution_count": 184,
   "id": "9abe44bf-55d8-4d35-80cf-19b30f31d1eb",
   "metadata": {},
   "outputs": [
    {
     "data": {
      "text/plain": [
       "Text(0.5, 0, 'Iterations')"
      ]
     },
     "execution_count": 184,
     "metadata": {},
     "output_type": "execute_result"
    },
    {
     "data": {
      "image/png": "[encoded data removed]",
      "text/plain": [
       "<Figure size 432x288 with 1 Axes>"
      ]
     },
     "metadata": {
      "needs_background": "light"
     },
     "output_type": "display_data"
    }
   ],
   "source": [
    "#iterations = range(0, 2*7 + 1, 1)\n",
    "iterations = range(0,74)\n",
    "plt.plot(iterations, returns)\n",
    "plt.ylabel('Accuracy')\n",
    "plt.xlabel('Iterations')"
   ]
  },
  {
   "cell_type": "code",
   "execution_count": 197,
   "id": "29481664-2f3c-4dc7-ba62-0406743ca5f1",
   "metadata": {},
   "outputs": [],
   "source": [
    "train_py_env = LinegameEnv\n",
    "eval_py_env = LinegameEnv\n",
    "train_env = tf_py_environment.TFPyEnvironment(train_py_env)\n",
    "eval_env = tf_py_environment.TFPyEnvironment(eval_py_env)"
   ]
  },
  {
   "cell_type": "markdown",
   "id": "68fe0b61-a405-4327-a9b5-a77d770e26fc",
   "metadata": {},
   "source": [
    "### 에이전트 "
   ]
  },
  {
   "cell_type": "code",
   "execution_count": 198,
   "id": "c6f70fba-e29f-4f39-b920-b3cb4f62602a",
   "metadata": {},
   "outputs": [],
   "source": [
    "fc_layer_params = (100,)\n",
    "q_net = q_network.QNetwork(\n",
    "    train_env.observation_spec(),\n",
    "    train_env.action_spec(),\n",
    "    fc_layer_params=fc_layer_params)\n",
    "optimizer = tf.compat.v1.train.AdamOptimizer(learning_rate=learning_rate)\n",
    "train_step_counter = tf.Variable(0)\n",
    "agent = dqn_agent.DqnAgent(\n",
    "    train_env.time_step_spec(),\n",
    "    train_env.action_spec(),\n",
    "    q_network=q_net,\n",
    "    optimizer=optimizer,\n",
    "    td_errors_loss_fn=common.element_wise_squared_loss,\n",
    "    train_step_counter=train_step_counter)\n",
    "agent.initialize()"
   ]
  },
  {
   "cell_type": "markdown",
   "id": "81cd3c2c-ff20-4fec-b48f-b6bd02efbd71",
   "metadata": {},
   "source": [
    "### Policies\n",
    "\n",
    "A policy defines the way an agent acts in an environment. Typically, the goal of reinforcement learning is to train the underlying model until the policy produces the desired outcome.\n",
    "\n",
    "In this tutorial:\n",
    "\n",
    "-   The desired outcome is keeping the pole balanced upright over the cart.\n",
    "-   The policy returns an action (left or right) for each `time_step` observation.\n",
    "\n",
    "Agents contain two policies: \n",
    "\n",
    "-   `agent.policy` — The main policy that is used for evaluation and deployment.\n",
    "-   `agent.collect_policy` — A second policy that is used for data collection."
   ]
  },
  {
   "cell_type": "code",
   "execution_count": 199,
   "id": "6e90c60e-0d1e-41b2-b0c6-2a45033e2b87",
   "metadata": {},
   "outputs": [],
   "source": [
    "eval_policy = agent.policy\n",
    "collect_policy = agent.collect_policy"
   ]
  },
  {
   "cell_type": "markdown",
   "id": "ed967874-eb82-4041-a137-46170d890790",
   "metadata": {},
   "source": [
    "Policies can be created independently of agents. For example, use `tf_agents.policies.random_tf_policy` to create a policy which will randomly select an action for each `time_step`."
   ]
  },
  {
   "cell_type": "code",
   "execution_count": 201,
   "id": "a679b831-73c5-4965-b435-449d05e7104d",
   "metadata": {},
   "outputs": [],
   "source": [
    "random_policy = random_tf_policy.RandomTFPolicy(train_env.time_step_spec(),\n",
    "                                                train_env.action_spec())"
   ]
  },
  {
   "cell_type": "markdown",
   "id": "f669e6ca-e991-436e-85fb-c8b5f5697de7",
   "metadata": {},
   "source": [
    "To get an action from a policy, call the `policy.action(time_step)` method. The `time_step` contains the observation from the environment. This method returns a `PolicyStep`, which is a named tuple with three components:\n",
    "\n",
    "-   `action` — the action to be taken (in this case, `0` or `1`)\n",
    "-   `state` — used for stateful (that is, RNN-based) policies\n",
    "-   `info` — auxiliary data, such as log probabilities of actions"
   ]
  },
  {
   "cell_type": "markdown",
   "id": "7439c44c-e78c-46f5-914d-d1be049cef21",
   "metadata": {},
   "source": [
    "### Metrics and Evaluation\n",
    "\n",
    "The most common metric used to evaluate a policy is the average return. The return is the sum of rewards obtained while running a policy in an environment for an episode. Several episodes are run, creating an average return.\n",
    "\n",
    "The following function computes the average return of a policy, given the policy, environment, and a number of episodes.\n",
    "\n",
    "정책을 평가하는 데 사용되는 가장 일반적인 메트릭은 평균 수익률입니다. 수익률은 한 에피소드에 대한 환경에서 정책을 실행하는 동안 얻은 보상의 합계입니다. 몇 개의 에피소드가 실행되어 평균 수익을 창출합니다. 다음 함수는 정책, 환경 및 에피소드 수에 따라 정책의 평균 수익률을 계산합니다."
   ]
  },
  {
   "cell_type": "code",
   "execution_count": 212,
   "id": "3dbcc350-de50-4d9b-a41b-6f1f35d053d8",
   "metadata": {},
   "outputs": [],
   "source": [
    "returns = list()"
   ]
  },
  {
   "cell_type": "code",
   "execution_count": 213,
   "id": "953834ae-d8ab-46a8-84c9-29fe7cdea7cd",
   "metadata": {},
   "outputs": [
    {
     "data": {
      "text/plain": [
       "[]"
      ]
     },
     "execution_count": 213,
     "metadata": {},
     "output_type": "execute_result"
    }
   ],
   "source": [
    "returns"
   ]
  },
  {
   "cell_type": "code",
   "execution_count": 214,
   "id": "fcb6ac89-a4e6-45b9-b7d1-982cb4e0eda1",
   "metadata": {},
   "outputs": [],
   "source": [
    "def compute_avg_return(environment, policy, num_episodes=10):\n",
    "    total_return = 0.0\n",
    "    for _ in range(num_episodes):\n",
    "        time_step = environment.reset()\n",
    "        episode_return = 0.0\n",
    "\n",
    "        while not time_step.is_last():\n",
    "            action_step = policy.action(time_step)\n",
    "            time_step = environment.step(action_step.action)\n",
    "            episode_return += time_step.reward\n",
    "            print(f\"{time_step.reward} 현재의 리워드다다다다다\")\n",
    "        total_return += episode_return\n",
    "        print(f\"{episode_return}이다다다ㅏ다다\")\n",
    "    avg_return = total_return / num_episodes\n",
    "    return avg_return.numpy()[0]"
   ]
  },
  {
   "cell_type": "markdown",
   "id": "dee0d5ce-9d0b-45fb-9069-8b65b0a04d4d",
   "metadata": {},
   "source": [
    "Running this computation on the `random_policy` shows a baseline performance in the environment."
   ]
  },
  {
   "cell_type": "code",
   "execution_count": 215,
   "id": "894a8815-c7c6-4519-9a6a-b99784026327",
   "metadata": {},
   "outputs": [
    {
     "name": "stdout",
     "output_type": "stream",
     "text": [
      "### new episode start! ###\n",
      " \n",
      "1-1. current state = 0.1\n",
      "1-2. action = -0.062\n",
      "    **exit(current state<0.1) => reset current state as 0.**\n",
      "1-3. reward = 0.8407655321957198\n",
      "1-4. future state = 0.1\n",
      "[0.] 현재의 리워드다다다다다\n",
      " \n",
      "2-1. current state = 0.1\n",
      "2-2. action = -0.038\n",
      "    **exit(current state<0.1) => reset current state as 0.**\n",
      "2-3. reward = 0.8407655321957198\n",
      "2-4. future state = 0.1\n",
      "[0.] 현재의 리워드다다다다다\n",
      " \n",
      "3-1. current state = 0.1\n",
      "3-2. action = -0.082\n",
      "    **exit(current state<0.1) => reset current state as 0.**\n",
      "3-3. reward = 0.8407655321957198\n",
      "3-4. future state = 0.1\n",
      "[0.] 현재의 리워드다다다다다\n",
      " \n",
      "4-1. current state = 0.1\n",
      "4-2. action = 0.0\n",
      "4-3. reward = 0.8407655321957198\n",
      "4-4. future state = 0.1\n",
      " \n",
      "### episode ended ###\n",
      "[0.84076554] 현재의 리워드다다다다다\n",
      "[0.84076554]이다다다ㅏ다다\n",
      "### new episode start! ###\n",
      " \n",
      "1-1. current state = 0.1\n",
      "1-2. action = 0.05\n",
      "1-3. reward = 0.8407655321957198\n",
      "1-4. future state = 0.15000000000000002\n",
      "[0.] 현재의 리워드다다다다다\n",
      " \n",
      "2-1. current state = 0.15000000000000002\n",
      "2-2. action = 0.052\n",
      "2-3. reward = 0.8470821155840482\n",
      "2-4. future state = 0.202\n",
      "[0.] 현재의 리워드다다다다다\n",
      " \n",
      "3-1. current state = 0.202\n",
      "3-2. action = 0.058\n",
      "3-3. reward = 0.8481191665881022\n",
      "3-4. future state = 0.26\n",
      "[0.] 현재의 리워드다다다다다\n",
      " \n",
      "4-1. current state = 0.26\n",
      "4-2. action = 0.038\n",
      "4-3. reward = 0.8499104365041953\n",
      "4-4. future state = 0.298\n",
      " \n",
      "### episode ended ###\n",
      "[0.84991044] 현재의 리워드다다다다다\n",
      "[0.84991044]이다다다ㅏ다다\n"
     ]
    },
    {
     "data": {
      "text/plain": [
       "0.845338"
      ]
     },
     "execution_count": 215,
     "metadata": {},
     "output_type": "execute_result"
    }
   ],
   "source": [
    "compute_avg_return(eval_env, random_policy, num_eval_episodes)"
   ]
  },
  {
   "cell_type": "markdown",
   "id": "af19265a-86e6-4792-a73b-8530626e1dff",
   "metadata": {},
   "source": [
    "### Replay Buffer\n",
    "\n",
    "The replay buffer keeps track of data collected from the environment. This tutorial uses `tf_agents.replay_buffers.tf_uniform_replay_buffer.TFUniformReplayBuffer`, as it is the most common. \n",
    "\n",
    "The constructor requires the specs for the data it will be collecting. This is available from the agent using the `collect_data_spec` method. The batch size and maximum buffer length are also required.\n",
    "\n",
    "재생 버퍼는 환경에서 수집된 데이터를 추적합니다. 이 자습서에서는 tf_agents.replay_buffers.tf_uniform_replay_buffer를 사용합니다.가장 일반적인 TFUniformReplayBuffer입니다. 생성자는 수집할 데이터에 대한 사양을 요구합니다. 이 기능은 collect_data_spec 메서드를 사용하여 에이전트에서 사용할 수 있습니다. 배치 크기와 최대 버퍼 길이도 필요합니다"
   ]
  },
  {
   "cell_type": "code",
   "execution_count": 229,
   "id": "2d288b12-690d-4efa-9e69-bcb5226521a6",
   "metadata": {},
   "outputs": [],
   "source": [
    "replay_buffer = tf_uniform_replay_buffer.TFUniformReplayBuffer(\n",
    "    data_spec=agent.collect_data_spec,\n",
    "    batch_size=train_env.batch_size,\n",
    "    max_length=replay_buffer_max_length)"
   ]
  },
  {
   "cell_type": "markdown",
   "id": "b5dd3640-3827-4b78-9cd0-14e4fc92c372",
   "metadata": {},
   "source": [
    "For most agents, `collect_data_spec` is a named tuple called `Trajectory`, containing the specs for observations, actions, rewards, and other items."
   ]
  },
  {
   "cell_type": "code",
   "execution_count": 230,
   "id": "ab33d472-3a88-4402-9158-6e2b363c7751",
   "metadata": {},
   "outputs": [
    {
     "data": {
      "text/plain": [
       "Trajectory(\n",
       "{'action': BoundedTensorSpec(shape=(), dtype=tf.int32, name='action', minimum=array(0), maximum=array(100)),\n",
       " 'discount': BoundedTensorSpec(shape=(), dtype=tf.float32, name='discount', minimum=array(0., dtype=float32), maximum=array(1., dtype=float32)),\n",
       " 'next_step_type': TensorSpec(shape=(), dtype=tf.int32, name='step_type'),\n",
       " 'observation': BoundedTensorSpec(shape=(1,), dtype=tf.int32, name='observation', minimum=array(0), maximum=array(2147483647)),\n",
       " 'policy_info': (),\n",
       " 'reward': TensorSpec(shape=(), dtype=tf.float32, name='reward'),\n",
       " 'step_type': TensorSpec(shape=(), dtype=tf.int32, name='step_type')})"
      ]
     },
     "execution_count": 230,
     "metadata": {},
     "output_type": "execute_result"
    }
   ],
   "source": [
    "agent.collect_data_spec"
   ]
  },
  {
   "cell_type": "code",
   "execution_count": 231,
   "id": "b328aeab-9cc8-43ac-afda-dc7b0eb3caff",
   "metadata": {},
   "outputs": [
    {
     "data": {
      "text/plain": [
       "('step_type',\n",
       " 'observation',\n",
       " 'action',\n",
       " 'policy_info',\n",
       " 'next_step_type',\n",
       " 'reward',\n",
       " 'discount')"
      ]
     },
     "execution_count": 231,
     "metadata": {},
     "output_type": "execute_result"
    }
   ],
   "source": [
    "agent.collect_data_spec._fields"
   ]
  },
  {
   "cell_type": "markdown",
   "id": "772fab0a-1d89-4d2a-884e-8086b4e1f025",
   "metadata": {},
   "source": [
    "### Data Collection\n",
    "\n",
    "Now execute the random policy in the environment for a few steps, recording the data in the replay buffer."
   ]
  },
  {
   "cell_type": "code",
   "execution_count": 233,
   "id": "a8340a15-7519-4b39-83c2-779556cc602f",
   "metadata": {},
   "outputs": [
    {
     "name": "stdout",
     "output_type": "stream",
     "text": [
      " \n",
      "3-1. current state = 0.1\n",
      "3-2. action = -0.056\n",
      "    **exit(current state<0.1) => reset current state as 0.**\n",
      "3-3. reward = 0.8407655321957198\n",
      "3-4. future state = 0.1\n",
      " \n",
      "4-1. current state = 0.1\n",
      "4-2. action = 0.086\n",
      "4-3. reward = 0.8407655321957198\n",
      "4-4. future state = 0.186\n",
      " \n",
      "### episode ended ###\n",
      "1-1. current state = 0.1\n",
      "1-2. action = -0.058\n",
      "    **exit(current state<0.1) => reset current state as 0.**\n",
      "1-3. reward = 0.8407655321957198\n",
      "1-4. future state = 0.1\n",
      " \n",
      "2-1. current state = 0.1\n",
      "2-2. action = -0.038\n",
      "    **exit(current state<0.1) => reset current state as 0.**\n",
      "2-3. reward = 0.8407655321957198\n",
      "2-4. future state = 0.1\n",
      " \n",
      "3-1. current state = 0.1\n",
      "3-2. action = 0.026\n",
      "3-3. reward = 0.8407655321957198\n",
      "3-4. future state = 0.126\n",
      " \n",
      "4-1. current state = 0.126\n",
      "4-2. action = 0.094\n",
      "4-3. reward = 0.8438766852078816\n",
      "4-4. future state = 0.22\n",
      " \n",
      "### episode ended ###\n",
      "1-1. current state = 0.1\n",
      "1-2. action = 0.006\n",
      "1-3. reward = 0.8407655321957198\n",
      "1-4. future state = 0.10600000000000001\n",
      " \n",
      "2-1. current state = 0.10600000000000001\n",
      "2-2. action = 0.076\n",
      "2-3. reward = 0.8413311963797492\n",
      "2-4. future state = 0.182\n",
      " \n",
      "3-1. current state = 0.182\n",
      "3-2. action = -0.084\n",
      "    **exit(current state<0.1) => reset current state as 0.**\n",
      "3-3. reward = 0.8481191665881022\n",
      "3-4. future state = 0.1\n",
      " \n",
      "4-1. current state = 0.1\n",
      "4-2. action = -0.064\n",
      "    **exit(current state<0.1) => reset current state as 0.**\n",
      "4-3. reward = 0.8407655321957198\n",
      "4-4. future state = 0.1\n",
      " \n",
      "### episode ended ###\n"
     ]
    }
   ],
   "source": [
    "def collect_step(environment, policy, buffer):\n",
    "    time_step = environment.current_time_step()\n",
    "    action_step = policy.action(time_step)\n",
    "    next_time_step = environment.step(action_step.action)\n",
    "    traj = trajectory.from_transition(time_step, action_step, next_time_step)\n",
    "\n",
    "    # Add trajectory to the replay buffer\n",
    "    buffer.add_batch(traj)\n",
    "\n",
    "def collect_data(env, policy, buffer, steps):\n",
    "    for _ in range(steps):\n",
    "        collect_step(env, policy, buffer)\n",
    "\n",
    "collect_data(train_env, random_policy, replay_buffer, steps=10)\n",
    "\n",
    "# This loop is so common in RL, that we provide standard implementations. \n",
    "# For more details see the drivers module.\n",
    "# https://www.tensorflow.org/agents/api_docs/python/tf_agents/drivers"
   ]
  },
  {
   "cell_type": "markdown",
   "id": "2dbcfb50-6e21-4e2b-a1fa-8c92adebdbab",
   "metadata": {},
   "source": [
    "The replay buffer is now a collection of Trajectories."
   ]
  },
  {
   "cell_type": "code",
   "execution_count": 220,
   "id": "9582980c-f8b1-4adc-8151-e1854bf9ea13",
   "metadata": {},
   "outputs": [],
   "source": [
    "# For the curious:\n",
    "# Uncomment to peel one of these off and inspect it.\n",
    "# iter(replay_buffer.as_dataset()).next()"
   ]
  },
  {
   "cell_type": "markdown",
   "id": "c9b88f79-45a4-4620-9b84-5e3110562a05",
   "metadata": {},
   "source": [
    "The agent needs access to the replay buffer. This is provided by creating an iterable `tf.data.Dataset` pipeline which will feed data to the agent.\n",
    "\n",
    "Each row of the replay buffer only stores a single observation step. But since the DQN Agent needs both the current and next observation to compute the loss, the dataset pipeline will sample two adjacent rows for each item in the batch (`num_steps=2`).\n",
    "\n",
    "This dataset is also optimized by running parallel calls and prefetching data."
   ]
  },
  {
   "cell_type": "code",
   "execution_count": 234,
   "id": "29a6ba62-edaa-4414-a08f-ec7aef72e2d2",
   "metadata": {},
   "outputs": [
    {
     "data": {
      "text/plain": [
       "<PrefetchDataset element_spec=(Trajectory(\n",
       "{'action': TensorSpec(shape=(2, 2), dtype=tf.int32, name=None),\n",
       " 'discount': TensorSpec(shape=(2, 2), dtype=tf.float32, name=None),\n",
       " 'next_step_type': TensorSpec(shape=(2, 2), dtype=tf.int32, name=None),\n",
       " 'observation': TensorSpec(shape=(2, 2, 1), dtype=tf.int32, name=None),\n",
       " 'policy_info': (),\n",
       " 'reward': TensorSpec(shape=(2, 2), dtype=tf.float32, name=None),\n",
       " 'step_type': TensorSpec(shape=(2, 2), dtype=tf.int32, name=None)}), BufferInfo(ids=TensorSpec(shape=(2, 2), dtype=tf.int64, name=None), probabilities=TensorSpec(shape=(2,), dtype=tf.float32, name=None)))>"
      ]
     },
     "execution_count": 234,
     "metadata": {},
     "output_type": "execute_result"
    }
   ],
   "source": [
    "# Dataset generates trajectories with shape [Bx2x...]\n",
    "dataset = replay_buffer.as_dataset(\n",
    "    num_parallel_calls=3, \n",
    "    sample_batch_size=batch_size, \n",
    "    num_steps=2).prefetch(3)\n",
    "\n",
    "\n",
    "dataset"
   ]
  },
  {
   "cell_type": "code",
   "execution_count": 235,
   "id": "817fe5f9-5f0f-4009-a854-2cf12987ab3e",
   "metadata": {},
   "outputs": [
    {
     "name": "stdout",
     "output_type": "stream",
     "text": [
      "<tensorflow.python.data.ops.iterator_ops.OwnedIterator object at 0x0000026D2E11B130>\n"
     ]
    }
   ],
   "source": [
    "iterator = iter(dataset)\n",
    "\n",
    "print(iterator)"
   ]
  },
  {
   "cell_type": "code",
   "execution_count": 236,
   "id": "72e14f16-d4b6-4ad5-96c7-fcbb1b96374a",
   "metadata": {},
   "outputs": [],
   "source": [
    "# For the curious:\n",
    "# Uncomment to see what the dataset iterator is feeding to the agent.\n",
    "# Compare this representation of replay data \n",
    "# to the collection of individual trajectories shown earlier.\n",
    "\n",
    "# iterator.next()"
   ]
  },
  {
   "cell_type": "markdown",
   "id": "fdb3f375-becf-4212-82ea-367dc8085c02",
   "metadata": {},
   "source": [
    "### Training the agent\n",
    "\n",
    "Two things must happen during the training loop:\n",
    "\n",
    "-   collect data from the environment\n",
    "-   use that data to train the agent's neural network(s)\n",
    "\n",
    "This example also periodicially evaluates the policy and prints the current score.\n",
    "\n",
    "The following will take ~5 minutes to run."
   ]
  },
  {
   "cell_type": "code",
   "execution_count": 237,
   "id": "aa52b1d4-c6ef-4192-946d-b4b45cf34028",
   "metadata": {},
   "outputs": [
    {
     "name": "stdout",
     "output_type": "stream",
     "text": [
      "### new episode start! ###\n",
      " \n",
      "1-1. current state = 0.1\n",
      "1-2. action = -0.1\n",
      "    **exit(current state<0.1) => reset current state as 0.**\n",
      "1-3. reward = 0.8407655321957198\n",
      "1-4. future state = 0.1\n",
      "[0.] 현재의 리워드다다다다다\n",
      " \n",
      "2-1. current state = 0.1\n",
      "2-2. action = -0.1\n",
      "    **exit(current state<0.1) => reset current state as 0.**\n",
      "2-3. reward = 0.8407655321957198\n",
      "2-4. future state = 0.1\n",
      "[0.] 현재의 리워드다다다다다\n",
      " \n",
      "3-1. current state = 0.1\n",
      "3-2. action = -0.1\n",
      "    **exit(current state<0.1) => reset current state as 0.**\n",
      "3-3. reward = 0.8407655321957198\n",
      "3-4. future state = 0.1\n",
      "[0.] 현재의 리워드다다다다다\n",
      " \n",
      "4-1. current state = 0.1\n",
      "4-2. action = -0.1\n",
      "    **exit(current state<0.1) => reset current state as 0.**\n",
      "4-3. reward = 0.8407655321957198\n",
      "4-4. future state = 0.1\n",
      " \n",
      "### episode ended ###\n",
      "[0.84076554] 현재의 리워드다다다다다\n",
      "[0.84076554]이다다다ㅏ다다\n",
      "### new episode start! ###\n",
      " \n",
      "1-1. current state = 0.1\n",
      "1-2. action = -0.1\n",
      "    **exit(current state<0.1) => reset current state as 0.**\n",
      "1-3. reward = 0.8407655321957198\n",
      "1-4. future state = 0.1\n",
      "[0.] 현재의 리워드다다다다다\n",
      " \n",
      "2-1. current state = 0.1\n",
      "2-2. action = -0.1\n",
      "    **exit(current state<0.1) => reset current state as 0.**\n",
      "2-3. reward = 0.8407655321957198\n",
      "2-4. future state = 0.1\n",
      "[0.] 현재의 리워드다다다다다\n",
      " \n",
      "3-1. current state = 0.1\n",
      "3-2. action = -0.1\n",
      "    **exit(current state<0.1) => reset current state as 0.**\n",
      "3-3. reward = 0.8407655321957198\n",
      "3-4. future state = 0.1\n",
      "[0.] 현재의 리워드다다다다다\n",
      " \n",
      "4-1. current state = 0.1\n",
      "4-2. action = -0.1\n",
      "    **exit(current state<0.1) => reset current state as 0.**\n",
      "4-3. reward = 0.8407655321957198\n",
      "4-4. future state = 0.1\n",
      " \n",
      "### episode ended ###\n",
      "[0.84076554] 현재의 리워드다다다다다\n",
      "[0.84076554]이다다다ㅏ다다\n",
      "1-1. current state = 0.1\n",
      "1-2. action = -0.1\n",
      "    **exit(current state<0.1) => reset current state as 0.**\n",
      "1-3. reward = 0.8407655321957198\n",
      "1-4. future state = 0.1\n",
      "WARNING:tensorflow:5 out of the last 11 calls to <tensorflow.python.eager.def_function.Function object at 0x0000026D2DDD5C70> triggered tf.function retracing. Tracing is expensive and the excessive number of tracings could be due to (1) creating @tf.function repeatedly in a loop, (2) passing tensors with different shapes, (3) passing Python objects instead of tensors. For (1), please define your @tf.function outside of the loop. For (2), @tf.function has reduce_retracing=True option that can avoid unnecessary retracing. For (3), please refer to https://www.tensorflow.org/guide/function#controlling_retracing and https://www.tensorflow.org/api_docs/python/tf/function for  more details.\n"
     ]
    },
    {
     "name": "stderr",
     "output_type": "stream",
     "text": [
      "WARNING:tensorflow:5 out of the last 11 calls to <tensorflow.python.eager.def_function.Function object at 0x0000026D2DDD5C70> triggered tf.function retracing. Tracing is expensive and the excessive number of tracings could be due to (1) creating @tf.function repeatedly in a loop, (2) passing tensors with different shapes, (3) passing Python objects instead of tensors. For (1), please define your @tf.function outside of the loop. For (2), @tf.function has reduce_retracing=True option that can avoid unnecessary retracing. For (3), please refer to https://www.tensorflow.org/guide/function#controlling_retracing and https://www.tensorflow.org/api_docs/python/tf/function for  more details.\n"
     ]
    },
    {
     "name": "stdout",
     "output_type": "stream",
     "text": [
      " \n",
      "2-1. current state = 0.1\n",
      "2-2. action = 0.094\n",
      "2-3. reward = 0.8407655321957198\n",
      "2-4. future state = 0.194\n",
      "### new episode start! ###\n",
      " \n",
      "1-1. current state = 0.1\n",
      "1-2. action = 0.094\n",
      "1-3. reward = 0.8407655321957198\n",
      "1-4. future state = 0.194\n",
      "[0.] 현재의 리워드다다다다다\n",
      " \n",
      "2-1. current state = 0.194\n",
      "2-2. action = 0.094\n",
      "2-3. reward = 0.8484019986801169\n",
      "2-4. future state = 0.28800000000000003\n",
      "[0.] 현재의 리워드다다다다다\n",
      " \n",
      "3-1. current state = 0.28800000000000003\n",
      "3-2. action = 0.094\n",
      "3-3. reward = 0.849250494956161\n",
      "3-4. future state = 0.382\n",
      "[0.] 현재의 리워드다다다다다\n",
      " \n",
      "4-1. current state = 0.382\n",
      "4-2. action = 0.094\n",
      "4-3. reward = 0.8489676628641463\n",
      "4-4. future state = 0.476\n",
      " \n",
      "### episode ended ###\n",
      "[0.8489677] 현재의 리워드다다다다다\n",
      "[0.8489677]이다다다ㅏ다다\n",
      "### new episode start! ###\n",
      " \n",
      "1-1. current state = 0.1\n",
      "1-2. action = 0.094\n",
      "1-3. reward = 0.8407655321957198\n",
      "1-4. future state = 0.194\n",
      "[0.] 현재의 리워드다다다다다\n",
      " \n",
      "2-1. current state = 0.194\n",
      "2-2. action = 0.094\n",
      "2-3. reward = 0.8484019986801169\n",
      "2-4. future state = 0.28800000000000003\n",
      "[0.] 현재의 리워드다다다다다\n",
      " \n",
      "3-1. current state = 0.28800000000000003\n",
      "3-2. action = 0.094\n",
      "3-3. reward = 0.849250494956161\n",
      "3-4. future state = 0.382\n",
      "[0.] 현재의 리워드다다다다다\n",
      " \n",
      "4-1. current state = 0.382\n",
      "4-2. action = 0.094\n",
      "4-3. reward = 0.8489676628641463\n",
      "4-4. future state = 0.476\n",
      " \n",
      "### episode ended ###\n",
      "[0.8489677] 현재의 리워드다다다다다\n",
      "[0.8489677]이다다다ㅏ다다\n",
      "step = 2: Average Return = 0.8489676713943481\n",
      " \n",
      "3-1. current state = 0.194\n",
      "3-2. action = 0.094\n",
      "3-3. reward = 0.8484019986801169\n",
      "3-4. future state = 0.28800000000000003\n",
      " \n",
      "4-1. current state = 0.28800000000000003\n",
      "4-2. action = -0.074\n",
      "4-3. reward = 0.849250494956161\n",
      "4-4. future state = 0.21400000000000002\n",
      " \n",
      "### episode ended ###\n",
      "### new episode start! ###\n",
      " \n",
      "1-1. current state = 0.1\n",
      "1-2. action = 0.094\n",
      "1-3. reward = 0.8407655321957198\n",
      "1-4. future state = 0.194\n",
      "[0.] 현재의 리워드다다다다다\n",
      " \n",
      "2-1. current state = 0.194\n",
      "2-2. action = 0.094\n",
      "2-3. reward = 0.8484019986801169\n",
      "2-4. future state = 0.28800000000000003\n",
      "[0.] 현재의 리워드다다다다다\n",
      " \n",
      "3-1. current state = 0.28800000000000003\n",
      "3-2. action = 0.094\n",
      "3-3. reward = 0.849250494956161\n",
      "3-4. future state = 0.382\n",
      "[0.] 현재의 리워드다다다다다\n",
      " \n",
      "4-1. current state = 0.382\n",
      "4-2. action = 0.094\n",
      "4-3. reward = 0.8489676628641463\n",
      "4-4. future state = 0.476\n",
      " \n",
      "### episode ended ###\n",
      "[0.8489677] 현재의 리워드다다다다다\n",
      "[0.8489677]이다다다ㅏ다다\n",
      "### new episode start! ###\n",
      " \n",
      "1-1. current state = 0.1\n",
      "1-2. action = 0.094\n",
      "1-3. reward = 0.8407655321957198\n",
      "1-4. future state = 0.194\n",
      "[0.] 현재의 리워드다다다다다\n",
      " \n",
      "2-1. current state = 0.194\n",
      "2-2. action = 0.094\n",
      "2-3. reward = 0.8484019986801169\n",
      "2-4. future state = 0.28800000000000003\n",
      "[0.] 현재의 리워드다다다다다\n",
      " \n",
      "3-1. current state = 0.28800000000000003\n",
      "3-2. action = 0.094\n",
      "3-3. reward = 0.849250494956161\n",
      "3-4. future state = 0.382\n",
      "[0.] 현재의 리워드다다다다다\n",
      " \n",
      "4-1. current state = 0.382\n",
      "4-2. action = 0.094\n",
      "4-3. reward = 0.8489676628641463\n",
      "4-4. future state = 0.476\n",
      " \n",
      "### episode ended ###\n",
      "[0.8489677] 현재의 리워드다다다다다\n",
      "[0.8489677]이다다다ㅏ다다\n",
      "step = 4: Average Return = 0.8489676713943481\n"
     ]
    }
   ],
   "source": [
    "try:\n",
    "    %%time\n",
    "except:\n",
    "    pass\n",
    "\n",
    "# (Optional) Optimize by wrapping some of the code in a graph using TF function.\n",
    "agent.train = common.function(agent.train)\n",
    "\n",
    "# Reset the train step\n",
    "agent.train_step_counter.assign(0)\n",
    "\n",
    "# Evaluate the agent's policy once before training.\n",
    "avg_return = compute_avg_return(eval_env, agent.policy, num_eval_episodes)\n",
    "returns = [avg_return]\n",
    "\n",
    "for _ in range(num_iterations):\n",
    "    # Collect a few steps using collect_policy and save to the replay buffer.\n",
    "    for _ in range(collect_steps_per_iteration):\n",
    "        collect_step(train_env, agent.collect_policy, replay_buffer)\n",
    "    # Sample a batch of data from the buffer and update the agent's network.\n",
    "    experience, unused_info = next(iterator)\n",
    "    train_loss = agent.train(experience).loss\n",
    "\n",
    "    step = agent.train_step_counter.numpy()\n",
    "\n",
    "    if step % log_interval == 0:\n",
    "        print('step = {0}: loss = {1}'.format(step, train_loss))\n",
    "\n",
    "    if step % eval_interval == 0:\n",
    "        avg_return = compute_avg_return(eval_env, agent.policy, num_eval_episodes)\n",
    "        print('step = {0}: Average Return = {1}'.format(step, avg_return))\n",
    "        returns.append(avg_return)"
   ]
  },
  {
   "cell_type": "markdown",
   "id": "96669f69-ca6e-4528-a274-3e6fe36aa939",
   "metadata": {},
   "source": [
    "### Visualization\n"
   ]
  },
  {
   "cell_type": "markdown",
   "id": "8a3a3f1f-5c8d-4e34-ac1b-778e3d40cadb",
   "metadata": {},
   "source": [
    "### Plots\n",
    "\n",
    "Use `matplotlib.pyplot` to chart how the policy improved during training.\n",
    "\n",
    "One iteration of `Cartpole-v0` consists of 200 time steps. The environment gives a reward of `+1` for each step the pole stays up, so the maximum return for one episode is 200. The charts shows the return increasing towards that maximum each time it is evaluated during training. (It may be a little unstable and not increase monotonically each time.)"
   ]
  },
  {
   "cell_type": "code",
   "execution_count": 250,
   "id": "39d1e170-ccbb-4978-b696-101b29fffaf3",
   "metadata": {},
   "outputs": [
    {
     "data": {
      "text/plain": [
       "[0.84076554,\n",
       " 0.8407655321957198,\n",
       " 0.8407655321957198,\n",
       " 0.8407655321957198,\n",
       " 0.8484019986801169,\n",
       " 0.849250494956161,\n",
       " 0.8489676628641463,\n",
       " 0.8484019986801169,\n",
       " 0.849250494956161,\n",
       " 0.8489676628641463,\n",
       " 0.8489677,\n",
       " 0.8484019986801169,\n",
       " 0.849250494956161,\n",
       " 0.8484019986801169,\n",
       " 0.849250494956161,\n",
       " 0.8489676628641463,\n",
       " 0.8484019986801169,\n",
       " 0.849250494956161,\n",
       " 0.8489676628641463,\n",
       " 0.8489677]"
      ]
     },
     "execution_count": 250,
     "metadata": {},
     "output_type": "execute_result"
    }
   ],
   "source": [
    "returns"
   ]
  },
  {
   "cell_type": "code",
   "execution_count": 246,
   "id": "8ce27f39-61e5-458b-b4af-37525c8ff637",
   "metadata": {},
   "outputs": [],
   "source": [
    "returns = [0.84076554,\n",
    " 0.8407655321957198,\n",
    " 0.8407655321957198,\n",
    " 0.8407655321957198,\n",
    " 0.8484019986801169,\n",
    " 0.849250494956161,\n",
    " 0.8489676628641463,\n",
    " 0.8484019986801169,\n",
    " 0.849250494956161,\n",
    " 0.8489676628641463,\n",
    " 0.8489677,\n",
    " 0.8484019986801169,\n",
    " 0.849250494956161,\n",
    " 0.8484019986801169,\n",
    " 0.849250494956161,\n",
    " 0.8489676628641463,\n",
    " 0.8484019986801169,\n",
    " 0.849250494956161,\n",
    " 0.8489676628641463,\n",
    " 0.8489677]"
   ]
  },
  {
   "cell_type": "code",
   "execution_count": 247,
   "id": "ad1d7b56-4462-4a6f-808e-e4c60664b92e",
   "metadata": {},
   "outputs": [
    {
     "ename": "ValueError",
     "evalue": "x and y must have same first dimension, but have shapes (3,) and (20,)",
     "output_type": "error",
     "traceback": [
      "\u001b[1;31m---------------------------------------------------------------------------\u001b[0m",
      "\u001b[1;31mValueError\u001b[0m                                Traceback (most recent call last)",
      "\u001b[1;32m<ipython-input-247-071649ace972>\u001b[0m in \u001b[0;36m<module>\u001b[1;34m\u001b[0m\n\u001b[0;32m      1\u001b[0m \u001b[0miterations\u001b[0m \u001b[1;33m=\u001b[0m \u001b[0mrange\u001b[0m\u001b[1;33m(\u001b[0m\u001b[1;36m0\u001b[0m\u001b[1;33m,\u001b[0m \u001b[0mnum_iterations\u001b[0m \u001b[1;33m+\u001b[0m \u001b[1;36m1\u001b[0m\u001b[1;33m,\u001b[0m \u001b[0meval_interval\u001b[0m\u001b[1;33m)\u001b[0m\u001b[1;33m\u001b[0m\u001b[1;33m\u001b[0m\u001b[0m\n\u001b[1;32m----> 2\u001b[1;33m \u001b[0mplt\u001b[0m\u001b[1;33m.\u001b[0m\u001b[0mplot\u001b[0m\u001b[1;33m(\u001b[0m\u001b[0miterations\u001b[0m\u001b[1;33m,\u001b[0m \u001b[0mreturns\u001b[0m\u001b[1;33m)\u001b[0m\u001b[1;33m\u001b[0m\u001b[1;33m\u001b[0m\u001b[0m\n\u001b[0m\u001b[0;32m      3\u001b[0m \u001b[0mplt\u001b[0m\u001b[1;33m.\u001b[0m\u001b[0mylabel\u001b[0m\u001b[1;33m(\u001b[0m\u001b[1;34m'Average Return'\u001b[0m\u001b[1;33m)\u001b[0m\u001b[1;33m\u001b[0m\u001b[1;33m\u001b[0m\u001b[0m\n\u001b[0;32m      4\u001b[0m \u001b[0mplt\u001b[0m\u001b[1;33m.\u001b[0m\u001b[0mxlabel\u001b[0m\u001b[1;33m(\u001b[0m\u001b[1;34m'Iterations'\u001b[0m\u001b[1;33m)\u001b[0m\u001b[1;33m\u001b[0m\u001b[1;33m\u001b[0m\u001b[0m\n",
      "\u001b[1;32m~\\anaconda3\\lib\\site-packages\\matplotlib\\pyplot.py\u001b[0m in \u001b[0;36mplot\u001b[1;34m(scalex, scaley, data, *args, **kwargs)\u001b[0m\n\u001b[0;32m   2838\u001b[0m \u001b[1;33m@\u001b[0m\u001b[0m_copy_docstring_and_deprecators\u001b[0m\u001b[1;33m(\u001b[0m\u001b[0mAxes\u001b[0m\u001b[1;33m.\u001b[0m\u001b[0mplot\u001b[0m\u001b[1;33m)\u001b[0m\u001b[1;33m\u001b[0m\u001b[1;33m\u001b[0m\u001b[0m\n\u001b[0;32m   2839\u001b[0m \u001b[1;32mdef\u001b[0m \u001b[0mplot\u001b[0m\u001b[1;33m(\u001b[0m\u001b[1;33m*\u001b[0m\u001b[0margs\u001b[0m\u001b[1;33m,\u001b[0m \u001b[0mscalex\u001b[0m\u001b[1;33m=\u001b[0m\u001b[1;32mTrue\u001b[0m\u001b[1;33m,\u001b[0m \u001b[0mscaley\u001b[0m\u001b[1;33m=\u001b[0m\u001b[1;32mTrue\u001b[0m\u001b[1;33m,\u001b[0m \u001b[0mdata\u001b[0m\u001b[1;33m=\u001b[0m\u001b[1;32mNone\u001b[0m\u001b[1;33m,\u001b[0m \u001b[1;33m**\u001b[0m\u001b[0mkwargs\u001b[0m\u001b[1;33m)\u001b[0m\u001b[1;33m:\u001b[0m\u001b[1;33m\u001b[0m\u001b[1;33m\u001b[0m\u001b[0m\n\u001b[1;32m-> 2840\u001b[1;33m     return gca().plot(\n\u001b[0m\u001b[0;32m   2841\u001b[0m         \u001b[1;33m*\u001b[0m\u001b[0margs\u001b[0m\u001b[1;33m,\u001b[0m \u001b[0mscalex\u001b[0m\u001b[1;33m=\u001b[0m\u001b[0mscalex\u001b[0m\u001b[1;33m,\u001b[0m \u001b[0mscaley\u001b[0m\u001b[1;33m=\u001b[0m\u001b[0mscaley\u001b[0m\u001b[1;33m,\u001b[0m\u001b[1;33m\u001b[0m\u001b[1;33m\u001b[0m\u001b[0m\n\u001b[0;32m   2842\u001b[0m         **({\"data\": data} if data is not None else {}), **kwargs)\n",
      "\u001b[1;32m~\\anaconda3\\lib\\site-packages\\matplotlib\\axes\\_axes.py\u001b[0m in \u001b[0;36mplot\u001b[1;34m(self, scalex, scaley, data, *args, **kwargs)\u001b[0m\n\u001b[0;32m   1741\u001b[0m         \"\"\"\n\u001b[0;32m   1742\u001b[0m         \u001b[0mkwargs\u001b[0m \u001b[1;33m=\u001b[0m \u001b[0mcbook\u001b[0m\u001b[1;33m.\u001b[0m\u001b[0mnormalize_kwargs\u001b[0m\u001b[1;33m(\u001b[0m\u001b[0mkwargs\u001b[0m\u001b[1;33m,\u001b[0m \u001b[0mmlines\u001b[0m\u001b[1;33m.\u001b[0m\u001b[0mLine2D\u001b[0m\u001b[1;33m)\u001b[0m\u001b[1;33m\u001b[0m\u001b[1;33m\u001b[0m\u001b[0m\n\u001b[1;32m-> 1743\u001b[1;33m         \u001b[0mlines\u001b[0m \u001b[1;33m=\u001b[0m \u001b[1;33m[\u001b[0m\u001b[1;33m*\u001b[0m\u001b[0mself\u001b[0m\u001b[1;33m.\u001b[0m\u001b[0m_get_lines\u001b[0m\u001b[1;33m(\u001b[0m\u001b[1;33m*\u001b[0m\u001b[0margs\u001b[0m\u001b[1;33m,\u001b[0m \u001b[0mdata\u001b[0m\u001b[1;33m=\u001b[0m\u001b[0mdata\u001b[0m\u001b[1;33m,\u001b[0m \u001b[1;33m**\u001b[0m\u001b[0mkwargs\u001b[0m\u001b[1;33m)\u001b[0m\u001b[1;33m]\u001b[0m\u001b[1;33m\u001b[0m\u001b[1;33m\u001b[0m\u001b[0m\n\u001b[0m\u001b[0;32m   1744\u001b[0m         \u001b[1;32mfor\u001b[0m \u001b[0mline\u001b[0m \u001b[1;32min\u001b[0m \u001b[0mlines\u001b[0m\u001b[1;33m:\u001b[0m\u001b[1;33m\u001b[0m\u001b[1;33m\u001b[0m\u001b[0m\n\u001b[0;32m   1745\u001b[0m             \u001b[0mself\u001b[0m\u001b[1;33m.\u001b[0m\u001b[0madd_line\u001b[0m\u001b[1;33m(\u001b[0m\u001b[0mline\u001b[0m\u001b[1;33m)\u001b[0m\u001b[1;33m\u001b[0m\u001b[1;33m\u001b[0m\u001b[0m\n",
      "\u001b[1;32m~\\anaconda3\\lib\\site-packages\\matplotlib\\axes\\_base.py\u001b[0m in \u001b[0;36m__call__\u001b[1;34m(self, data, *args, **kwargs)\u001b[0m\n\u001b[0;32m    271\u001b[0m                 \u001b[0mthis\u001b[0m \u001b[1;33m+=\u001b[0m \u001b[0margs\u001b[0m\u001b[1;33m[\u001b[0m\u001b[1;36m0\u001b[0m\u001b[1;33m]\u001b[0m\u001b[1;33m,\u001b[0m\u001b[1;33m\u001b[0m\u001b[1;33m\u001b[0m\u001b[0m\n\u001b[0;32m    272\u001b[0m                 \u001b[0margs\u001b[0m \u001b[1;33m=\u001b[0m \u001b[0margs\u001b[0m\u001b[1;33m[\u001b[0m\u001b[1;36m1\u001b[0m\u001b[1;33m:\u001b[0m\u001b[1;33m]\u001b[0m\u001b[1;33m\u001b[0m\u001b[1;33m\u001b[0m\u001b[0m\n\u001b[1;32m--> 273\u001b[1;33m             \u001b[1;32myield\u001b[0m \u001b[1;32mfrom\u001b[0m \u001b[0mself\u001b[0m\u001b[1;33m.\u001b[0m\u001b[0m_plot_args\u001b[0m\u001b[1;33m(\u001b[0m\u001b[0mthis\u001b[0m\u001b[1;33m,\u001b[0m \u001b[0mkwargs\u001b[0m\u001b[1;33m)\u001b[0m\u001b[1;33m\u001b[0m\u001b[1;33m\u001b[0m\u001b[0m\n\u001b[0m\u001b[0;32m    274\u001b[0m \u001b[1;33m\u001b[0m\u001b[0m\n\u001b[0;32m    275\u001b[0m     \u001b[1;32mdef\u001b[0m \u001b[0mget_next_color\u001b[0m\u001b[1;33m(\u001b[0m\u001b[0mself\u001b[0m\u001b[1;33m)\u001b[0m\u001b[1;33m:\u001b[0m\u001b[1;33m\u001b[0m\u001b[1;33m\u001b[0m\u001b[0m\n",
      "\u001b[1;32m~\\anaconda3\\lib\\site-packages\\matplotlib\\axes\\_base.py\u001b[0m in \u001b[0;36m_plot_args\u001b[1;34m(self, tup, kwargs)\u001b[0m\n\u001b[0;32m    397\u001b[0m \u001b[1;33m\u001b[0m\u001b[0m\n\u001b[0;32m    398\u001b[0m         \u001b[1;32mif\u001b[0m \u001b[0mx\u001b[0m\u001b[1;33m.\u001b[0m\u001b[0mshape\u001b[0m\u001b[1;33m[\u001b[0m\u001b[1;36m0\u001b[0m\u001b[1;33m]\u001b[0m \u001b[1;33m!=\u001b[0m \u001b[0my\u001b[0m\u001b[1;33m.\u001b[0m\u001b[0mshape\u001b[0m\u001b[1;33m[\u001b[0m\u001b[1;36m0\u001b[0m\u001b[1;33m]\u001b[0m\u001b[1;33m:\u001b[0m\u001b[1;33m\u001b[0m\u001b[1;33m\u001b[0m\u001b[0m\n\u001b[1;32m--> 399\u001b[1;33m             raise ValueError(f\"x and y must have same first dimension, but \"\n\u001b[0m\u001b[0;32m    400\u001b[0m                              f\"have shapes {x.shape} and {y.shape}\")\n\u001b[0;32m    401\u001b[0m         \u001b[1;32mif\u001b[0m \u001b[0mx\u001b[0m\u001b[1;33m.\u001b[0m\u001b[0mndim\u001b[0m \u001b[1;33m>\u001b[0m \u001b[1;36m2\u001b[0m \u001b[1;32mor\u001b[0m \u001b[0my\u001b[0m\u001b[1;33m.\u001b[0m\u001b[0mndim\u001b[0m \u001b[1;33m>\u001b[0m \u001b[1;36m2\u001b[0m\u001b[1;33m:\u001b[0m\u001b[1;33m\u001b[0m\u001b[1;33m\u001b[0m\u001b[0m\n",
      "\u001b[1;31mValueError\u001b[0m: x and y must have same first dimension, but have shapes (3,) and (20,)"
     ]
    },
    {
     "data": {
      "image/png": "[encoded data removed]",
      "text/plain": [
       "<Figure size 432x288 with 1 Axes>"
      ]
     },
     "metadata": {
      "needs_background": "light"
     },
     "output_type": "display_data"
    }
   ],
   "source": [
    "iterations = range(0, num_iterations + 1, eval_interval)\n",
    "plt.plot(iterations, returns)\n",
    "plt.ylabel('Average Return')\n",
    "plt.xlabel('Iterations')\n"
   ]
  },
  {
   "cell_type": "code",
   "execution_count": 251,
   "id": "d64e7811-4eec-467d-8f9d-c2e4e4ac760a",
   "metadata": {},
   "outputs": [
    {
     "data": {
      "text/plain": [
       "Text(0.5, 0, 'Iterations')"
      ]
     },
     "execution_count": 251,
     "metadata": {},
     "output_type": "execute_result"
    },
    {
     "data": {
      "image/png": "[encoded data removed]",
      "text/plain": [
       "<Figure size 432x288 with 1 Axes>"
      ]
     },
     "metadata": {
      "needs_background": "light"
     },
     "output_type": "display_data"
    }
   ],
   "source": [
    "iterations = range(0,20)\n",
    "\n",
    "\n",
    "#iterations = range(0, num_iterations + 1, eval_interval)\n",
    "plt.plot(iterations, returns)\n",
    "plt.ylabel('Average Return')\n",
    "plt.xlabel('Iterations')"
   ]
  },
  {
   "cell_type": "code",
   "execution_count": null,
   "id": "c3a0e4e3-3c51-446d-81ce-4708e7c6a284",
   "metadata": {},
   "outputs": [],
   "source": []
  }
 ],
 "metadata": {
  "kernelspec": {
   "display_name": "Python 3",
   "language": "python",
   "name": "python3"
  },
  "language_info": {
   "codemirror_mode": {
    "name": "ipython",
    "version": 3
   },
   "file_extension": ".py",
   "mimetype": "text/x-python",
   "name": "python",
   "nbconvert_exporter": "python",
   "pygments_lexer": "ipython3",
   "version": "3.8.8"
  }
 },
 "nbformat": 4,
 "nbformat_minor": 5
}
