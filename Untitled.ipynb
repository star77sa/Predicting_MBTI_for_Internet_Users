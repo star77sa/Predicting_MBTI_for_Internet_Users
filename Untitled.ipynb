{
 "cells": [
  {
   "cell_type": "markdown",
   "id": "c87f74c2-188c-48a7-811f-354a02cf0c23",
   "metadata": {},
   "source": [
    "$$\n",
    "\\begin{bmatrix}\n",
    "    0 & 1 & 1 & 1\\\\\n",
    "    1 & 0 & 1 & 1\\\\\n",
    "    1 & 1 & 0 & 1\\\\\n",
    "    1 & 1 & 1 & 1\\\\\n",
    "\\end{bmatrix}\n",
    "\\begin{bmatrix}\n",
    "x\\\\\n",
    "y\\\\\n",
    "z\\\\\n",
    "w\\\\\n",
    "\\end{bmatrix}\n",
    "\n",
    "\\begin{bmatrix}\n",
    "3\\\\\n",
    "3\\\\\n",
    "3\\\\\n",
    "3\\\\\n",
    "3\\\\\n",
    "\\end{bmatrix}\n",
    "\n",
    "$$"
   ]
  },
  {
   "cell_type": "markdown",
   "id": "71228f4c-ca81-4365-b6cc-ed0b63346c39",
   "metadata": {},
   "source": [
    "$$ A =\\begin{bmatrix}    0 & 1 & 1 & 1\\\\  1 & 0 & 1 & 1\\\\1 & 1 & 0 & 1\\\\  1 & 1 & 1 & 1\\\\ \\end{bmatrix} \\begin{bmatrix}x\\\\y\\\\z\\\\w\\\\\\end{bmatrix} $$\\begin{bmatrix}3\\\\3\\\\3\\\\3\\\\3\\\\\\end{bmatrix}\n",
    "\n",
    "$$"
   ]
  },
  {
   "cell_type": "code",
   "execution_count": null,
   "id": "1afdd6ae-d21f-4999-abd2-99f5117bad2a",
   "metadata": {},
   "outputs": [],
   "source": []
  }
 ],
 "metadata": {
  "kernelspec": {
   "display_name": "Python 3",
   "language": "python",
   "name": "python3"
  },
  "language_info": {
   "codemirror_mode": {
    "name": "ipython",
    "version": 3
   },
   "file_extension": ".py",
   "mimetype": "text/x-python",
   "name": "python",
   "nbconvert_exporter": "python",
   "pygments_lexer": "ipython3",
   "version": "3.8.8"
  }
 },
 "nbformat": 4,
 "nbformat_minor": 5
}
