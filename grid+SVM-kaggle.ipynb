{
 "cells": [
  {
   "cell_type": "markdown",
   "id": "b895dce9",
   "metadata": {
    "papermill": {
     "duration": 0.05475,
     "end_time": "2022-01-24T11:33:29.924313",
     "exception": false,
     "start_time": "2022-01-24T11:33:29.869563",
     "status": "completed"
    },
    "tags": []
   },
   "source": [
    "# Importing libraries"
   ]
  },
  {
   "cell_type": "code",
   "execution_count": 1,
   "id": "8a7dec48",
   "metadata": {
    "papermill": {
     "duration": 11.507019,
     "end_time": "2022-01-24T11:33:41.485611",
     "exception": false,
     "start_time": "2022-01-24T11:33:29.978592",
     "status": "completed"
    },
    "tags": []
   },
   "outputs": [],
   "source": [
    "import pandas as pd\n",
    "import numpy as np\n",
    "\n",
    "from sklearn.model_selection import train_test_split, GridSearchCV\n",
    "from sklearn.feature_extraction.text import TfidfVectorizer\n",
    "from sklearn.svm import LinearSVC\n",
    "from sklearn.pipeline import Pipeline\n",
    "from sklearn import metrics\n",
    "from sklearn.metrics import classification_report, f1_score\n",
    "\n",
    "import plotly.offline as pyo\n",
    "import plotly.graph_objs as go\n",
    "\n",
    "import re\n",
    "\n",
    "from nltk.stem import WordNetLemmatizer\n",
    "\n",
    "from tqdm import tqdm\n",
    "\n",
    "import seaborn as sns\n",
    "import matplotlib.pyplot as plt"
   ]
  },
  {
   "cell_type": "code",
   "execution_count": 2,
   "id": "d762d1b9-995b-49a8-93ed-a39ce802f31a",
   "metadata": {},
   "outputs": [],
   "source": [
    "import warnings\n",
    "warnings.filterwarnings(action='ignore') "
   ]
  },
  {
   "cell_type": "markdown",
   "id": "10d690fe",
   "metadata": {
    "papermill": {
     "duration": 0.056141,
     "end_time": "2022-01-24T11:33:47.879258",
     "exception": false,
     "start_time": "2022-01-24T11:33:47.823117",
     "status": "completed"
    },
    "tags": []
   },
   "source": [
    "# 데이터 불러오기"
   ]
  },
  {
   "cell_type": "code",
   "execution_count": 3,
   "id": "cbe1c388-7350-415c-866b-0720028ad4e7",
   "metadata": {},
   "outputs": [],
   "source": [
    "# 캐글 데이터\n",
    "df = pd.read_csv('G://내 드라이브/Github/Predictiong_MBTI_for_Internet_Users/MBTI 500.csv', encoding='ISO-8859-1')"
   ]
  },
  {
   "cell_type": "code",
   "execution_count": 4,
   "id": "fc49a0b2-7103-4de6-ba66-6ccd24d70e18",
   "metadata": {},
   "outputs": [
    {
     "data": {
      "text/plain": [
       "<AxesSubplot:xlabel='type', ylabel='count'>"
      ]
     },
     "execution_count": 4,
     "metadata": {},
     "output_type": "execute_result"
    },
    {
     "data": {
      "image/png": "[encoded data removed]",
      "text/plain": [
       "<Figure size 1080x576 with 1 Axes>"
      ]
     },
     "metadata": {
      "needs_background": "light"
     },
     "output_type": "display_data"
    }
   ],
   "source": [
    "plt.figure(figsize=(15,8))\n",
    "\n",
    "sns.countplot(df['type'], order = df['type'].value_counts().index)"
   ]
  },
  {
   "cell_type": "code",
   "execution_count": 5,
   "id": "d273d55f-d6c4-4532-afb7-88a789be4f01",
   "metadata": {},
   "outputs": [
    {
     "data": {
      "text/plain": [
       "INTP    24961\n",
       "INTJ    22427\n",
       "INFJ    14963\n",
       "INFP    12134\n",
       "ENTP    11725\n",
       "ENFP     6167\n",
       "ISTP     3424\n",
       "ENTJ     2955\n",
       "ESTP     1986\n",
       "ENFJ     1534\n",
       "ISTJ     1243\n",
       "ISFP      875\n",
       "ISFJ      650\n",
       "ESTJ      482\n",
       "ESFP      360\n",
       "ESFJ      181\n",
       "Name: type, dtype: int64"
      ]
     },
     "execution_count": 5,
     "metadata": {},
     "output_type": "execute_result"
    }
   ],
   "source": [
    "df['type'].value_counts()"
   ]
  },
  {
   "cell_type": "code",
   "execution_count": 6,
   "id": "75c4e1fa-0cd5-44fc-9e7c-d79aa8bf99be",
   "metadata": {},
   "outputs": [
    {
     "name": "stdout",
     "output_type": "stream",
     "text": [
      "<class 'pandas.core.frame.DataFrame'>\n",
      "RangeIndex: 106067 entries, 0 to 106066\n",
      "Data columns (total 2 columns):\n",
      " #   Column  Non-Null Count   Dtype \n",
      "---  ------  --------------   ----- \n",
      " 0   posts   106067 non-null  object\n",
      " 1   type    106067 non-null  object\n",
      "dtypes: object(2)\n",
      "memory usage: 1.6+ MB\n"
     ]
    }
   ],
   "source": [
    "df.info()"
   ]
  },
  {
   "cell_type": "code",
   "execution_count": 7,
   "id": "81675dd8-b000-4304-8bcd-dbfa2fd27f34",
   "metadata": {},
   "outputs": [],
   "source": [
    "df.columns = ['text', 'type']\n",
    "df = df[['type', 'text']]"
   ]
  },
  {
   "cell_type": "code",
   "execution_count": 8,
   "id": "dcb5c3c0-b80c-4fdc-82f7-22016ab1828a",
   "metadata": {},
   "outputs": [
    {
     "data": {
      "text/html": [
       "<div>\n",
       "<style scoped>\n",
       "    .dataframe tbody tr th:only-of-type {\n",
       "        vertical-align: middle;\n",
       "    }\n",
       "\n",
       "    .dataframe tbody tr th {\n",
       "        vertical-align: top;\n",
       "    }\n",
       "\n",
       "    .dataframe thead th {\n",
       "        text-align: right;\n",
       "    }\n",
       "</style>\n",
       "<table border=\"1\" class=\"dataframe\">\n",
       "  <thead>\n",
       "    <tr style=\"text-align: right;\">\n",
       "      <th></th>\n",
       "      <th>type</th>\n",
       "      <th>text</th>\n",
       "    </tr>\n",
       "  </thead>\n",
       "  <tbody>\n",
       "    <tr>\n",
       "      <th>0</th>\n",
       "      <td>INTJ</td>\n",
       "      <td>know intj tool use interaction people excuse a...</td>\n",
       "    </tr>\n",
       "    <tr>\n",
       "      <th>1</th>\n",
       "      <td>INTJ</td>\n",
       "      <td>rap music ehh opp yeah know valid well know fa...</td>\n",
       "    </tr>\n",
       "    <tr>\n",
       "      <th>2</th>\n",
       "      <td>INTJ</td>\n",
       "      <td>preferably p hd low except wew lad video p min...</td>\n",
       "    </tr>\n",
       "    <tr>\n",
       "      <th>3</th>\n",
       "      <td>INTJ</td>\n",
       "      <td>drink like wish could drink red wine give head...</td>\n",
       "    </tr>\n",
       "    <tr>\n",
       "      <th>4</th>\n",
       "      <td>INTJ</td>\n",
       "      <td>space program ah bad deal meing freelance max ...</td>\n",
       "    </tr>\n",
       "  </tbody>\n",
       "</table>\n",
       "</div>"
      ],
      "text/plain": [
       "   type                                               text\n",
       "0  INTJ  know intj tool use interaction people excuse a...\n",
       "1  INTJ  rap music ehh opp yeah know valid well know fa...\n",
       "2  INTJ  preferably p hd low except wew lad video p min...\n",
       "3  INTJ  drink like wish could drink red wine give head...\n",
       "4  INTJ  space program ah bad deal meing freelance max ..."
      ]
     },
     "execution_count": 8,
     "metadata": {},
     "output_type": "execute_result"
    }
   ],
   "source": [
    "df.head()"
   ]
  },
  {
   "cell_type": "code",
   "execution_count": 24,
   "id": "95cec341",
   "metadata": {
    "papermill": {
     "duration": 0.074413,
     "end_time": "2022-01-24T11:33:57.351624",
     "exception": false,
     "start_time": "2022-01-24T11:33:57.277211",
     "status": "completed"
    },
    "tags": []
   },
   "outputs": [
    {
     "name": "stdout",
     "output_type": "stream",
     "text": [
      "Total of 106067 types of classified MBTI posts\n"
     ]
    }
   ],
   "source": [
    "print(f\"Total of {len(df['type'].unique())} types of classified MBTI posts\")"
   ]
  },
  {
   "cell_type": "markdown",
   "id": "7b2436f5",
   "metadata": {
    "papermill": {
     "duration": 0.056541,
     "end_time": "2022-01-24T11:33:57.467015",
     "exception": false,
     "start_time": "2022-01-24T11:33:57.410474",
     "status": "completed"
    },
    "tags": []
   },
   "source": [
    "# 결측치 확인"
   ]
  },
  {
   "cell_type": "code",
   "execution_count": 26,
   "id": "902c8406",
   "metadata": {
    "papermill": {
     "duration": 0.098632,
     "end_time": "2022-01-24T11:33:57.623222",
     "exception": false,
     "start_time": "2022-01-24T11:33:57.524590",
     "status": "completed"
    },
    "tags": []
   },
   "outputs": [
    {
     "data": {
      "text/plain": [
       "type    0\n",
       "text    0\n",
       "dtype: int64"
      ]
     },
     "execution_count": 26,
     "metadata": {},
     "output_type": "execute_result"
    }
   ],
   "source": [
    "df.isnull().sum()"
   ]
  },
  {
   "cell_type": "markdown",
   "id": "52fa11bc",
   "metadata": {
    "papermill": {
     "duration": 0.05676,
     "end_time": "2022-01-24T11:33:59.432290",
     "exception": false,
     "start_time": "2022-01-24T11:33:59.375530",
     "status": "completed"
    },
    "tags": []
   },
   "source": [
    "# 데이터 전처리 / Train, Validation, Test 분할"
   ]
  },
  {
   "cell_type": "code",
   "execution_count": 9,
   "id": "b774c956-37e2-436f-b61a-4f4eee40c700",
   "metadata": {},
   "outputs": [
    {
     "name": "stderr",
     "output_type": "stream",
     "text": [
      "100%|████████████████████████████████████████████████████████████████████████| 106067/106067 [00:25<00:00, 4113.98it/s]\n"
     ]
    }
   ],
   "source": [
    "#function to clean the text data\n",
    "def clear_text(data):\n",
    "    data_length=[]\n",
    "    lemmatizer=WordNetLemmatizer()\n",
    "    cleaned_text=[]\n",
    "    for sentence in tqdm(data.text):\n",
    "        sentence=sentence.lower()\n",
    "#         removing links from text data\n",
    "        sentence=re.sub('https?://[^\\s<>\"]+|www\\.[^\\s<>\"]+',' ',sentence)\n",
    "#         removing other symbols\n",
    "        sentence=re.sub('[^0-9a-z]',' ',sentence)\n",
    "        data_length.append(len(sentence.split()))\n",
    "        cleaned_text.append(sentence)\n",
    "    return cleaned_text,data_length\n",
    "\n",
    "df.text, _=clear_text(df)"
   ]
  },
  {
   "cell_type": "markdown",
   "id": "fa825935-0f47-4a16-85fe-567ebf414374",
   "metadata": {},
   "source": [
    "## ~~Train : Valid : Test = 7:1:2~~\n",
    "## Train : Test = 8:2"
   ]
  },
  {
   "cell_type": "code",
   "execution_count": 10,
   "id": "dd86336e-42df-400f-88af-222aba240ed7",
   "metadata": {},
   "outputs": [
    {
     "data": {
      "text/html": [
       "<div>\n",
       "<style scoped>\n",
       "    .dataframe tbody tr th:only-of-type {\n",
       "        vertical-align: middle;\n",
       "    }\n",
       "\n",
       "    .dataframe tbody tr th {\n",
       "        vertical-align: top;\n",
       "    }\n",
       "\n",
       "    .dataframe thead th {\n",
       "        text-align: right;\n",
       "    }\n",
       "</style>\n",
       "<table border=\"1\" class=\"dataframe\">\n",
       "  <thead>\n",
       "    <tr style=\"text-align: right;\">\n",
       "      <th></th>\n",
       "      <th>type</th>\n",
       "      <th>text</th>\n",
       "    </tr>\n",
       "  </thead>\n",
       "  <tbody>\n",
       "    <tr>\n",
       "      <th>0</th>\n",
       "      <td>INTJ</td>\n",
       "      <td>know intj tool use interaction people excuse a...</td>\n",
       "    </tr>\n",
       "    <tr>\n",
       "      <th>1</th>\n",
       "      <td>INTJ</td>\n",
       "      <td>rap music ehh opp yeah know valid well know fa...</td>\n",
       "    </tr>\n",
       "    <tr>\n",
       "      <th>2</th>\n",
       "      <td>INTJ</td>\n",
       "      <td>preferably p hd low except wew lad video p min...</td>\n",
       "    </tr>\n",
       "    <tr>\n",
       "      <th>3</th>\n",
       "      <td>INTJ</td>\n",
       "      <td>drink like wish could drink red wine give head...</td>\n",
       "    </tr>\n",
       "    <tr>\n",
       "      <th>4</th>\n",
       "      <td>INTJ</td>\n",
       "      <td>space program ah bad deal meing freelance max ...</td>\n",
       "    </tr>\n",
       "    <tr>\n",
       "      <th>...</th>\n",
       "      <td>...</td>\n",
       "      <td>...</td>\n",
       "    </tr>\n",
       "    <tr>\n",
       "      <th>106062</th>\n",
       "      <td>INFP</td>\n",
       "      <td>stay frustrate world life want take long nap w...</td>\n",
       "    </tr>\n",
       "    <tr>\n",
       "      <th>106063</th>\n",
       "      <td>INFP</td>\n",
       "      <td>fizzle around time mention sure mistake thing ...</td>\n",
       "    </tr>\n",
       "    <tr>\n",
       "      <th>106064</th>\n",
       "      <td>INFP</td>\n",
       "      <td>schedule modify hey w intp strong wing underst...</td>\n",
       "    </tr>\n",
       "    <tr>\n",
       "      <th>106065</th>\n",
       "      <td>INFP</td>\n",
       "      <td>enfj since january busy schedule able spend li...</td>\n",
       "    </tr>\n",
       "    <tr>\n",
       "      <th>106066</th>\n",
       "      <td>INFP</td>\n",
       "      <td>feel like men good problem tell parent want te...</td>\n",
       "    </tr>\n",
       "  </tbody>\n",
       "</table>\n",
       "<p>106067 rows × 2 columns</p>\n",
       "</div>"
      ],
      "text/plain": [
       "        type                                               text\n",
       "0       INTJ  know intj tool use interaction people excuse a...\n",
       "1       INTJ  rap music ehh opp yeah know valid well know fa...\n",
       "2       INTJ  preferably p hd low except wew lad video p min...\n",
       "3       INTJ  drink like wish could drink red wine give head...\n",
       "4       INTJ  space program ah bad deal meing freelance max ...\n",
       "...      ...                                                ...\n",
       "106062  INFP  stay frustrate world life want take long nap w...\n",
       "106063  INFP  fizzle around time mention sure mistake thing ...\n",
       "106064  INFP  schedule modify hey w intp strong wing underst...\n",
       "106065  INFP  enfj since january busy schedule able spend li...\n",
       "106066  INFP  feel like men good problem tell parent want te...\n",
       "\n",
       "[106067 rows x 2 columns]"
      ]
     },
     "execution_count": 10,
     "metadata": {},
     "output_type": "execute_result"
    }
   ],
   "source": [
    "df"
   ]
  },
  {
   "cell_type": "code",
   "execution_count": 11,
   "id": "73c75344",
   "metadata": {
    "papermill": {
     "duration": 0.093136,
     "end_time": "2022-01-24T11:33:59.583273",
     "exception": false,
     "start_time": "2022-01-24T11:33:59.490137",
     "status": "completed"
    },
    "tags": []
   },
   "outputs": [],
   "source": [
    "X = df['text'] # features\n",
    "y = df['type']  # labels\n",
    "\n",
    "X_train, X_test, y_train, y_test = train_test_split(X, y, test_size=0.2, random_state=42)\n",
    "\n",
    "# X_train, X_val, y_train, y_val = train_test_split(X_train, y_train, test_size=0.125, random_state=5)"
   ]
  },
  {
   "cell_type": "markdown",
   "id": "b9da3d5b-110c-4436-87e7-3ac02daa54ab",
   "metadata": {},
   "source": [
    "# Train"
   ]
  },
  {
   "cell_type": "code",
   "execution_count": 12,
   "id": "43b3dd15-b67a-4ddb-a993-0382188455c9",
   "metadata": {},
   "outputs": [],
   "source": [
    "# Creating an instance to vectorizer:\n",
    "vectorizer = TfidfVectorizer(sublinear_tf = True)\n",
    "    \n",
    "# Training the vectorizer:\n",
    "X_train_tfidf = vectorizer.fit_transform(X_train)"
   ]
  },
  {
   "cell_type": "code",
   "execution_count": 13,
   "id": "272a903e-7ca3-4fed-89fb-51434d35a76d",
   "metadata": {},
   "outputs": [
    {
     "data": {
      "text/plain": [
       "<84853x222874 sparse matrix of type '<class 'numpy.float64'>'\n",
       "\twith 28517252 stored elements in Compressed Sparse Row format>"
      ]
     },
     "execution_count": 13,
     "metadata": {},
     "output_type": "execute_result"
    }
   ],
   "source": [
    "X_train_tfidf"
   ]
  },
  {
   "cell_type": "code",
   "execution_count": 14,
   "id": "cf220326-acb5-462d-a790-55eb64132eb4",
   "metadata": {},
   "outputs": [
    {
     "data": {
      "text/plain": [
       "LinearSVC()"
      ]
     },
     "execution_count": 14,
     "metadata": {},
     "output_type": "execute_result"
    }
   ],
   "source": [
    "# Training the classifier:    \n",
    "clf = LinearSVC()\n",
    "clf.fit(X_train_tfidf, y_train)"
   ]
  },
  {
   "cell_type": "markdown",
   "id": "6301e503-a038-4a14-971a-cef0d5c7bc5d",
   "metadata": {},
   "source": [
    "## TEST PIPE"
   ]
  },
  {
   "cell_type": "code",
   "execution_count": 16,
   "id": "3e54d9da-cfc4-4904-afea-cba8886d6eef",
   "metadata": {},
   "outputs": [
    {
     "data": {
      "text/plain": [
       "Pipeline(steps=[('tfidf', TfidfVectorizer(sublinear_tf=True)),\n",
       "                ('svc', LinearSVC())])"
      ]
     },
     "execution_count": 16,
     "metadata": {},
     "output_type": "execute_result"
    }
   ],
   "source": [
    "# Pipelining the vectorizer and the classifier\n",
    "tfidf_tuple = ('tfidf', TfidfVectorizer(sublinear_tf = True))\n",
    "model_tuple = ('svc', LinearSVC())\n",
    "\n",
    "pipe = Pipeline([tfidf_tuple, model_tuple])\n",
    "pipe.fit(X_train, y_train)"
   ]
  },
  {
   "cell_type": "code",
   "execution_count": 17,
   "id": "5c47e635-ac3d-4bb9-93ad-b8a41f30948c",
   "metadata": {},
   "outputs": [
    {
     "data": {
      "text/plain": [
       "GridSearchCV(cv=5,\n",
       "             estimator=Pipeline(steps=[('tfidf',\n",
       "                                        TfidfVectorizer(sublinear_tf=True)),\n",
       "                                       ('svc', LinearSVC())]),\n",
       "             param_grid={'svc__C': array([1.e-03, 1.e-02, 1.e-01, 1.e+00, 1.e+01, 1.e+02])})"
      ]
     },
     "execution_count": 17,
     "metadata": {},
     "output_type": "execute_result"
    }
   ],
   "source": [
    "values = np.array([0.001, 0.01, 0.1, 1, 10, 100])\n",
    "params = {'svc__C':values}\n",
    "\n",
    "grid = GridSearchCV(pipe, param_grid=params, cv = 5)\n",
    "grid.fit(X_train, y_train)"
   ]
  },
  {
   "cell_type": "code",
   "execution_count": 18,
   "id": "725ce2a4-6802-42e9-ae4b-a367763cfddd",
   "metadata": {},
   "outputs": [
    {
     "name": "stdout",
     "output_type": "stream",
     "text": [
      "optimal train score: 0.841\n",
      "test score: 0.846\n",
      "optimal parameter: {'svc__C': 1.0}\n"
     ]
    }
   ],
   "source": [
    "print('optimal train score: {:.3f}'.format(grid.best_score_))\n",
    "print('test score: {:.3f}'.format(grid.score(X_test, y_test)))\n",
    "print('optimal parameter: {}'.format(grid.best_params_))"
   ]
  },
  {
   "cell_type": "code",
   "execution_count": null,
   "id": "63bc2b4b-08f2-463c-acd6-6b631f6eefa5",
   "metadata": {},
   "outputs": [],
   "source": [
    "values = np.array([0.1, 0.3, 0.5, 1, 3, 5, 10])\n",
    "params = {'svc__C':values}\n",
    "\n",
    "grid = GridSearchCV(pipe, param_grid=params, cv = 5)\n",
    "grid.fit(X_train, y_train)"
   ]
  },
  {
   "cell_type": "code",
   "execution_count": null,
   "id": "1d6e84e7-bced-4942-b45b-14122e97a3df",
   "metadata": {},
   "outputs": [],
   "source": [
    "print('optimal train score: {:.3f}'.format(grid.best_score_))\n",
    "print('test score: {:.3f}'.format(grid.score(X_test, y_test)))\n",
    "print('optimal parameter: {}'.format(grid.best_params_))"
   ]
  },
  {
   "cell_type": "code",
   "execution_count": 34,
   "id": "473a8b9a-55b5-4ab1-9ee8-53fcf03c0111",
   "metadata": {},
   "outputs": [
    {
     "data": {
      "text/plain": [
       "{'mean_fit_time': array([ 43.20470281,  48.48983188,  43.67016735,  45.15748944,\n",
       "         77.53243423, 104.12811422]),\n",
       " 'std_fit_time': array([ 4.10953617,  1.60139235,  3.29307578,  1.12047726,  5.98089833,\n",
       "        17.8633192 ]),\n",
       " 'mean_score_time': array([7.89394341, 8.64311852, 7.84752893, 7.176369  , 8.32065024,\n",
       "        8.06001225]),\n",
       " 'std_score_time': array([0.89350803, 0.58494929, 0.80056384, 0.18136744, 0.62169583,\n",
       "        1.4698572 ]),\n",
       " 'param_svc__C': masked_array(data=[0.001, 0.01, 0.1, 1.0, 10.0, 100.0],\n",
       "              mask=[False, False, False, False, False, False],\n",
       "        fill_value='?',\n",
       "             dtype=object),\n",
       " 'params': [{'svc__C': 0.001},\n",
       "  {'svc__C': 0.01},\n",
       "  {'svc__C': 0.1},\n",
       "  {'svc__C': 1.0},\n",
       "  {'svc__C': 10.0},\n",
       "  {'svc__C': 100.0}],\n",
       " 'split0_test_score': array([0.47021389, 0.75634907, 0.83442343, 0.84373343, 0.82187261,\n",
       "        0.8086147 ]),\n",
       " 'split1_test_score': array([0.47451535, 0.757174  , 0.83412881, 0.83807672, 0.81951564,\n",
       "        0.81067704]),\n",
       " 'split2_test_score': array([0.4712156 , 0.75487596, 0.83353957, 0.84037476, 0.81774792,\n",
       "        0.80454894]),\n",
       " 'split3_test_score': array([0.47466117, 0.75721862, 0.835769  , 0.84001179, 0.81873895,\n",
       "        0.80589275]),\n",
       " 'split4_test_score': array([0.47206836, 0.76222746, 0.83883324, 0.8415439 , 0.82156747,\n",
       "        0.80807307]),\n",
       " 'mean_test_score': array([0.47253487, 0.75756902, 0.83533881, 0.84074812, 0.81988852,\n",
       "        0.8075613 ]),\n",
       " 'std_test_score': array([0.00177699, 0.00247874, 0.00189396, 0.00186351, 0.00159989,\n",
       "        0.00214186]),\n",
       " 'rank_test_score': array([6, 5, 2, 1, 3, 4])}"
      ]
     },
     "execution_count": 34,
     "metadata": {},
     "output_type": "execute_result"
    }
   ],
   "source": [
    "grid.cv_results_"
   ]
  },
  {
   "cell_type": "markdown",
   "id": "8b15f62e-6b62-46a2-b2c2-1c1d6d54ff68",
   "metadata": {
    "papermill": {
     "duration": 0.056649,
     "end_time": "2022-01-24T11:37:08.405936",
     "exception": false,
     "start_time": "2022-01-24T11:37:08.349287",
     "status": "completed"
    },
    "tags": []
   },
   "source": [
    "# test Set 사용하여 정확도 측정"
   ]
  },
  {
   "cell_type": "code",
   "execution_count": 19,
   "id": "d9d76f86-9c82-4fe9-892c-2db55a1a9f1f",
   "metadata": {},
   "outputs": [
    {
     "data": {
      "text/plain": [
       "Pipeline(steps=[('tfidf', TfidfVectorizer(sublinear_tf=True)),\n",
       "                ('clf', LinearSVC(C=0.5))])"
      ]
     },
     "execution_count": 19,
     "metadata": {},
     "output_type": "execute_result"
    }
   ],
   "source": [
    "text_clf = Pipeline([('tfidf',TfidfVectorizer(sublinear_tf = True)),('clf',LinearSVC(C = 0.5))])\n",
    "\n",
    "text_clf.fit(X_train, y_train)"
   ]
  },
  {
   "cell_type": "code",
   "execution_count": 24,
   "id": "e7a89ebe-76a2-46ab-bda2-5bac8a7b418a",
   "metadata": {
    "papermill": {
     "duration": 13.587157,
     "end_time": "2022-01-24T11:37:22.050686",
     "exception": false,
     "start_time": "2022-01-24T11:37:08.463529",
     "status": "completed"
    },
    "tags": []
   },
   "outputs": [],
   "source": [
    "predictions = text_clf.predict(X_test)"
   ]
  },
  {
   "cell_type": "code",
   "execution_count": 25,
   "id": "61846a85-5c9c-4889-8757-b9f7d2f55cf1",
   "metadata": {},
   "outputs": [
    {
     "data": {
      "text/plain": [
       "array(['INTP', 'INTJ', 'INTP', ..., 'INFJ', 'ENTP', 'INFJ'], dtype=object)"
      ]
     },
     "execution_count": 25,
     "metadata": {},
     "output_type": "execute_result"
    }
   ],
   "source": [
    "predictions"
   ]
  },
  {
   "cell_type": "code",
   "execution_count": 26,
   "id": "3872811f-5e40-4630-9468-32945cff2358",
   "metadata": {
    "papermill": {
     "duration": 1.152028,
     "end_time": "2022-01-24T11:37:23.262153",
     "exception": false,
     "start_time": "2022-01-24T11:37:22.110125",
     "status": "completed"
    },
    "tags": []
   },
   "outputs": [
    {
     "name": "stdout",
     "output_type": "stream",
     "text": [
      "              precision    recall  f1-score   support\n",
      "\n",
      "        ENFJ       0.90      0.61      0.73       319\n",
      "        ENFP       0.84      0.79      0.82      1249\n",
      "        ENTJ       0.91      0.80      0.85       577\n",
      "        ENTP       0.88      0.84      0.86      2324\n",
      "        ESFJ       1.00      0.42      0.60        33\n",
      "        ESFP       0.89      0.44      0.59        75\n",
      "        ESTJ       0.95      0.82      0.88       105\n",
      "        ESTP       0.95      0.91      0.93       398\n",
      "        INFJ       0.83      0.86      0.85      2954\n",
      "        INFP       0.81      0.84      0.83      2391\n",
      "        INTJ       0.85      0.89      0.86      4531\n",
      "        INTP       0.85      0.89      0.87      5033\n",
      "        ISFJ       0.85      0.54      0.66       132\n",
      "        ISFP       0.81      0.59      0.68       161\n",
      "        ISTJ       0.90      0.67      0.77       253\n",
      "        ISTP       0.89      0.82      0.85       679\n",
      "\n",
      "    accuracy                           0.85     21214\n",
      "   macro avg       0.88      0.73      0.79     21214\n",
      "weighted avg       0.85      0.85      0.85     21214\n",
      "\n"
     ]
    }
   ],
   "source": [
    "print(classification_report(y_test, predictions))"
   ]
  },
  {
   "cell_type": "code",
   "execution_count": 30,
   "id": "c0b6136f-e1fe-4762-8672-fa9457f8a83e",
   "metadata": {
    "papermill": {
     "duration": 0.108088,
     "end_time": "2022-01-24T11:37:23.427835",
     "exception": false,
     "start_time": "2022-01-24T11:37:23.319747",
     "status": "completed"
    },
    "tags": []
   },
   "outputs": [
    {
     "name": "stdout",
     "output_type": "stream",
     "text": [
      "Overall accuracy of the model: 0.85\n"
     ]
    }
   ],
   "source": [
    "print(f\"Overall accuracy of the model: {round(metrics.accuracy_score(y_test, predictions),4)}\")"
   ]
  },
  {
   "cell_type": "markdown",
   "id": "59ec42d8-68ef-42ae-ab64-ad3630ca0c32",
   "metadata": {},
   "source": [
    "---"
   ]
  },
  {
   "cell_type": "markdown",
   "id": "666e1306-f1ce-444b-9757-9b303dfe4ef4",
   "metadata": {},
   "source": [
    "### 결과 저장소"
   ]
  },
  {
   "attachments": {
    "76504475-8880-4435-8a2b-43dc41ba21e2.png": {
     "image/png": "[encoded data removed]"
    }
   },
   "cell_type": "markdown",
   "id": "b2c39a5d-bd1a-4a43-9871-832f42543749",
   "metadata": {},
   "source": [
    "![download.png](attachment:76504475-8880-4435-8a2b-43dc41ba21e2.png)"
   ]
  },
  {
   "cell_type": "code",
   "execution_count": null,
   "id": "f508c97b-1554-40dc-af21-493b3fc68b44",
   "metadata": {},
   "outputs": [],
   "source": []
  }
 ],
 "metadata": {
  "kernelspec": {
   "display_name": "Python 3",
   "language": "python",
   "name": "python3"
  },
  "language_info": {
   "codemirror_mode": {
    "name": "ipython",
    "version": 3
   },
   "file_extension": ".py",
   "mimetype": "text/x-python",
   "name": "python",
   "nbconvert_exporter": "python",
   "pygments_lexer": "ipython3",
   "version": "3.8.8"
  },
  "papermill": {
   "default_parameters": {},
   "duration": 247.963482,
   "end_time": "2022-01-24T11:37:26.913576",
   "environment_variables": {},
   "exception": null,
   "input_path": "__notebook__.ipynb",
   "output_path": "__notebook__.ipynb",
   "parameters": {},
   "start_time": "2022-01-24T11:33:18.950094",
   "version": "2.3.3"
  }
 },
 "nbformat": 4,
 "nbformat_minor": 5
}
